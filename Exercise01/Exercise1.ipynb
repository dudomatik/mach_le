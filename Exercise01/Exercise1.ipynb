{
 "cells": [
  {
   "cell_type": "markdown",
   "metadata": {
    "id": "dfjRPxKIcE-n"
   },
   "source": [
    "## Exercise 1: Data Loading, Inspection and Visualization\n",
    "For this exercise, we use NBA data `nba_stats.csv` provided.\n"
   ]
  },
  {
   "cell_type": "code",
   "execution_count": 1,
   "metadata": {
    "id": "VFxE6lmZkyWW"
   },
   "outputs": [],
   "source": [
    "# Import requiered packages\n",
    "import pandas as pd\n",
    "import matplotlib.pyplot as plt"
   ]
  },
  {
   "cell_type": "markdown",
   "metadata": {},
   "source": [
    "#### 1. Load the dataset."
   ]
  },
  {
   "cell_type": "code",
   "execution_count": 2,
   "metadata": {},
   "outputs": [],
   "source": [
    "df = pd.read_csv(\"nba_stats.csv\")"
   ]
  },
  {
   "cell_type": "markdown",
   "metadata": {
    "colab": {
     "base_uri": "https://localhost:8080/",
     "height": 204
    },
    "id": "zsDyWkz528x1",
    "outputId": "e84eda28-60bd-4dec-8691-68a9c1b097d3"
   },
   "source": [
    "#### 2. Get an overview of the dataset"
   ]
  },
  {
   "cell_type": "code",
   "execution_count": 8,
   "metadata": {},
   "outputs": [
    {
     "data": {
      "text/html": [
       "<div>\n",
       "<style scoped>\n",
       "    .dataframe tbody tr th:only-of-type {\n",
       "        vertical-align: middle;\n",
       "    }\n",
       "\n",
       "    .dataframe tbody tr th {\n",
       "        vertical-align: top;\n",
       "    }\n",
       "\n",
       "    .dataframe thead th {\n",
       "        text-align: right;\n",
       "    }\n",
       "</style>\n",
       "<table border=\"1\" class=\"dataframe\">\n",
       "  <thead>\n",
       "    <tr style=\"text-align: right;\">\n",
       "      <th></th>\n",
       "      <th>Year</th>\n",
       "      <th>Player</th>\n",
       "      <th>Pos</th>\n",
       "      <th>Age</th>\n",
       "      <th>Tm</th>\n",
       "      <th>MP</th>\n",
       "      <th>FT</th>\n",
       "      <th>TRB</th>\n",
       "      <th>AST</th>\n",
       "      <th>STL</th>\n",
       "      <th>BLK</th>\n",
       "      <th>TOV</th>\n",
       "      <th>PF</th>\n",
       "      <th>PTS</th>\n",
       "    </tr>\n",
       "  </thead>\n",
       "  <tbody>\n",
       "    <tr>\n",
       "      <th>0</th>\n",
       "      <td>2017</td>\n",
       "      <td>Ivica Zubac</td>\n",
       "      <td>C</td>\n",
       "      <td>19</td>\n",
       "      <td>LAL</td>\n",
       "      <td>609</td>\n",
       "      <td>32</td>\n",
       "      <td>159</td>\n",
       "      <td>30</td>\n",
       "      <td>14</td>\n",
       "      <td>33</td>\n",
       "      <td>30</td>\n",
       "      <td>66</td>\n",
       "      <td>284</td>\n",
       "    </tr>\n",
       "    <tr>\n",
       "      <th>1</th>\n",
       "      <td>2017</td>\n",
       "      <td>Gerald Green</td>\n",
       "      <td>SF</td>\n",
       "      <td>31</td>\n",
       "      <td>BOS</td>\n",
       "      <td>538</td>\n",
       "      <td>33</td>\n",
       "      <td>85</td>\n",
       "      <td>33</td>\n",
       "      <td>9</td>\n",
       "      <td>7</td>\n",
       "      <td>25</td>\n",
       "      <td>48</td>\n",
       "      <td>262</td>\n",
       "    </tr>\n",
       "    <tr>\n",
       "      <th>2</th>\n",
       "      <td>2017</td>\n",
       "      <td>Danny Green</td>\n",
       "      <td>SG</td>\n",
       "      <td>29</td>\n",
       "      <td>SAS</td>\n",
       "      <td>1807</td>\n",
       "      <td>27</td>\n",
       "      <td>224</td>\n",
       "      <td>124</td>\n",
       "      <td>71</td>\n",
       "      <td>58</td>\n",
       "      <td>76</td>\n",
       "      <td>120</td>\n",
       "      <td>497</td>\n",
       "    </tr>\n",
       "    <tr>\n",
       "      <th>3</th>\n",
       "      <td>2017</td>\n",
       "      <td>Jerian Grant</td>\n",
       "      <td>PG</td>\n",
       "      <td>24</td>\n",
       "      <td>CHI</td>\n",
       "      <td>1028</td>\n",
       "      <td>65</td>\n",
       "      <td>111</td>\n",
       "      <td>120</td>\n",
       "      <td>47</td>\n",
       "      <td>8</td>\n",
       "      <td>44</td>\n",
       "      <td>93</td>\n",
       "      <td>370</td>\n",
       "    </tr>\n",
       "    <tr>\n",
       "      <th>4</th>\n",
       "      <td>2017</td>\n",
       "      <td>Jerami Grant</td>\n",
       "      <td>SF</td>\n",
       "      <td>22</td>\n",
       "      <td>OKC</td>\n",
       "      <td>1490</td>\n",
       "      <td>86</td>\n",
       "      <td>199</td>\n",
       "      <td>46</td>\n",
       "      <td>33</td>\n",
       "      <td>75</td>\n",
       "      <td>41</td>\n",
       "      <td>144</td>\n",
       "      <td>421</td>\n",
       "    </tr>\n",
       "    <tr>\n",
       "      <th>...</th>\n",
       "      <td>...</td>\n",
       "      <td>...</td>\n",
       "      <td>...</td>\n",
       "      <td>...</td>\n",
       "      <td>...</td>\n",
       "      <td>...</td>\n",
       "      <td>...</td>\n",
       "      <td>...</td>\n",
       "      <td>...</td>\n",
       "      <td>...</td>\n",
       "      <td>...</td>\n",
       "      <td>...</td>\n",
       "      <td>...</td>\n",
       "      <td>...</td>\n",
       "    </tr>\n",
       "    <tr>\n",
       "      <th>19640</th>\n",
       "      <td>1978</td>\n",
       "      <td>Eddie Owens</td>\n",
       "      <td>SF</td>\n",
       "      <td>24</td>\n",
       "      <td>BUF</td>\n",
       "      <td>63</td>\n",
       "      <td>3</td>\n",
       "      <td>10</td>\n",
       "      <td>5</td>\n",
       "      <td>1</td>\n",
       "      <td>0</td>\n",
       "      <td>3</td>\n",
       "      <td>9</td>\n",
       "      <td>21</td>\n",
       "    </tr>\n",
       "    <tr>\n",
       "      <th>19641</th>\n",
       "      <td>1978</td>\n",
       "      <td>Tom Owens</td>\n",
       "      <td>C</td>\n",
       "      <td>28</td>\n",
       "      <td>POR</td>\n",
       "      <td>1714</td>\n",
       "      <td>206</td>\n",
       "      <td>541</td>\n",
       "      <td>160</td>\n",
       "      <td>33</td>\n",
       "      <td>37</td>\n",
       "      <td>152</td>\n",
       "      <td>263</td>\n",
       "      <td>832</td>\n",
       "    </tr>\n",
       "    <tr>\n",
       "      <th>19642</th>\n",
       "      <td>1978</td>\n",
       "      <td>Joe Pace</td>\n",
       "      <td>C</td>\n",
       "      <td>24</td>\n",
       "      <td>WSB</td>\n",
       "      <td>438</td>\n",
       "      <td>57</td>\n",
       "      <td>134</td>\n",
       "      <td>23</td>\n",
       "      <td>12</td>\n",
       "      <td>21</td>\n",
       "      <td>44</td>\n",
       "      <td>86</td>\n",
       "      <td>191</td>\n",
       "    </tr>\n",
       "    <tr>\n",
       "      <th>19643</th>\n",
       "      <td>1978</td>\n",
       "      <td>Robert Parish*</td>\n",
       "      <td>C</td>\n",
       "      <td>24</td>\n",
       "      <td>GSW</td>\n",
       "      <td>1969</td>\n",
       "      <td>165</td>\n",
       "      <td>680</td>\n",
       "      <td>95</td>\n",
       "      <td>79</td>\n",
       "      <td>123</td>\n",
       "      <td>201</td>\n",
       "      <td>291</td>\n",
       "      <td>1025</td>\n",
       "    </tr>\n",
       "    <tr>\n",
       "      <th>19644</th>\n",
       "      <td>1978</td>\n",
       "      <td>Willie Norwood</td>\n",
       "      <td>SF</td>\n",
       "      <td>30</td>\n",
       "      <td>DET</td>\n",
       "      <td>260</td>\n",
       "      <td>20</td>\n",
       "      <td>54</td>\n",
       "      <td>14</td>\n",
       "      <td>13</td>\n",
       "      <td>3</td>\n",
       "      <td>17</td>\n",
       "      <td>45</td>\n",
       "      <td>88</td>\n",
       "    </tr>\n",
       "  </tbody>\n",
       "</table>\n",
       "<p>19645 rows × 14 columns</p>\n",
       "</div>"
      ],
      "text/plain": [
       "       Year          Player Pos  Age   Tm    MP   FT  TRB  AST  STL  BLK  TOV  \\\n",
       "0      2017     Ivica Zubac   C   19  LAL   609   32  159   30   14   33   30   \n",
       "1      2017    Gerald Green  SF   31  BOS   538   33   85   33    9    7   25   \n",
       "2      2017     Danny Green  SG   29  SAS  1807   27  224  124   71   58   76   \n",
       "3      2017    Jerian Grant  PG   24  CHI  1028   65  111  120   47    8   44   \n",
       "4      2017    Jerami Grant  SF   22  OKC  1490   86  199   46   33   75   41   \n",
       "...     ...             ...  ..  ...  ...   ...  ...  ...  ...  ...  ...  ...   \n",
       "19640  1978     Eddie Owens  SF   24  BUF    63    3   10    5    1    0    3   \n",
       "19641  1978       Tom Owens   C   28  POR  1714  206  541  160   33   37  152   \n",
       "19642  1978        Joe Pace   C   24  WSB   438   57  134   23   12   21   44   \n",
       "19643  1978  Robert Parish*   C   24  GSW  1969  165  680   95   79  123  201   \n",
       "19644  1978  Willie Norwood  SF   30  DET   260   20   54   14   13    3   17   \n",
       "\n",
       "        PF   PTS  \n",
       "0       66   284  \n",
       "1       48   262  \n",
       "2      120   497  \n",
       "3       93   370  \n",
       "4      144   421  \n",
       "...    ...   ...  \n",
       "19640    9    21  \n",
       "19641  263   832  \n",
       "19642   86   191  \n",
       "19643  291  1025  \n",
       "19644   45    88  \n",
       "\n",
       "[19645 rows x 14 columns]"
      ]
     },
     "execution_count": 8,
     "metadata": {},
     "output_type": "execute_result"
    }
   ],
   "source": [
    "df"
   ]
  },
  {
   "cell_type": "code",
   "execution_count": 3,
   "metadata": {},
   "outputs": [
    {
     "data": {
      "text/html": [
       "<div>\n",
       "<style scoped>\n",
       "    .dataframe tbody tr th:only-of-type {\n",
       "        vertical-align: middle;\n",
       "    }\n",
       "\n",
       "    .dataframe tbody tr th {\n",
       "        vertical-align: top;\n",
       "    }\n",
       "\n",
       "    .dataframe thead th {\n",
       "        text-align: right;\n",
       "    }\n",
       "</style>\n",
       "<table border=\"1\" class=\"dataframe\">\n",
       "  <thead>\n",
       "    <tr style=\"text-align: right;\">\n",
       "      <th></th>\n",
       "      <th>Year</th>\n",
       "      <th>Player</th>\n",
       "      <th>Pos</th>\n",
       "      <th>Age</th>\n",
       "      <th>Tm</th>\n",
       "      <th>MP</th>\n",
       "      <th>FT</th>\n",
       "      <th>TRB</th>\n",
       "      <th>AST</th>\n",
       "      <th>STL</th>\n",
       "      <th>BLK</th>\n",
       "      <th>TOV</th>\n",
       "      <th>PF</th>\n",
       "      <th>PTS</th>\n",
       "    </tr>\n",
       "  </thead>\n",
       "  <tbody>\n",
       "    <tr>\n",
       "      <th>0</th>\n",
       "      <td>2017</td>\n",
       "      <td>Ivica Zubac</td>\n",
       "      <td>C</td>\n",
       "      <td>19</td>\n",
       "      <td>LAL</td>\n",
       "      <td>609</td>\n",
       "      <td>32</td>\n",
       "      <td>159</td>\n",
       "      <td>30</td>\n",
       "      <td>14</td>\n",
       "      <td>33</td>\n",
       "      <td>30</td>\n",
       "      <td>66</td>\n",
       "      <td>284</td>\n",
       "    </tr>\n",
       "    <tr>\n",
       "      <th>1</th>\n",
       "      <td>2017</td>\n",
       "      <td>Gerald Green</td>\n",
       "      <td>SF</td>\n",
       "      <td>31</td>\n",
       "      <td>BOS</td>\n",
       "      <td>538</td>\n",
       "      <td>33</td>\n",
       "      <td>85</td>\n",
       "      <td>33</td>\n",
       "      <td>9</td>\n",
       "      <td>7</td>\n",
       "      <td>25</td>\n",
       "      <td>48</td>\n",
       "      <td>262</td>\n",
       "    </tr>\n",
       "    <tr>\n",
       "      <th>2</th>\n",
       "      <td>2017</td>\n",
       "      <td>Danny Green</td>\n",
       "      <td>SG</td>\n",
       "      <td>29</td>\n",
       "      <td>SAS</td>\n",
       "      <td>1807</td>\n",
       "      <td>27</td>\n",
       "      <td>224</td>\n",
       "      <td>124</td>\n",
       "      <td>71</td>\n",
       "      <td>58</td>\n",
       "      <td>76</td>\n",
       "      <td>120</td>\n",
       "      <td>497</td>\n",
       "    </tr>\n",
       "    <tr>\n",
       "      <th>3</th>\n",
       "      <td>2017</td>\n",
       "      <td>Jerian Grant</td>\n",
       "      <td>PG</td>\n",
       "      <td>24</td>\n",
       "      <td>CHI</td>\n",
       "      <td>1028</td>\n",
       "      <td>65</td>\n",
       "      <td>111</td>\n",
       "      <td>120</td>\n",
       "      <td>47</td>\n",
       "      <td>8</td>\n",
       "      <td>44</td>\n",
       "      <td>93</td>\n",
       "      <td>370</td>\n",
       "    </tr>\n",
       "    <tr>\n",
       "      <th>4</th>\n",
       "      <td>2017</td>\n",
       "      <td>Jerami Grant</td>\n",
       "      <td>SF</td>\n",
       "      <td>22</td>\n",
       "      <td>OKC</td>\n",
       "      <td>1490</td>\n",
       "      <td>86</td>\n",
       "      <td>199</td>\n",
       "      <td>46</td>\n",
       "      <td>33</td>\n",
       "      <td>75</td>\n",
       "      <td>41</td>\n",
       "      <td>144</td>\n",
       "      <td>421</td>\n",
       "    </tr>\n",
       "  </tbody>\n",
       "</table>\n",
       "</div>"
      ],
      "text/plain": [
       "   Year        Player Pos  Age   Tm    MP  FT  TRB  AST  STL  BLK  TOV   PF  \\\n",
       "0  2017   Ivica Zubac   C   19  LAL   609  32  159   30   14   33   30   66   \n",
       "1  2017  Gerald Green  SF   31  BOS   538  33   85   33    9    7   25   48   \n",
       "2  2017   Danny Green  SG   29  SAS  1807  27  224  124   71   58   76  120   \n",
       "3  2017  Jerian Grant  PG   24  CHI  1028  65  111  120   47    8   44   93   \n",
       "4  2017  Jerami Grant  SF   22  OKC  1490  86  199   46   33   75   41  144   \n",
       "\n",
       "   PTS  \n",
       "0  284  \n",
       "1  262  \n",
       "2  497  \n",
       "3  370  \n",
       "4  421  "
      ]
     },
     "execution_count": 3,
     "metadata": {},
     "output_type": "execute_result"
    }
   ],
   "source": [
    "df.head()"
   ]
  },
  {
   "cell_type": "code",
   "execution_count": 6,
   "metadata": {},
   "outputs": [
    {
     "data": {
      "text/plain": [
       "(array([1.200e+01, 1.070e+02, 0.000e+00, 2.780e+02, 0.000e+00, 5.430e+02,\n",
       "        0.000e+00, 1.435e+03, 0.000e+00, 2.108e+03, 0.000e+00, 2.160e+03,\n",
       "        0.000e+00, 1.925e+03, 0.000e+00, 1.856e+03, 0.000e+00, 1.656e+03,\n",
       "        0.000e+00, 1.426e+03, 0.000e+00, 1.263e+03, 0.000e+00, 1.178e+03,\n",
       "        0.000e+00, 9.820e+02, 8.010e+02, 0.000e+00, 6.150e+02, 0.000e+00,\n",
       "        4.810e+02, 0.000e+00, 3.200e+02, 0.000e+00, 1.990e+02, 0.000e+00,\n",
       "        1.380e+02, 0.000e+00, 9.000e+01, 0.000e+00, 4.700e+01, 0.000e+00,\n",
       "        1.600e+01, 0.000e+00, 4.000e+00, 0.000e+00, 3.000e+00, 0.000e+00,\n",
       "        1.000e+00, 1.000e+00]),\n",
       " array([18.  , 18.52, 19.04, 19.56, 20.08, 20.6 , 21.12, 21.64, 22.16,\n",
       "        22.68, 23.2 , 23.72, 24.24, 24.76, 25.28, 25.8 , 26.32, 26.84,\n",
       "        27.36, 27.88, 28.4 , 28.92, 29.44, 29.96, 30.48, 31.  , 31.52,\n",
       "        32.04, 32.56, 33.08, 33.6 , 34.12, 34.64, 35.16, 35.68, 36.2 ,\n",
       "        36.72, 37.24, 37.76, 38.28, 38.8 , 39.32, 39.84, 40.36, 40.88,\n",
       "        41.4 , 41.92, 42.44, 42.96, 43.48, 44.  ]),\n",
       " <BarContainer object of 50 artists>)"
      ]
     },
     "execution_count": 6,
     "metadata": {},
     "output_type": "execute_result"
    },
    {
     "data": {
      "image/png": "[encoded data removed]",
      "text/plain": [
       "<Figure size 640x480 with 1 Axes>"
      ]
     },
     "metadata": {},
     "output_type": "display_data"
    }
   ],
   "source": [
    "plt.hist(x = df[\"Age\"], bins =50)"
   ]
  },
  {
   "cell_type": "markdown",
   "metadata": {
    "id": "KzdSEbjU4lhq"
   },
   "source": [
    "###### 1. Find the average age of the players for the year 2017."
   ]
  },
  {
   "cell_type": "code",
   "execution_count": 7,
   "metadata": {},
   "outputs": [
    {
     "data": {
      "text/plain": [
       "26.803614151183506"
      ]
     },
     "execution_count": 7,
     "metadata": {},
     "output_type": "execute_result"
    }
   ],
   "source": [
    "mean_age = df[\"Age\"].mean()\n",
    "mean_age"
   ]
  },
  {
   "cell_type": "markdown",
   "metadata": {
    "id": "1297AnJi442Y"
   },
   "source": [
    "###### 2. Plot the total number of points (`PTS`) per year since 2000."
   ]
  },
  {
   "cell_type": "code",
   "execution_count": 42,
   "metadata": {},
   "outputs": [
    {
     "data": {
      "text/plain": [
       "array([1978, 1979, 1980, 1981, 1982, 1983, 1984, 1985, 1986, 1987, 1988,\n",
       "       1989, 1990, 1991, 1992, 1993, 1994, 1995, 1996, 1997, 1998, 1999,\n",
       "       2000, 2001, 2002, 2003, 2004, 2005, 2006, 2007, 2008, 2009, 2010,\n",
       "       2011, 2012, 2013, 2014, 2015, 2016, 2017], dtype=int64)"
      ]
     },
     "execution_count": 42,
     "metadata": {},
     "output_type": "execute_result"
    }
   ],
   "source": [
    "years = df['Year'].unique()\n",
    "years.sort()\n",
    "years"
   ]
  },
  {
   "cell_type": "code",
   "execution_count": 71,
   "metadata": {},
   "outputs": [
    {
     "data": {
      "text/plain": [
       "[<matplotlib.lines.Line2D at 0x2066d593c10>]"
      ]
     },
     "execution_count": 71,
     "metadata": {},
     "output_type": "execute_result"
    },
    {
     "data": {
      "image/png": "[encoded data removed]",
      "text/plain": [
       "<Figure size 640x480 with 1 Axes>"
      ]
     },
     "metadata": {},
     "output_type": "display_data"
    }
   ],
   "source": [
    "pts_per_yr = df.loc[df[\"Year\"] >= 2000, [\"Year\", \"PTS\"]].groupby(\"Year\").sum()\n",
    "\n",
    "fig, ax = plt.subplots()\n",
    "ax.plot(pts_per_yr.index, pts_per_yr[\"PTS\"])"
   ]
  },
  {
   "cell_type": "markdown",
   "metadata": {
    "id": "0x26BZp390bp"
   },
   "source": [
    "###### 3. Plot the number of players per year since 2010. What is the year with the most players?"
   ]
  },
  {
   "cell_type": "code",
   "execution_count": 79,
   "metadata": {},
   "outputs": [
    {
     "data": {
      "text/plain": [
       "[<matplotlib.lines.Line2D at 0x2066d5e33d0>]"
      ]
     },
     "execution_count": 79,
     "metadata": {},
     "output_type": "execute_result"
    },
    {
     "data": {
      "image/png": "[encoded data removed]",
      "text/plain": [
       "<Figure size 640x480 with 1 Axes>"
      ]
     },
     "metadata": {},
     "output_type": "display_data"
    }
   ],
   "source": [
    "players = df.loc[df[\"Year\"] >= 2010, [\"Year\", \"Player\"]]\n",
    "n_players = players.groupby(\"Year\")[\"Player\"].nunique()\n",
    "\n",
    "fig, ax = plt.subplots()\n",
    "ax.plot(n_players.index, n_players)"
   ]
  }
 ],
 "metadata": {
  "colab": {
   "authorship_tag": "ABX9TyMGQSXPDnwvhfsfH00XG7VF",
   "collapsed_sections": [],
   "include_colab_link": true,
   "name": "Exercises_Solutions.ipynb",
   "provenance": []
  },
  "kernelspec": {
   "display_name": "Python 3 (ipykernel)",
   "language": "python",
   "name": "python3"
  },
  "language_info": {
   "codemirror_mode": {
    "name": "ipython",
    "version": 3
   },
   "file_extension": ".py",
   "mimetype": "text/x-python",
   "name": "python",
   "nbconvert_exporter": "python",
   "pygments_lexer": "ipython3",
   "version": "3.11.5"
  }
 },
 "nbformat": 4,
 "nbformat_minor": 1
}
