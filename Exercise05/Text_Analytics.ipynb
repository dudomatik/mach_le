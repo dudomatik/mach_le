{
 "cells": [
  {
   "cell_type": "markdown",
   "metadata": {
    "id": "onO46LysT2dh"
   },
   "source": [
    "# Text Analytics\n",
    "\n",
    "[Text Analytics](https://people.ischool.berkeley.edu/~hearst/text-mining.html) (or text mining) is the process of deriving high-quality information from text. It involves \"the discovery by computer of new, previously unknown information, by automatically extracting information from different written resources.\" Written resources may include websites, books, emails, reviews, and articles.\n",
    "\n",
    "### Applications\n",
    "There are many applications of text analytics, for example:\n",
    "* Search for relevant websites or articles using a search engine\n",
    "* Sentiment Analysis (e.g. classify tweets or film reviews as positive, neutral or negative)\n",
    "* Chatbots (e.g. Siri, Alexa)\n",
    "* Project idea: The Impact of Donald Trump’s Tweets on Financial Markets\n",
    "* Etc.\n",
    "\n",
    "### Some important concepts\n",
    "* Document = some text i.e. a string (e.g. a sentence, a tweet, paragraph of text, book, news article, etc.).\n",
    "* Corpus = collection of documents.\n",
    "* Dictionary = list of unique tokens in (preprocessed) corpus.\n",
    "\n",
    "### Tokenization and Stopwords\n",
    "Tokens are the elementary building blocks (words, numbers, characters) in a document. Tokenization is the process of splitting an input\n",
    "sequence into tokens. Example: \"I love data science\" --> \"I\", \"love\", \"data\", \"science\". Stopwords are common words that appear very frequently (e.g. \"is\", \"and\", \"you\", etc.). It is convenient to remove them as they do not add much to the content of a document and are therefore generally not useful for text analysis or, worse still, make it worse by adding noise.\n",
    "\n",
    "### Lemmatization and Stemming\n",
    "* Goal: have the same token for different forms of a word (e.g. fishing, fished, fisher, fishers, etc.)\n",
    "* Lemmatization: Find what is the lemma of a word (e.g. feet -> foot)\n",
    "* Stemming: one method for lemmatization where rules that remove the ending of a word are applied (e.g. fishing -> fish)\n",
    "\n",
    "\n",
    "### Text Representation\n",
    "* Goal: transform text into numerical features such that it can be used ML algorithms.\n",
    "* Bag of Words (BOW): works in many case but order is not preserved (solution: n-grams)\n",
    "* TF-IDF: emphasizes important words\n",
    "* Text embeddings: dense vector representations reflecting text semantics.\n"
   ]
  },
  {
   "cell_type": "markdown",
   "metadata": {
    "id": "RXlVy05IUC-D"
   },
   "source": [
    "## Text Preparation\n",
    "In this section, we explain how to prepare a text for analysis. This includes tockeninzing the text, removing stopwords, etc."
   ]
  },
  {
   "cell_type": "markdown",
   "metadata": {
    "id": "EA4tt9roTp8T"
   },
   "source": [
    "### 1. Install spaCy and gensim\n",
    "[spaCy](https://spacy.io/) is an open-source natural language processing library for Python. It is designed particularly for production use, and it can help us to build applications that process massive volumes of text efficiently.\n",
    "\n",
    "We install the library and its English-language model."
   ]
  },
  {
   "cell_type": "code",
   "execution_count": 1,
   "metadata": {
    "id": "gf6I0JIYTp8U"
   },
   "outputs": [
    {
     "name": "stdout",
     "output_type": "stream",
     "text": [
      "Requirement already satisfied: spacy in /Users/bogo/opt/anaconda3/envs/MachLe310/lib/python3.10/site-packages (3.7.2)\n",
      "Requirement already satisfied: spacy-legacy<3.1.0,>=3.0.11 in /Users/bogo/opt/anaconda3/envs/MachLe310/lib/python3.10/site-packages (from spacy) (3.0.12)\n",
      "Requirement already satisfied: spacy-loggers<2.0.0,>=1.0.0 in /Users/bogo/opt/anaconda3/envs/MachLe310/lib/python3.10/site-packages (from spacy) (1.0.5)\n",
      "Requirement already satisfied: murmurhash<1.1.0,>=0.28.0 in /Users/bogo/opt/anaconda3/envs/MachLe310/lib/python3.10/site-packages (from spacy) (1.0.10)\n",
      "Requirement already satisfied: cymem<2.1.0,>=2.0.2 in /Users/bogo/opt/anaconda3/envs/MachLe310/lib/python3.10/site-packages (from spacy) (2.0.8)\n",
      "Requirement already satisfied: preshed<3.1.0,>=3.0.2 in /Users/bogo/opt/anaconda3/envs/MachLe310/lib/python3.10/site-packages (from spacy) (3.0.9)\n",
      "Requirement already satisfied: thinc<8.3.0,>=8.1.8 in /Users/bogo/opt/anaconda3/envs/MachLe310/lib/python3.10/site-packages (from spacy) (8.2.1)\n",
      "Requirement already satisfied: wasabi<1.2.0,>=0.9.1 in /Users/bogo/opt/anaconda3/envs/MachLe310/lib/python3.10/site-packages (from spacy) (1.1.2)\n",
      "Requirement already satisfied: srsly<3.0.0,>=2.4.3 in /Users/bogo/opt/anaconda3/envs/MachLe310/lib/python3.10/site-packages (from spacy) (2.4.8)\n",
      "Requirement already satisfied: catalogue<2.1.0,>=2.0.6 in /Users/bogo/opt/anaconda3/envs/MachLe310/lib/python3.10/site-packages (from spacy) (2.0.10)\n",
      "Requirement already satisfied: weasel<0.4.0,>=0.1.0 in /Users/bogo/opt/anaconda3/envs/MachLe310/lib/python3.10/site-packages (from spacy) (0.3.3)\n",
      "Requirement already satisfied: typer<0.10.0,>=0.3.0 in /Users/bogo/opt/anaconda3/envs/MachLe310/lib/python3.10/site-packages (from spacy) (0.9.0)\n",
      "Requirement already satisfied: smart-open<7.0.0,>=5.2.1 in /Users/bogo/opt/anaconda3/envs/MachLe310/lib/python3.10/site-packages (from spacy) (6.4.0)\n",
      "Requirement already satisfied: tqdm<5.0.0,>=4.38.0 in /Users/bogo/opt/anaconda3/envs/MachLe310/lib/python3.10/site-packages (from spacy) (4.66.1)\n",
      "Requirement already satisfied: requests<3.0.0,>=2.13.0 in /Users/bogo/opt/anaconda3/envs/MachLe310/lib/python3.10/site-packages (from spacy) (2.31.0)\n",
      "Requirement already satisfied: pydantic!=1.8,!=1.8.1,<3.0.0,>=1.7.4 in /Users/bogo/opt/anaconda3/envs/MachLe310/lib/python3.10/site-packages (from spacy) (2.4.2)\n",
      "Requirement already satisfied: jinja2 in /Users/bogo/opt/anaconda3/envs/MachLe310/lib/python3.10/site-packages (from spacy) (3.1.2)\n",
      "Requirement already satisfied: setuptools in /Users/bogo/opt/anaconda3/envs/MachLe310/lib/python3.10/site-packages (from spacy) (68.0.0)\n",
      "Requirement already satisfied: packaging>=20.0 in /Users/bogo/opt/anaconda3/envs/MachLe310/lib/python3.10/site-packages (from spacy) (23.1)\n",
      "Requirement already satisfied: langcodes<4.0.0,>=3.2.0 in /Users/bogo/opt/anaconda3/envs/MachLe310/lib/python3.10/site-packages (from spacy) (3.3.0)\n",
      "Requirement already satisfied: numpy>=1.19.0 in /Users/bogo/opt/anaconda3/envs/MachLe310/lib/python3.10/site-packages (from spacy) (1.25.2)\n",
      "Requirement already satisfied: annotated-types>=0.4.0 in /Users/bogo/opt/anaconda3/envs/MachLe310/lib/python3.10/site-packages (from pydantic!=1.8,!=1.8.1,<3.0.0,>=1.7.4->spacy) (0.6.0)\n",
      "Requirement already satisfied: pydantic-core==2.10.1 in /Users/bogo/opt/anaconda3/envs/MachLe310/lib/python3.10/site-packages (from pydantic!=1.8,!=1.8.1,<3.0.0,>=1.7.4->spacy) (2.10.1)\n",
      "Requirement already satisfied: typing-extensions>=4.6.1 in /Users/bogo/opt/anaconda3/envs/MachLe310/lib/python3.10/site-packages (from pydantic!=1.8,!=1.8.1,<3.0.0,>=1.7.4->spacy) (4.7.1)\n",
      "Requirement already satisfied: charset-normalizer<4,>=2 in /Users/bogo/opt/anaconda3/envs/MachLe310/lib/python3.10/site-packages (from requests<3.0.0,>=2.13.0->spacy) (2.0.4)\n",
      "Requirement already satisfied: idna<4,>=2.5 in /Users/bogo/opt/anaconda3/envs/MachLe310/lib/python3.10/site-packages (from requests<3.0.0,>=2.13.0->spacy) (3.4)\n",
      "Requirement already satisfied: urllib3<3,>=1.21.1 in /Users/bogo/opt/anaconda3/envs/MachLe310/lib/python3.10/site-packages (from requests<3.0.0,>=2.13.0->spacy) (1.26.16)\n",
      "Requirement already satisfied: certifi>=2017.4.17 in /Users/bogo/opt/anaconda3/envs/MachLe310/lib/python3.10/site-packages (from requests<3.0.0,>=2.13.0->spacy) (2023.7.22)\n",
      "Requirement already satisfied: blis<0.8.0,>=0.7.8 in /Users/bogo/opt/anaconda3/envs/MachLe310/lib/python3.10/site-packages (from thinc<8.3.0,>=8.1.8->spacy) (0.7.11)\n",
      "Requirement already satisfied: confection<1.0.0,>=0.0.1 in /Users/bogo/opt/anaconda3/envs/MachLe310/lib/python3.10/site-packages (from thinc<8.3.0,>=8.1.8->spacy) (0.1.3)\n",
      "Requirement already satisfied: click<9.0.0,>=7.1.1 in /Users/bogo/opt/anaconda3/envs/MachLe310/lib/python3.10/site-packages (from typer<0.10.0,>=0.3.0->spacy) (8.1.7)\n",
      "Requirement already satisfied: cloudpathlib<0.17.0,>=0.7.0 in /Users/bogo/opt/anaconda3/envs/MachLe310/lib/python3.10/site-packages (from weasel<0.4.0,>=0.1.0->spacy) (0.16.0)\n",
      "Requirement already satisfied: MarkupSafe>=2.0 in /Users/bogo/opt/anaconda3/envs/MachLe310/lib/python3.10/site-packages (from jinja2->spacy) (2.1.1)\n",
      "\u001b[38;5;3m⚠ As of spaCy v3.0, shortcuts like 'en' are deprecated. Please use the\n",
      "full pipeline package name 'en_core_web_sm' instead.\u001b[0m\n",
      "Collecting en-core-web-sm==3.7.0\n",
      "  Downloading https://github.com/explosion/spacy-models/releases/download/en_core_web_sm-3.7.0/en_core_web_sm-3.7.0-py3-none-any.whl (12.8 MB)\n",
      "\u001b[2K     \u001b[90m━━━━━━━━━━━━━━━━━━━━━━━━━━━━━━━━━━━━━━━━\u001b[0m \u001b[32m12.8/12.8 MB\u001b[0m \u001b[31m27.2 MB/s\u001b[0m eta \u001b[36m0:00:00\u001b[0m00:01\u001b[0m00:01\u001b[0m\n",
      "\u001b[?25hRequirement already satisfied: spacy<3.8.0,>=3.7.0 in /Users/bogo/opt/anaconda3/envs/MachLe310/lib/python3.10/site-packages (from en-core-web-sm==3.7.0) (3.7.2)\n",
      "Requirement already satisfied: spacy-legacy<3.1.0,>=3.0.11 in /Users/bogo/opt/anaconda3/envs/MachLe310/lib/python3.10/site-packages (from spacy<3.8.0,>=3.7.0->en-core-web-sm==3.7.0) (3.0.12)\n",
      "Requirement already satisfied: spacy-loggers<2.0.0,>=1.0.0 in /Users/bogo/opt/anaconda3/envs/MachLe310/lib/python3.10/site-packages (from spacy<3.8.0,>=3.7.0->en-core-web-sm==3.7.0) (1.0.5)\n",
      "Requirement already satisfied: murmurhash<1.1.0,>=0.28.0 in /Users/bogo/opt/anaconda3/envs/MachLe310/lib/python3.10/site-packages (from spacy<3.8.0,>=3.7.0->en-core-web-sm==3.7.0) (1.0.10)\n",
      "Requirement already satisfied: cymem<2.1.0,>=2.0.2 in /Users/bogo/opt/anaconda3/envs/MachLe310/lib/python3.10/site-packages (from spacy<3.8.0,>=3.7.0->en-core-web-sm==3.7.0) (2.0.8)\n",
      "Requirement already satisfied: preshed<3.1.0,>=3.0.2 in /Users/bogo/opt/anaconda3/envs/MachLe310/lib/python3.10/site-packages (from spacy<3.8.0,>=3.7.0->en-core-web-sm==3.7.0) (3.0.9)\n",
      "Requirement already satisfied: thinc<8.3.0,>=8.1.8 in /Users/bogo/opt/anaconda3/envs/MachLe310/lib/python3.10/site-packages (from spacy<3.8.0,>=3.7.0->en-core-web-sm==3.7.0) (8.2.1)\n",
      "Requirement already satisfied: wasabi<1.2.0,>=0.9.1 in /Users/bogo/opt/anaconda3/envs/MachLe310/lib/python3.10/site-packages (from spacy<3.8.0,>=3.7.0->en-core-web-sm==3.7.0) (1.1.2)\n",
      "Requirement already satisfied: srsly<3.0.0,>=2.4.3 in /Users/bogo/opt/anaconda3/envs/MachLe310/lib/python3.10/site-packages (from spacy<3.8.0,>=3.7.0->en-core-web-sm==3.7.0) (2.4.8)\n",
      "Requirement already satisfied: catalogue<2.1.0,>=2.0.6 in /Users/bogo/opt/anaconda3/envs/MachLe310/lib/python3.10/site-packages (from spacy<3.8.0,>=3.7.0->en-core-web-sm==3.7.0) (2.0.10)\n",
      "Requirement already satisfied: weasel<0.4.0,>=0.1.0 in /Users/bogo/opt/anaconda3/envs/MachLe310/lib/python3.10/site-packages (from spacy<3.8.0,>=3.7.0->en-core-web-sm==3.7.0) (0.3.3)\n",
      "Requirement already satisfied: typer<0.10.0,>=0.3.0 in /Users/bogo/opt/anaconda3/envs/MachLe310/lib/python3.10/site-packages (from spacy<3.8.0,>=3.7.0->en-core-web-sm==3.7.0) (0.9.0)\n",
      "Requirement already satisfied: smart-open<7.0.0,>=5.2.1 in /Users/bogo/opt/anaconda3/envs/MachLe310/lib/python3.10/site-packages (from spacy<3.8.0,>=3.7.0->en-core-web-sm==3.7.0) (6.4.0)\n",
      "Requirement already satisfied: tqdm<5.0.0,>=4.38.0 in /Users/bogo/opt/anaconda3/envs/MachLe310/lib/python3.10/site-packages (from spacy<3.8.0,>=3.7.0->en-core-web-sm==3.7.0) (4.66.1)\n",
      "Requirement already satisfied: requests<3.0.0,>=2.13.0 in /Users/bogo/opt/anaconda3/envs/MachLe310/lib/python3.10/site-packages (from spacy<3.8.0,>=3.7.0->en-core-web-sm==3.7.0) (2.31.0)\n",
      "Requirement already satisfied: pydantic!=1.8,!=1.8.1,<3.0.0,>=1.7.4 in /Users/bogo/opt/anaconda3/envs/MachLe310/lib/python3.10/site-packages (from spacy<3.8.0,>=3.7.0->en-core-web-sm==3.7.0) (2.4.2)\n",
      "Requirement already satisfied: jinja2 in /Users/bogo/opt/anaconda3/envs/MachLe310/lib/python3.10/site-packages (from spacy<3.8.0,>=3.7.0->en-core-web-sm==3.7.0) (3.1.2)\n",
      "Requirement already satisfied: setuptools in /Users/bogo/opt/anaconda3/envs/MachLe310/lib/python3.10/site-packages (from spacy<3.8.0,>=3.7.0->en-core-web-sm==3.7.0) (68.0.0)\n",
      "Requirement already satisfied: packaging>=20.0 in /Users/bogo/opt/anaconda3/envs/MachLe310/lib/python3.10/site-packages (from spacy<3.8.0,>=3.7.0->en-core-web-sm==3.7.0) (23.1)\n",
      "Requirement already satisfied: langcodes<4.0.0,>=3.2.0 in /Users/bogo/opt/anaconda3/envs/MachLe310/lib/python3.10/site-packages (from spacy<3.8.0,>=3.7.0->en-core-web-sm==3.7.0) (3.3.0)\n",
      "Requirement already satisfied: numpy>=1.19.0 in /Users/bogo/opt/anaconda3/envs/MachLe310/lib/python3.10/site-packages (from spacy<3.8.0,>=3.7.0->en-core-web-sm==3.7.0) (1.25.2)\n",
      "Requirement already satisfied: annotated-types>=0.4.0 in /Users/bogo/opt/anaconda3/envs/MachLe310/lib/python3.10/site-packages (from pydantic!=1.8,!=1.8.1,<3.0.0,>=1.7.4->spacy<3.8.0,>=3.7.0->en-core-web-sm==3.7.0) (0.6.0)\n",
      "Requirement already satisfied: pydantic-core==2.10.1 in /Users/bogo/opt/anaconda3/envs/MachLe310/lib/python3.10/site-packages (from pydantic!=1.8,!=1.8.1,<3.0.0,>=1.7.4->spacy<3.8.0,>=3.7.0->en-core-web-sm==3.7.0) (2.10.1)\n",
      "Requirement already satisfied: typing-extensions>=4.6.1 in /Users/bogo/opt/anaconda3/envs/MachLe310/lib/python3.10/site-packages (from pydantic!=1.8,!=1.8.1,<3.0.0,>=1.7.4->spacy<3.8.0,>=3.7.0->en-core-web-sm==3.7.0) (4.7.1)\n",
      "Requirement already satisfied: charset-normalizer<4,>=2 in /Users/bogo/opt/anaconda3/envs/MachLe310/lib/python3.10/site-packages (from requests<3.0.0,>=2.13.0->spacy<3.8.0,>=3.7.0->en-core-web-sm==3.7.0) (2.0.4)\n",
      "Requirement already satisfied: idna<4,>=2.5 in /Users/bogo/opt/anaconda3/envs/MachLe310/lib/python3.10/site-packages (from requests<3.0.0,>=2.13.0->spacy<3.8.0,>=3.7.0->en-core-web-sm==3.7.0) (3.4)\n",
      "Requirement already satisfied: urllib3<3,>=1.21.1 in /Users/bogo/opt/anaconda3/envs/MachLe310/lib/python3.10/site-packages (from requests<3.0.0,>=2.13.0->spacy<3.8.0,>=3.7.0->en-core-web-sm==3.7.0) (1.26.16)\n",
      "Requirement already satisfied: certifi>=2017.4.17 in /Users/bogo/opt/anaconda3/envs/MachLe310/lib/python3.10/site-packages (from requests<3.0.0,>=2.13.0->spacy<3.8.0,>=3.7.0->en-core-web-sm==3.7.0) (2023.7.22)\n"
     ]
    },
    {
     "name": "stdout",
     "output_type": "stream",
     "text": [
      "Requirement already satisfied: blis<0.8.0,>=0.7.8 in /Users/bogo/opt/anaconda3/envs/MachLe310/lib/python3.10/site-packages (from thinc<8.3.0,>=8.1.8->spacy<3.8.0,>=3.7.0->en-core-web-sm==3.7.0) (0.7.11)\n",
      "Requirement already satisfied: confection<1.0.0,>=0.0.1 in /Users/bogo/opt/anaconda3/envs/MachLe310/lib/python3.10/site-packages (from thinc<8.3.0,>=8.1.8->spacy<3.8.0,>=3.7.0->en-core-web-sm==3.7.0) (0.1.3)\n",
      "Requirement already satisfied: click<9.0.0,>=7.1.1 in /Users/bogo/opt/anaconda3/envs/MachLe310/lib/python3.10/site-packages (from typer<0.10.0,>=0.3.0->spacy<3.8.0,>=3.7.0->en-core-web-sm==3.7.0) (8.1.7)\n",
      "Requirement already satisfied: cloudpathlib<0.17.0,>=0.7.0 in /Users/bogo/opt/anaconda3/envs/MachLe310/lib/python3.10/site-packages (from weasel<0.4.0,>=0.1.0->spacy<3.8.0,>=3.7.0->en-core-web-sm==3.7.0) (0.16.0)\n",
      "Requirement already satisfied: MarkupSafe>=2.0 in /Users/bogo/opt/anaconda3/envs/MachLe310/lib/python3.10/site-packages (from jinja2->spacy<3.8.0,>=3.7.0->en-core-web-sm==3.7.0) (2.1.1)\n",
      "\u001b[38;5;2m✔ Download and installation successful\u001b[0m\n",
      "You can now load the package via spacy.load('en_core_web_sm')\n",
      "Requirement already satisfied: gensim in /Users/bogo/opt/anaconda3/envs/MachLe310/lib/python3.10/site-packages (4.3.2)\n",
      "Requirement already satisfied: numpy>=1.18.5 in /Users/bogo/opt/anaconda3/envs/MachLe310/lib/python3.10/site-packages (from gensim) (1.25.2)\n",
      "Requirement already satisfied: scipy>=1.7.0 in /Users/bogo/opt/anaconda3/envs/MachLe310/lib/python3.10/site-packages (from gensim) (1.11.1)\n",
      "Requirement already satisfied: smart-open>=1.8.1 in /Users/bogo/opt/anaconda3/envs/MachLe310/lib/python3.10/site-packages (from gensim) (6.4.0)\n"
     ]
    }
   ],
   "source": [
    "# Install and update spaCy\n",
    "!pip install -U spacy\n",
    "\n",
    "# Download the english language model\n",
    "!python -m spacy download en\n",
    "\n",
    "!pip install -U gensim"
   ]
  },
  {
   "cell_type": "code",
   "execution_count": 2,
   "metadata": {
    "id": "FhOeeRlqTp8Z"
   },
   "outputs": [],
   "source": [
    "# Import required packages\n",
    "import spacy\n",
    "from spacy import displacy\n",
    "from sklearn.feature_extraction.text import CountVectorizer, TfidfVectorizer\n",
    "import pandas as pd\n",
    "import numpy as np"
   ]
  },
  {
   "cell_type": "markdown",
   "metadata": {
    "id": "XUibE-SyTp8d"
   },
   "source": [
    "### 2. Tokenization\n",
    "\n",
    "Tokenization is the process of breaking a text into pieces called tokens. A token simply refers to an individual part of a sentence having some semantic value. SpaCy‘s tokenizer takes input in form of unicode text and outputs a sequence of token objects. In addition, SpaCy automatically breaks your document into tokens when a document is created using the language model.\n",
    "\n",
    "Let’s take a look at a simple example. Imagine we have the following text, and we would like to tokenize it:\n",
    "\n",
    "> When learning machine learning, you shouldn't get discouraged!\n",
    "\n",
    "> Challenges and setbacks aren't failures, they're just part of the journey. You've got this!\n",
    "\n",
    "There are a couple of different ways we can appoach this. The first is called __word tokenization__, which means breaking up the text into individual words. This is a critical step for many language processing applications, as they often require inputs in the form of individual words rather than longer strings of text."
   ]
  },
  {
   "cell_type": "code",
   "execution_count": 3,
   "metadata": {
    "id": "Dj9OfB1BTp8e"
   },
   "outputs": [
    {
     "data": {
      "text/plain": [
       "When learning data science, you shouldn't get discouraged!\n",
       "Challenges and setbacks aren't failures, they're just part of the journey. You've got this!"
      ]
     },
     "execution_count": 3,
     "metadata": {},
     "output_type": "execute_result"
    }
   ],
   "source": [
    "# Load English language model\n",
    "sp = spacy.load('en_core_web_sm')\n",
    "\n",
    "# This is our text\n",
    "text = \"\"\"When learning data science, you shouldn't get discouraged!\n",
    "Challenges and setbacks aren't failures, they're just part of the journey. You've got this!\"\"\"\n",
    "\n",
    "# spaCy object is used to create a document\n",
    "my_doc = sp(text)\n",
    "\n",
    "my_doc"
   ]
  },
  {
   "cell_type": "code",
   "execution_count": 4,
   "metadata": {
    "id": "hc7fwTbPZdXJ"
   },
   "outputs": [
    {
     "data": {
      "text/plain": [
       "spacy.tokens.doc.Doc"
      ]
     },
     "execution_count": 4,
     "metadata": {},
     "output_type": "execute_result"
    }
   ],
   "source": [
    "# This is a spaCy document\n",
    "type(my_doc)"
   ]
  },
  {
   "cell_type": "code",
   "execution_count": 5,
   "metadata": {
    "id": "ex7-T-BkYXZM"
   },
   "outputs": [
    {
     "data": {
      "text/plain": [
       "['When',\n",
       " 'learning',\n",
       " 'data',\n",
       " 'science',\n",
       " ',',\n",
       " 'you',\n",
       " 'should',\n",
       " \"n't\",\n",
       " 'get',\n",
       " 'discouraged',\n",
       " '!',\n",
       " '\\n',\n",
       " 'Challenges',\n",
       " 'and',\n",
       " 'setbacks',\n",
       " 'are',\n",
       " \"n't\",\n",
       " 'failures',\n",
       " ',',\n",
       " 'they',\n",
       " \"'re\",\n",
       " 'just',\n",
       " 'part',\n",
       " 'of',\n",
       " 'the',\n",
       " 'journey',\n",
       " '.',\n",
       " 'You',\n",
       " \"'ve\",\n",
       " 'got',\n",
       " 'this',\n",
       " '!']"
      ]
     },
     "execution_count": 5,
     "metadata": {},
     "output_type": "execute_result"
    }
   ],
   "source": [
    "# Create list of tokens\n",
    "token_list = []\n",
    "\n",
    "for token in my_doc:\n",
    "    token_list.append(token.text)\n",
    "\n",
    "token_list"
   ]
  },
  {
   "cell_type": "markdown",
   "metadata": {
    "id": "Xi29AcSsTp8j"
   },
   "source": [
    "As we can see, spaCy produces a list that contains each token as a separate item. Notice that it has recognized that contractions such as _shouldn’t_ actually represent two distinct words, and has thus broken them down into two distinct tokens.\n",
    "\n",
    "In the example above, we first load the language dictionary. Here we load the english one using `spacy.load('en_core_web_sm')` create an object of this class, \"sp\", which is used to create documents with linguistic annotations and various language properties. After creating the document, we create a list of tokens.\n",
    "\n",
    "We can also see the parts-of-speech (POS) of each of these tokens using the `.pos_` attribute, as shown below. POS tagging can be really useful, particularly if you have words or tokens that can have multiple POS tags. For instance, the word \"fish\" can be used as both a noun and verb, depending upon the context."
   ]
  },
  {
   "cell_type": "code",
   "execution_count": 6,
   "metadata": {
    "id": "NvkGwDJoWoIs"
   },
   "outputs": [
    {
     "name": "stdout",
     "output_type": "stream",
     "text": [
      "When SCONJ\n",
      "learning VERB\n",
      "data NOUN\n",
      "science NOUN\n",
      ", PUNCT\n",
      "you PRON\n",
      "should AUX\n",
      "n't PART\n",
      "get AUX\n",
      "discouraged VERB\n",
      "! PUNCT\n",
      "\n",
      " SPACE\n",
      "Challenges NOUN\n",
      "and CCONJ\n",
      "setbacks NOUN\n",
      "are AUX\n",
      "n't PART\n",
      "failures NOUN\n",
      ", PUNCT\n",
      "they PRON\n",
      "'re AUX\n",
      "just ADV\n",
      "part NOUN\n",
      "of ADP\n",
      "the DET\n",
      "journey NOUN\n",
      ". PUNCT\n",
      "You PRON\n",
      "'ve AUX\n",
      "got VERB\n",
      "this PRON\n",
      "! PUNCT\n"
     ]
    }
   ],
   "source": [
    "# POS\n",
    "for word in my_doc:\n",
    "    print(word.text, word.pos_)"
   ]
  },
  {
   "cell_type": "code",
   "execution_count": 7,
   "metadata": {
    "id": "cUsKHgp7Y3yM"
   },
   "outputs": [
    {
     "name": "stdout",
     "output_type": "stream",
     "text": [
      "I PRON\n",
      "like VERB\n",
      "to PART\n",
      "fish VERB\n",
      "-----------------\n",
      "I PRON\n",
      "eat VERB\n",
      "a DET\n",
      "fish NOUN\n"
     ]
    }
   ],
   "source": [
    "# Another example\n",
    "doc1 = sp(\"I like to fish\") # verb\n",
    "doc2 = sp(\"I eat a fish\") # noun\n",
    "\n",
    "for word in doc1:\n",
    "  print(word.text, word.pos_)\n",
    "\n",
    "print(\"-----------------\")\n",
    "\n",
    "for word in doc2:\n",
    "  print(word.text, word.pos_)"
   ]
  },
  {
   "cell_type": "markdown",
   "metadata": {
    "id": "dCiU1-PDXKpp"
   },
   "source": [
    "\n",
    "If we want, we can also break the text into sentences rather than words. This is called __sentence tokenization__. When performing sentence tokenization, the tokenizer looks for specific characters that normally fall between sentences, like periods, exclaimation points, and newline characters."
   ]
  },
  {
   "cell_type": "code",
   "execution_count": 8,
   "metadata": {
    "id": "odi_WkNZTp8k"
   },
   "outputs": [
    {
     "data": {
      "text/plain": [
       "[\"When learning data science, you shouldn't get discouraged!\\n\",\n",
       " \"Challenges and setbacks aren't failures, they're just part of the journey.\",\n",
       " \"You've got this!\"]"
      ]
     },
     "execution_count": 8,
     "metadata": {},
     "output_type": "execute_result"
    }
   ],
   "source": [
    "# create list of sentence tokens\n",
    "sents_list = []\n",
    "\n",
    "for sent in my_doc.sents:\n",
    "    sents_list.append(sent.text)\n",
    "\n",
    "sents_list"
   ]
  },
  {
   "cell_type": "markdown",
   "metadata": {
    "id": "Q_Z6MiCtTp8n"
   },
   "source": [
    "### 3. Remove Stopwords\n",
    "Most text data that we work with is going to contain a lot of words that are not actually useful to us. These words, called stopwords, are useful in human speech, but they do not have much to contribute to the meaning of a sentence. Removing stopwords helps us eliminate noise and distraction from our text data, and also speeds up the time of the analysis (since there are fewer words to process). This makes text analysis more efficient.\n",
    "\n",
    "Let’s take a look at the stopwords spaCy includes by default."
   ]
  },
  {
   "cell_type": "code",
   "execution_count": 9,
   "metadata": {
    "id": "_kB8kI0eTp8o"
   },
   "outputs": [
    {
     "name": "stdout",
     "output_type": "stream",
     "text": [
      "Number of stopwords: 326\n",
      "20 stopwords: ['hereby', 'whole', 'least', 'forty', 'regarding', 're', 'eleven', 'behind', 'him', 'other', 'had', 'then', 'that', 'enough', 'just', 'no', 'hereafter', 'very', 'ca', 'otherwise']\n"
     ]
    }
   ],
   "source": [
    "# Import stopwords from English language\n",
    "spacy_stopwords = spacy.lang.en.stop_words.STOP_WORDS\n",
    "\n",
    "# Print total number of stopwords\n",
    "print('Number of stopwords: %d' % len(spacy_stopwords))\n",
    "\n",
    "# Print 20 stopwords\n",
    "print('20 stopwords: %s' % list(spacy_stopwords)[:20])"
   ]
  },
  {
   "cell_type": "markdown",
   "metadata": {
    "id": "aw0Wfvu4Tp8q"
   },
   "source": [
    "Now that we’ve got our list of stopwords, let’s use it to remove the stopwords from the text string we were working on in the previous section."
   ]
  },
  {
   "cell_type": "code",
   "execution_count": 10,
   "metadata": {
    "id": "Eq5yvoZtlhsd"
   },
   "outputs": [
    {
     "data": {
      "text/plain": [
       "When learning data science, you shouldn't get discouraged!\n",
       "Challenges and setbacks aren't failures, they're just part of the journey. You've got this!"
      ]
     },
     "execution_count": 10,
     "metadata": {},
     "output_type": "execute_result"
    }
   ],
   "source": [
    "# Which words will be removed?\n",
    "my_doc"
   ]
  },
  {
   "cell_type": "code",
   "execution_count": 11,
   "metadata": {
    "id": "y54Kiz9zTp8r"
   },
   "outputs": [
    {
     "data": {
      "text/plain": [
       "['learning',\n",
       " 'data',\n",
       " 'science',\n",
       " ',',\n",
       " 'discouraged',\n",
       " '!',\n",
       " '\\n',\n",
       " 'Challenges',\n",
       " 'setbacks',\n",
       " 'failures',\n",
       " ',',\n",
       " 'journey',\n",
       " '.',\n",
       " 'got',\n",
       " '!']"
      ]
     },
     "execution_count": 11,
     "metadata": {},
     "output_type": "execute_result"
    }
   ],
   "source": [
    "# Declare list for filtered sentence\n",
    "filtered_sent = []\n",
    "\n",
    "# Filter stopwords\n",
    "for word in my_doc:\n",
    "    if word.is_stop == False:\n",
    "        filtered_sent.append(word.text)\n",
    "\n",
    "filtered_sent"
   ]
  },
  {
   "cell_type": "code",
   "execution_count": 12,
   "metadata": {
    "id": "UOvM2NFdl29W"
   },
   "outputs": [
    {
     "data": {
      "text/plain": [
       "['When',\n",
       " ',',\n",
       " 'you',\n",
       " 'should',\n",
       " \"n't\",\n",
       " 'get',\n",
       " '!',\n",
       " '\\n',\n",
       " 'and',\n",
       " 'are',\n",
       " \"n't\",\n",
       " ',',\n",
       " 'they',\n",
       " \"'re\",\n",
       " 'just',\n",
       " 'part',\n",
       " 'of',\n",
       " 'the',\n",
       " '.',\n",
       " 'You',\n",
       " \"'ve\",\n",
       " 'this',\n",
       " '!']"
      ]
     },
     "execution_count": 12,
     "metadata": {},
     "output_type": "execute_result"
    }
   ],
   "source": [
    "# We can also remove the punctuation\n",
    "filtered_sent2 = []\n",
    "removed_tokens = []\n",
    "\n",
    "# Filter stopwords, punctuation and spaces\n",
    "for word in my_doc:\n",
    "  if (word.is_stop == True) or (word.is_punct == True) or (word.is_space == True):\n",
    "    removed_tokens.append(word.text)\n",
    "  else:\n",
    "    filtered_sent2.append(word.text)\n",
    "\n",
    "removed_tokens"
   ]
  },
  {
   "cell_type": "code",
   "execution_count": 13,
   "metadata": {
    "id": "mw-ebvZom1EP"
   },
   "outputs": [
    {
     "data": {
      "text/plain": [
       "['learning',\n",
       " 'data',\n",
       " 'science',\n",
       " 'discouraged',\n",
       " 'Challenges',\n",
       " 'setbacks',\n",
       " 'failures',\n",
       " 'journey',\n",
       " 'got']"
      ]
     },
     "execution_count": 13,
     "metadata": {},
     "output_type": "execute_result"
    }
   ],
   "source": [
    "filtered_sent2"
   ]
  },
  {
   "cell_type": "markdown",
   "metadata": {
    "id": "imbw_TUkTp8v"
   },
   "source": [
    "### 4. Lemmatization\n",
    "Lemmatization is a way of dealing with the fact that while words like connect, connection, connecting, connected, etc. aren’t exactly the same, they all have the same essential meaning: connect. The differences in spelling have grammatical functions in spoken language, but for machine processing, those differences can be confusing, so we need a way to change all the words that are forms of the word connect into the word connect itself.\n",
    "\n",
    "One method for doing this is called __stemming__. Stemming involves simply lopping off easily-identified prefixes and suffixes to produce what’s often the simplest version of a word, the root. Connection, for example, would have the -ion suffix removed and be correctly reduced to connect. This kind of simple stemming is often all that’s needed, but lemmatization—which actually looks at words and their roots (called lemma) as described in the dictionary—is more precise (e.g feet -> foot).\n",
    "\n",
    "Let's look at this simple example."
   ]
  },
  {
   "cell_type": "code",
   "execution_count": 14,
   "metadata": {
    "id": "UTqSImYfTp8v"
   },
   "outputs": [
    {
     "name": "stdout",
     "output_type": "stream",
     "text": [
      "run run\n",
      "runs run\n",
      "ran run\n",
      "running run\n",
      "runner runner\n",
      "runners runner\n"
     ]
    }
   ],
   "source": [
    "# Lemmatization\n",
    "lem = sp(\"run runs ran running runner runners\")\n",
    "\n",
    "# Find lemma for each word\n",
    "for word in lem:\n",
    "    print(word.text, word.lemma_)"
   ]
  },
  {
   "cell_type": "markdown",
   "metadata": {
    "id": "1QZOutDwsYij"
   },
   "source": [
    "## Text Representation\n",
    "We now show how to transform a text into an usable input for text classification. "
   ]
  },
  {
   "cell_type": "code",
   "execution_count": 15,
   "metadata": {
    "id": "X2MjeqoQxdOx"
   },
   "outputs": [],
   "source": [
    "# Sentences\n",
    "s1 = \"\"\"\n",
    "President Donald Trump gets a lot of attention for using Twitter to attack American trading partners, political foes, and media companies.\"\"\"\n",
    "s2 = \"\"\"Donald Trump is a great friend, and he has four or five Picassos on his plane. And that's where I would look at them.\"\"\" # from Shaquille O'Neal\n",
    "s3 = \"\"\"Donald Trump is a phony, a fraud. His promises are as worthless as a degree from Trump University.\"\"\" # from Mitt Romney\n",
    "\n",
    "# List of sentences\n",
    "texts = [s1, s2, s3]"
   ]
  },
  {
   "cell_type": "markdown",
   "metadata": {
    "id": "wCFQrtHLtMTt"
   },
   "source": [
    "### 1. Bag of Words (BOW)\n",
    "We use the [CountVectorizer](https://scikit-learn.org/stable/modules/generated/sklearn.feature_extraction.text.CountVectorizer.html) class of scikit learn."
   ]
  },
  {
   "cell_type": "code",
   "execution_count": 16,
   "metadata": {
    "id": "ZyzBm0BUtLc0"
   },
   "outputs": [
    {
     "data": {
      "text/plain": [
       "array([[1, 1, 1, 1, 1, 1, 1, 0, 0, 1, 1, 1, 1, 0, 0, 0, 0, 1, 1, 0, 0, 0,\n",
       "        1, 1, 1, 1, 1, 1, 0, 0, 0, 0, 0, 0, 1, 1, 1, 1, 0, 0, 1, 1, 1, 1,\n",
       "        0, 0, 0, 1, 1, 0, 1, 1, 0, 0],\n",
       "       [0, 0, 0, 0, 0, 0, 0, 0, 0, 1, 1, 0, 0, 0, 0, 1, 1, 0, 0, 1, 1, 1,\n",
       "        0, 0, 0, 0, 0, 0, 0, 0, 1, 1, 1, 1, 0, 0, 0, 0, 0, 0, 0, 0, 1, 0,\n",
       "        1, 0, 0, 0, 0, 0, 0, 0, 0, 0],\n",
       "       [0, 0, 0, 0, 0, 0, 0, 1, 1, 1, 1, 0, 0, 1, 1, 0, 0, 0, 0, 0, 0, 0,\n",
       "        0, 0, 0, 0, 0, 0, 1, 1, 0, 0, 0, 0, 0, 0, 0, 0, 1, 1, 0, 0, 2, 0,\n",
       "        0, 1, 1, 0, 0, 1, 0, 0, 1, 1]])"
      ]
     },
     "execution_count": 16,
     "metadata": {},
     "output_type": "execute_result"
    }
   ],
   "source": [
    "# Using default tokenizer \n",
    "count = CountVectorizer(ngram_range=(1,2), stop_words=\"english\")\n",
    "bow = count.fit_transform(texts)\n",
    "\n",
    "# Show feature matrix\n",
    "bow.toarray()"
   ]
  },
  {
   "cell_type": "code",
   "execution_count": 17,
   "metadata": {
    "id": "GRmUUc0kzi3_"
   },
   "outputs": [
    {
     "data": {
      "text/plain": [
       "array(['american', 'american trading', 'attack', 'attack american',\n",
       "       'attention', 'attention using', 'companies', 'degree',\n",
       "       'degree trump', 'donald', 'donald trump', 'foes', 'foes media',\n",
       "       'fraud', 'fraud promises', 'friend', 'friend picassos', 'gets',\n",
       "       'gets lot', 'great', 'great friend', 'look', 'lot',\n",
       "       'lot attention', 'media', 'media companies', 'partners',\n",
       "       'partners political', 'phony', 'phony fraud', 'picassos',\n",
       "       'picassos plane', 'plane', 'plane look', 'political',\n",
       "       'political foes', 'president', 'president donald', 'promises',\n",
       "       'promises worthless', 'trading', 'trading partners', 'trump',\n",
       "       'trump gets', 'trump great', 'trump phony', 'trump university',\n",
       "       'twitter', 'twitter attack', 'university', 'using',\n",
       "       'using twitter', 'worthless', 'worthless degree'], dtype=object)"
      ]
     },
     "execution_count": 17,
     "metadata": {},
     "output_type": "execute_result"
    }
   ],
   "source": [
    "# Get feature names\n",
    "feature_names = count.get_feature_names_out()\n",
    "\n",
    "# View feature names\n",
    "feature_names"
   ]
  },
  {
   "cell_type": "code",
   "execution_count": 18,
   "metadata": {
    "id": "sxCSvGUTz2tl"
   },
   "outputs": [
    {
     "data": {
      "text/html": [
       "<div>\n",
       "<style scoped>\n",
       "    .dataframe tbody tr th:only-of-type {\n",
       "        vertical-align: middle;\n",
       "    }\n",
       "\n",
       "    .dataframe tbody tr th {\n",
       "        vertical-align: top;\n",
       "    }\n",
       "\n",
       "    .dataframe thead th {\n",
       "        text-align: right;\n",
       "    }\n",
       "</style>\n",
       "<table border=\"1\" class=\"dataframe\">\n",
       "  <thead>\n",
       "    <tr style=\"text-align: right;\">\n",
       "      <th></th>\n",
       "      <th>american</th>\n",
       "      <th>american trading</th>\n",
       "      <th>attack</th>\n",
       "      <th>attack american</th>\n",
       "      <th>attention</th>\n",
       "      <th>attention using</th>\n",
       "      <th>companies</th>\n",
       "      <th>degree</th>\n",
       "      <th>degree trump</th>\n",
       "      <th>donald</th>\n",
       "      <th>...</th>\n",
       "      <th>trump great</th>\n",
       "      <th>trump phony</th>\n",
       "      <th>trump university</th>\n",
       "      <th>twitter</th>\n",
       "      <th>twitter attack</th>\n",
       "      <th>university</th>\n",
       "      <th>using</th>\n",
       "      <th>using twitter</th>\n",
       "      <th>worthless</th>\n",
       "      <th>worthless degree</th>\n",
       "    </tr>\n",
       "  </thead>\n",
       "  <tbody>\n",
       "    <tr>\n",
       "      <th>0</th>\n",
       "      <td>1</td>\n",
       "      <td>1</td>\n",
       "      <td>1</td>\n",
       "      <td>1</td>\n",
       "      <td>1</td>\n",
       "      <td>1</td>\n",
       "      <td>1</td>\n",
       "      <td>0</td>\n",
       "      <td>0</td>\n",
       "      <td>1</td>\n",
       "      <td>...</td>\n",
       "      <td>0</td>\n",
       "      <td>0</td>\n",
       "      <td>0</td>\n",
       "      <td>1</td>\n",
       "      <td>1</td>\n",
       "      <td>0</td>\n",
       "      <td>1</td>\n",
       "      <td>1</td>\n",
       "      <td>0</td>\n",
       "      <td>0</td>\n",
       "    </tr>\n",
       "    <tr>\n",
       "      <th>1</th>\n",
       "      <td>0</td>\n",
       "      <td>0</td>\n",
       "      <td>0</td>\n",
       "      <td>0</td>\n",
       "      <td>0</td>\n",
       "      <td>0</td>\n",
       "      <td>0</td>\n",
       "      <td>0</td>\n",
       "      <td>0</td>\n",
       "      <td>1</td>\n",
       "      <td>...</td>\n",
       "      <td>1</td>\n",
       "      <td>0</td>\n",
       "      <td>0</td>\n",
       "      <td>0</td>\n",
       "      <td>0</td>\n",
       "      <td>0</td>\n",
       "      <td>0</td>\n",
       "      <td>0</td>\n",
       "      <td>0</td>\n",
       "      <td>0</td>\n",
       "    </tr>\n",
       "    <tr>\n",
       "      <th>2</th>\n",
       "      <td>0</td>\n",
       "      <td>0</td>\n",
       "      <td>0</td>\n",
       "      <td>0</td>\n",
       "      <td>0</td>\n",
       "      <td>0</td>\n",
       "      <td>0</td>\n",
       "      <td>1</td>\n",
       "      <td>1</td>\n",
       "      <td>1</td>\n",
       "      <td>...</td>\n",
       "      <td>0</td>\n",
       "      <td>1</td>\n",
       "      <td>1</td>\n",
       "      <td>0</td>\n",
       "      <td>0</td>\n",
       "      <td>1</td>\n",
       "      <td>0</td>\n",
       "      <td>0</td>\n",
       "      <td>1</td>\n",
       "      <td>1</td>\n",
       "    </tr>\n",
       "  </tbody>\n",
       "</table>\n",
       "<p>3 rows × 54 columns</p>\n",
       "</div>"
      ],
      "text/plain": [
       "   american  american trading  attack  attack american  attention  \\\n",
       "0         1                 1       1                1          1   \n",
       "1         0                 0       0                0          0   \n",
       "2         0                 0       0                0          0   \n",
       "\n",
       "   attention using  companies  degree  degree trump  donald  ...  trump great  \\\n",
       "0                1          1       0             0       1  ...            0   \n",
       "1                0          0       0             0       1  ...            1   \n",
       "2                0          0       1             1       1  ...            0   \n",
       "\n",
       "   trump phony  trump university  twitter  twitter attack  university  using  \\\n",
       "0            0                 0        1               1           0      1   \n",
       "1            0                 0        0               0           0      0   \n",
       "2            1                 1        0               0           1      0   \n",
       "\n",
       "   using twitter  worthless  worthless degree  \n",
       "0              1          0                 0  \n",
       "1              0          0                 0  \n",
       "2              0          1                 1  \n",
       "\n",
       "[3 rows x 54 columns]"
      ]
     },
     "execution_count": 18,
     "metadata": {},
     "output_type": "execute_result"
    }
   ],
   "source": [
    "# Show as a dataframe\n",
    "pd.DataFrame(\n",
    "    bow.todense(), \n",
    "    columns=feature_names\n",
    "    )"
   ]
  },
  {
   "cell_type": "markdown",
   "metadata": {
    "id": "v7tNGrTutQ2r"
   },
   "source": [
    "### 2. TF-IDF Representation\n",
    "\n",
    "We use the TF-IDF (Term Frequency-Inverse Document Frequency) to vectorize the documents. This is a way of representing how important a particular term is in the context of a given document, based on how many times the term appears and how many other documents that same term appears in. The higher the TF-IDF, the more important that term is to that document. It is important to mention that the IDF value for a word remains the same throughout all the documents as it depends upon the total number of documents. On the other hand, TF values of a word differ from document to document.\n",
    "\n",
    "Recall that:\n",
    "\n",
    "- term frequency tf = count(word, document) / len(document) \n",
    "- term frequency idf = log( len(collection) / count(document_containing_term, collection) )\n",
    "- tf-idf = tf * idf \n"
   ]
  },
  {
   "cell_type": "code",
   "execution_count": 19,
   "metadata": {
    "id": "djkUI6hXtWlr"
   },
   "outputs": [
    {
     "data": {
      "text/html": [
       "<div>\n",
       "<style scoped>\n",
       "    .dataframe tbody tr th:only-of-type {\n",
       "        vertical-align: middle;\n",
       "    }\n",
       "\n",
       "    .dataframe tbody tr th {\n",
       "        vertical-align: top;\n",
       "    }\n",
       "\n",
       "    .dataframe thead th {\n",
       "        text-align: right;\n",
       "    }\n",
       "</style>\n",
       "<table border=\"1\" class=\"dataframe\">\n",
       "  <thead>\n",
       "    <tr style=\"text-align: right;\">\n",
       "      <th></th>\n",
       "      <th>american</th>\n",
       "      <th>attack</th>\n",
       "      <th>attention</th>\n",
       "      <th>companies</th>\n",
       "      <th>degree</th>\n",
       "      <th>donald</th>\n",
       "      <th>foes</th>\n",
       "      <th>fraud</th>\n",
       "      <th>friend</th>\n",
       "      <th>gets</th>\n",
       "      <th>...</th>\n",
       "      <th>plane</th>\n",
       "      <th>political</th>\n",
       "      <th>president</th>\n",
       "      <th>promises</th>\n",
       "      <th>trading</th>\n",
       "      <th>trump</th>\n",
       "      <th>twitter</th>\n",
       "      <th>university</th>\n",
       "      <th>using</th>\n",
       "      <th>worthless</th>\n",
       "    </tr>\n",
       "  </thead>\n",
       "  <tbody>\n",
       "    <tr>\n",
       "      <th>0</th>\n",
       "      <td>0.260841</td>\n",
       "      <td>0.260841</td>\n",
       "      <td>0.260841</td>\n",
       "      <td>0.260841</td>\n",
       "      <td>0.000000</td>\n",
       "      <td>0.154057</td>\n",
       "      <td>0.260841</td>\n",
       "      <td>0.000000</td>\n",
       "      <td>0.00000</td>\n",
       "      <td>0.260841</td>\n",
       "      <td>...</td>\n",
       "      <td>0.00000</td>\n",
       "      <td>0.260841</td>\n",
       "      <td>0.260841</td>\n",
       "      <td>0.000000</td>\n",
       "      <td>0.260841</td>\n",
       "      <td>0.154057</td>\n",
       "      <td>0.260841</td>\n",
       "      <td>0.000000</td>\n",
       "      <td>0.260841</td>\n",
       "      <td>0.000000</td>\n",
       "    </tr>\n",
       "    <tr>\n",
       "      <th>1</th>\n",
       "      <td>0.000000</td>\n",
       "      <td>0.000000</td>\n",
       "      <td>0.000000</td>\n",
       "      <td>0.000000</td>\n",
       "      <td>0.000000</td>\n",
       "      <td>0.247433</td>\n",
       "      <td>0.000000</td>\n",
       "      <td>0.000000</td>\n",
       "      <td>0.41894</td>\n",
       "      <td>0.000000</td>\n",
       "      <td>...</td>\n",
       "      <td>0.41894</td>\n",
       "      <td>0.000000</td>\n",
       "      <td>0.000000</td>\n",
       "      <td>0.000000</td>\n",
       "      <td>0.000000</td>\n",
       "      <td>0.247433</td>\n",
       "      <td>0.000000</td>\n",
       "      <td>0.000000</td>\n",
       "      <td>0.000000</td>\n",
       "      <td>0.000000</td>\n",
       "    </tr>\n",
       "    <tr>\n",
       "      <th>2</th>\n",
       "      <td>0.000000</td>\n",
       "      <td>0.000000</td>\n",
       "      <td>0.000000</td>\n",
       "      <td>0.000000</td>\n",
       "      <td>0.359347</td>\n",
       "      <td>0.212236</td>\n",
       "      <td>0.000000</td>\n",
       "      <td>0.359347</td>\n",
       "      <td>0.00000</td>\n",
       "      <td>0.000000</td>\n",
       "      <td>...</td>\n",
       "      <td>0.00000</td>\n",
       "      <td>0.000000</td>\n",
       "      <td>0.000000</td>\n",
       "      <td>0.359347</td>\n",
       "      <td>0.000000</td>\n",
       "      <td>0.424472</td>\n",
       "      <td>0.000000</td>\n",
       "      <td>0.359347</td>\n",
       "      <td>0.000000</td>\n",
       "      <td>0.359347</td>\n",
       "    </tr>\n",
       "  </tbody>\n",
       "</table>\n",
       "<p>3 rows × 27 columns</p>\n",
       "</div>"
      ],
      "text/plain": [
       "   american    attack  attention  companies    degree    donald      foes  \\\n",
       "0  0.260841  0.260841   0.260841   0.260841  0.000000  0.154057  0.260841   \n",
       "1  0.000000  0.000000   0.000000   0.000000  0.000000  0.247433  0.000000   \n",
       "2  0.000000  0.000000   0.000000   0.000000  0.359347  0.212236  0.000000   \n",
       "\n",
       "      fraud   friend      gets  ...    plane  political  president  promises  \\\n",
       "0  0.000000  0.00000  0.260841  ...  0.00000   0.260841   0.260841  0.000000   \n",
       "1  0.000000  0.41894  0.000000  ...  0.41894   0.000000   0.000000  0.000000   \n",
       "2  0.359347  0.00000  0.000000  ...  0.00000   0.000000   0.000000  0.359347   \n",
       "\n",
       "    trading     trump   twitter  university     using  worthless  \n",
       "0  0.260841  0.154057  0.260841    0.000000  0.260841   0.000000  \n",
       "1  0.000000  0.247433  0.000000    0.000000  0.000000   0.000000  \n",
       "2  0.000000  0.424472  0.000000    0.359347  0.000000   0.359347  \n",
       "\n",
       "[3 rows x 27 columns]"
      ]
     },
     "execution_count": 19,
     "metadata": {},
     "output_type": "execute_result"
    }
   ],
   "source": [
    "# Using default tokenizer in TfidfVectorizer\n",
    "tfidf = TfidfVectorizer(ngram_range=(1, 1), stop_words=\"english\")\n",
    "features = tfidf.fit_transform(texts)\n",
    "pd.DataFrame(\n",
    "    features.todense(),\n",
    "    columns=tfidf.get_feature_names_out()\n",
    ")"
   ]
  },
  {
   "cell_type": "code",
   "execution_count": 20,
   "metadata": {
    "id": "AcyNjGlfHjlo"
   },
   "outputs": [
    {
     "data": {
      "text/plain": [
       "['\\nPresident Donald Trump gets a lot of attention for using Twitter to attack American trading partners, political foes, and media companies.',\n",
       " \"Donald Trump is a great friend, and he has four or five Picassos on his plane. And that's where I would look at them.\",\n",
       " 'Donald Trump is a phony, a fraud. His promises are as worthless as a degree from Trump University.']"
      ]
     },
     "execution_count": 20,
     "metadata": {},
     "output_type": "execute_result"
    }
   ],
   "source": [
    "texts"
   ]
  },
  {
   "cell_type": "markdown",
   "metadata": {
    "id": "IcrRL3rRqgBy"
   },
   "source": [
    "### n-grams\n",
    "Below we create a TF-IDF Representation of the three above sentences using bigrams and the following stopwords: [\"and\", \"a\", \"is\"]."
   ]
  },
  {
   "cell_type": "code",
   "execution_count": 21,
   "metadata": {
    "id": "fzo8uviDrTLm"
   },
   "outputs": [
    {
     "data": {
      "text/html": [
       "<div>\n",
       "<style scoped>\n",
       "    .dataframe tbody tr th:only-of-type {\n",
       "        vertical-align: middle;\n",
       "    }\n",
       "\n",
       "    .dataframe tbody tr th {\n",
       "        vertical-align: top;\n",
       "    }\n",
       "\n",
       "    .dataframe thead th {\n",
       "        text-align: right;\n",
       "    }\n",
       "</style>\n",
       "<table border=\"1\" class=\"dataframe\">\n",
       "  <thead>\n",
       "    <tr style=\"text-align: right;\">\n",
       "      <th></th>\n",
       "      <th>american trading</th>\n",
       "      <th>are as</th>\n",
       "      <th>as degree</th>\n",
       "      <th>as worthless</th>\n",
       "      <th>at them</th>\n",
       "      <th>attack american</th>\n",
       "      <th>attention for</th>\n",
       "      <th>degree from</th>\n",
       "      <th>donald trump</th>\n",
       "      <th>five picassos</th>\n",
       "      <th>...</th>\n",
       "      <th>trading partners</th>\n",
       "      <th>trump gets</th>\n",
       "      <th>trump great</th>\n",
       "      <th>trump phony</th>\n",
       "      <th>trump university</th>\n",
       "      <th>twitter to</th>\n",
       "      <th>using twitter</th>\n",
       "      <th>where would</th>\n",
       "      <th>worthless as</th>\n",
       "      <th>would look</th>\n",
       "    </tr>\n",
       "  </thead>\n",
       "  <tbody>\n",
       "    <tr>\n",
       "      <th>0</th>\n",
       "      <td>0.240085</td>\n",
       "      <td>0.000000</td>\n",
       "      <td>0.000000</td>\n",
       "      <td>0.000000</td>\n",
       "      <td>0.000000</td>\n",
       "      <td>0.240085</td>\n",
       "      <td>0.240085</td>\n",
       "      <td>0.000000</td>\n",
       "      <td>0.141798</td>\n",
       "      <td>0.000000</td>\n",
       "      <td>...</td>\n",
       "      <td>0.240085</td>\n",
       "      <td>0.240085</td>\n",
       "      <td>0.000000</td>\n",
       "      <td>0.000000</td>\n",
       "      <td>0.000000</td>\n",
       "      <td>0.240085</td>\n",
       "      <td>0.240085</td>\n",
       "      <td>0.000000</td>\n",
       "      <td>0.000000</td>\n",
       "      <td>0.000000</td>\n",
       "    </tr>\n",
       "    <tr>\n",
       "      <th>1</th>\n",
       "      <td>0.000000</td>\n",
       "      <td>0.000000</td>\n",
       "      <td>0.000000</td>\n",
       "      <td>0.000000</td>\n",
       "      <td>0.240085</td>\n",
       "      <td>0.000000</td>\n",
       "      <td>0.000000</td>\n",
       "      <td>0.000000</td>\n",
       "      <td>0.141798</td>\n",
       "      <td>0.240085</td>\n",
       "      <td>...</td>\n",
       "      <td>0.000000</td>\n",
       "      <td>0.000000</td>\n",
       "      <td>0.240085</td>\n",
       "      <td>0.000000</td>\n",
       "      <td>0.000000</td>\n",
       "      <td>0.000000</td>\n",
       "      <td>0.000000</td>\n",
       "      <td>0.240085</td>\n",
       "      <td>0.000000</td>\n",
       "      <td>0.240085</td>\n",
       "    </tr>\n",
       "    <tr>\n",
       "      <th>2</th>\n",
       "      <td>0.000000</td>\n",
       "      <td>0.284569</td>\n",
       "      <td>0.284569</td>\n",
       "      <td>0.284569</td>\n",
       "      <td>0.000000</td>\n",
       "      <td>0.000000</td>\n",
       "      <td>0.000000</td>\n",
       "      <td>0.284569</td>\n",
       "      <td>0.168071</td>\n",
       "      <td>0.000000</td>\n",
       "      <td>...</td>\n",
       "      <td>0.000000</td>\n",
       "      <td>0.000000</td>\n",
       "      <td>0.000000</td>\n",
       "      <td>0.284569</td>\n",
       "      <td>0.284569</td>\n",
       "      <td>0.000000</td>\n",
       "      <td>0.000000</td>\n",
       "      <td>0.000000</td>\n",
       "      <td>0.284569</td>\n",
       "      <td>0.000000</td>\n",
       "    </tr>\n",
       "  </tbody>\n",
       "</table>\n",
       "<p>3 rows × 47 columns</p>\n",
       "</div>"
      ],
      "text/plain": [
       "   american trading    are as  as degree  as worthless   at them  \\\n",
       "0          0.240085  0.000000   0.000000      0.000000  0.000000   \n",
       "1          0.000000  0.000000   0.000000      0.000000  0.240085   \n",
       "2          0.000000  0.284569   0.284569      0.284569  0.000000   \n",
       "\n",
       "   attack american  attention for  degree from  donald trump  five picassos  \\\n",
       "0         0.240085       0.240085     0.000000      0.141798       0.000000   \n",
       "1         0.000000       0.000000     0.000000      0.141798       0.240085   \n",
       "2         0.000000       0.000000     0.284569      0.168071       0.000000   \n",
       "\n",
       "   ...  trading partners  trump gets  trump great  trump phony  \\\n",
       "0  ...          0.240085    0.240085     0.000000     0.000000   \n",
       "1  ...          0.000000    0.000000     0.240085     0.000000   \n",
       "2  ...          0.000000    0.000000     0.000000     0.284569   \n",
       "\n",
       "   trump university  twitter to  using twitter  where would  worthless as  \\\n",
       "0          0.000000    0.240085       0.240085     0.000000      0.000000   \n",
       "1          0.000000    0.000000       0.000000     0.240085      0.000000   \n",
       "2          0.284569    0.000000       0.000000     0.000000      0.284569   \n",
       "\n",
       "   would look  \n",
       "0    0.000000  \n",
       "1    0.240085  \n",
       "2    0.000000  \n",
       "\n",
       "[3 rows x 47 columns]"
      ]
     },
     "execution_count": 21,
     "metadata": {},
     "output_type": "execute_result"
    }
   ],
   "source": [
    "tfidf = TfidfVectorizer(ngram_range=(2, 2), stop_words=[\"and\", \"a\", \"is\"])\n",
    "features = tfidf.fit_transform(texts)\n",
    "pd.DataFrame(\n",
    "    features.todense(),\n",
    "    columns=tfidf.get_feature_names_out()\n",
    ")"
   ]
  },
  {
   "cell_type": "markdown",
   "metadata": {
    "id": "Tkm6F65kUzR_"
   },
   "source": [
    "## Introduction to Gensim and Word Embeddings\n",
    "\n",
    "In the following, we illustrate how we can find out the relations between words in a dataset, compute the similarity between them, or use the vector representation of those words as input for text classification.\n",
    "\n",
    "We use Gensim. A complete tutorial can be found [here](https://www.tutorialspoint.com/gensim/gensim_introduction.htm)."
   ]
  },
  {
   "cell_type": "markdown",
   "metadata": {
    "id": "r-lFcpJJPXAq"
   },
   "source": [
    "### 1. Word Embedding with Word2Vec\n",
    "\n",
    "Word embediing approaches use a neural network-based techniques to convert words into corresponding vectors so that semantically similar vectors are close to each other in an N-dimensional space, where N refers to the dimensions of the vectors. The underlying assumption is that two words sharing similar contexts also share a similar meaning and consequently a similar vector representation from the model. For example, \"dog\", \"puppy\" and \"pup\" are often used in similar situations, with similar surrounding words like \"good\", \"fluffy\" or \"cute\", and will therefore share a similar vector representation.\n",
    "\n",
    "Widely used word embeddings model is [Google's Word2Vec model](https://code.google.com/archive/p/word2vec/) created from billions of documents. GloVe (by Stanford) is an extension of Word2Vec. More information [here](https://nlp.stanford.edu/projects/glove/). \n",
    "\n",
    "For more detail on Word2Vec you can also watch this [video](https://www.youtube.com/watch?v=yFFp9RYpOb0)."
   ]
  },
  {
   "cell_type": "code",
   "execution_count": 22,
   "metadata": {},
   "outputs": [],
   "source": [
    "# Import required packages\n",
    "import gensim\n",
    "from gensim.models import Word2Vec\n",
    "import bs4 as bs\n",
    "import urllib.request\n",
    "import string\n",
    "import math\n",
    "import matplotlib.pyplot as plt\n",
    "import seaborn as sns"
   ]
  },
  {
   "cell_type": "code",
   "execution_count": 23,
   "metadata": {
    "id": "4ONCENA5RHYX"
   },
   "outputs": [
    {
     "data": {
      "text/plain": [
       "'Machine learning (ML) is an umbrella term for solving problems for which development of algorithms by human programmers would be cost-prohibitive, and instead the problems are solved by helping machines \"discover\" their \"own\" algorithms,[1] without needing to be explicitly told what to do by any human-developed algorithms.[2] Recently, generative artificial neural networks have been able to surpass results of many previous approaches.[3][4] Machine-learning approaches have been applied to large language models, computer vision, speech recognition, email filtering, agriculture and medicine, where it is too costly to develop algorithms to perform the needed tasks.[5][6]\\nThe mathematical foundations of ML are provided by mathematical optimization (mathematical programming) methods. Data mining is a related (parallel) field of study, focusing on exploratory data analysis through unsupervised learning.[8][9]\\nML is known in its application across business problems under the name predictive analytics. Although not all machine learning is statistically based, computational statistics is an important source of the field\\'s methods. \\nThe term machine learning was coined in 1959 by Arthur Samuel, an IBM employee and pioneer in the field of computer gaming and artificial intelligence.[10][11] The synonym self-teaching computers was also used in this time period.[12][13]\\nBy the early 1960s an experimental \"learning machine\" with punched tape memory, called Cybertron, had been developed by Raytheon Company to analyze sonar signals, electrocardiograms, and speech patterns using rudimentary reinforcement learning. It was repetitively \"trained\" by a human operator/teacher to recognize patterns and equipped with a \"goof\" button to cause it to re-evaluate incorrect decisions.[14] A representative book on research into machine learning during the 1960s was Nilsson\\'s book on Learning Machines, dealing mostly with machine learning for pattern classification.[15] Interest related to pattern recognition continued into the 1970s, as described by Duda and Hart in 1973.[16] In 1981 a report was given on using teaching strategies so that a neural network learns to recognize 40 characters (26 letters, 10 digits, and 4 special symbols) from a computer terminal.[17]\\nTom M. Mitchell provided a widely quoted, more formal definition of the algorithms studied in the machine learning field: \"A computer program is said to learn from experience E with respect to some class of tasks T and performance measure P if its performance at tasks in T, as measured by P,  improves with experience E.\"[18] This definition of the tasks in which machine learning is concerned offers a fundamentally operational definition rather than defining the field in cognitive terms. This follows Alan Turing\\'s proposal in his paper \"Computing Machinery and Intelligence\", in which the question \"Can machines think?\" is replaced with the question \"Can machines do what we (as thinking entities) can do?\".[19]\\nModern-day machine learning has two objectives, one is to classify data based on models which have been developed, the other purpose is to make predictions for future outcomes based on these models. A hypothetical algorithm specific to classifying data may use computer vision of moles coupled with supervised learning in order to train it to classify the cancerous moles. A machine learning algorithm for stock trading may inform the trader of future potential predictions.[20]\\nAs a scientific endeavor, machine learning grew out of the quest for artificial intelligence (AI). In the early days of AI as an academic discipline, some researchers were interested in having machines learn from data. They attempted to approach the problem with various symbolic methods, as well as what were then termed \"neural networks\"; these were mostly perceptrons and other models that were later found to be reinventions of the generalized linear models of statistics.[22] Probabilistic reasoning was also employed, especially in automated medical diagnosis.[23]:\\u200a488\\u200a\\nHowever, an increasing emphasis on the logical, knowledge-based approach caused a rift between AI and machine learning. Probabilistic systems were plagued by theoretical and practical problems of data acquisition and representation.[23]:\\u200a488\\u200a By 1980, expert systems had come to dominate AI, and statistics was out of favor.[24] Work on symbolic/knowledge-based learning did continue within AI, leading to inductive logic programming, but the more statistical line of research was now outside the field of AI proper, in pattern recognition and information retrieval.[23]:\\u200a708–710,\\u200a755\\u200a Neural networks research had been abandoned by AI and computer science around the same time. This line, too, was continued outside the AI/CS field, as \"connectionism\", by researchers from other disciplines including Hopfield, Rumelhart, and Hinton. Their main success came in the mid-1980s with the reinvention of backpropagation.[23]:\\u200a25\\u200a\\nMachine learning (ML), reorganized and recognized as its own field, started to flourish in the 1990s. The field changed its goal from achieving artificial intelligence to tackling solvable problems of a practical nature. It shifted focus away from the symbolic approaches it had inherited from AI, and toward methods and models borrowed from statistics, fuzzy logic, and probability theory.[24]\\nMachine learning and data mining often employ the same methods and overlap significantly, but while machine learning focuses on prediction, based on known properties learned from the training data, data mining focuses on the discovery of (previously) unknown properties in the data (this is the analysis step of knowledge discovery in databases). Data mining uses many machine learning methods, but with different goals; on the other hand, machine learning also employs data mining methods as \"unsupervised learning\" or as a preprocessing step to improve learner accuracy. Much of the confusion between these two research communities (which do often have separate conferences and separate journals, ECML PKDD being a major exception) comes from the basic assumptions they work with: in machine learning, performance is usually evaluated with respect to the ability to reproduce known knowledge, while in knowledge discovery and data mining (KDD) the key task is the discovery of previously unknown knowledge. Evaluated with respect to known knowledge, an uninformed (unsupervised) method will easily be outperformed by other supervised methods, while in a typical KDD task, supervised methods cannot be used due to the unavailability of training data.\\nMachine learning also has intimate ties to optimization: many learning problems are formulated as minimization of some loss function on a training set of examples. Loss functions express the discrepancy between the predictions of the model being trained and the actual problem instances (for example, in classification, one wants to assign a label to instances, and models are trained to correctly predict the pre-assigned labels of a set of examples).[25]\\nThe difference between optimization and machine learning arises from the goal of generalization: while optimization algorithms can minimize the loss on a training set, machine learning is concerned with minimizing the loss on unseen samples. Characterizing the generalization of various learning algorithms is an active topic of current research, especially for deep learning algorithms.\\nMachine learning and statistics are closely related fields in terms of methods, but distinct in their principal goal: statistics draws population inferences from a sample, while machine learning finds generalizable predictive patterns.[26] According to Michael I. Jordan, the ideas of machine learning, from methodological principles to theoretical tools, have had a long pre-history in statistics.[27] He also suggested the term data science as a placeholder to call the overall field.[27]\\nConventional statistical analyses require the a priori selection of a model most suitable for the study data set. In addition, only significant or theoretically relevant variables based on previous experience are included for analysis. In contrast, machine learning is not built on a pre-structured model; rather, the data shape the model by detecting underlying patterns. The more variables (input) used to train the model, the more accurate the ultimate model will be.[28]\\nLeo Breiman distinguished two statistical modeling paradigms: data model and algorithmic model,[29] wherein \"algorithmic model\" means more or less the machine learning algorithms like Random Forest.\\nSome statisticians have adopted methods from machine learning, leading to a combined field that they call statistical learning.[30]\\nAnalytical and computational techniques derived from deep-rooted physics of disordered systems can be extended to large-scale problems, including machine learning, e.g., to analyze the weight space of deep neural networks.[31] Statistical physics is thus finding applications in the area of medical diagnostics.[32]\\nA core objective of a learner is to generalize from its experience.[7][33] Generalization in this context is the ability of a learning machine to perform accurately on new, unseen examples/tasks after having experienced a learning data set. The training examples come from some generally unknown probability distribution (considered representative of the space of occurrences) and the learner has to build a general model about this space that enables it to produce sufficiently accurate predictions in new cases.\\nThe computational analysis of machine learning algorithms and their performance is a branch of theoretical computer science known as computational learning theory via the Probably Approximately Correct Learning (PAC) model. Because training sets are finite and the future is uncertain, learning theory usually does not yield guarantees of the performance of algorithms. Instead, probabilistic bounds on the performance are quite common. The bias–variance decomposition is one way to quantify generalization error.\\nFor the best performance in the context of generalization, the complexity of the hypothesis should match the complexity of the function underlying the data. If the hypothesis is less complex than the function, then the model has under fitted the data. If the complexity of the model is increased in response, then the training error decreases. But if the hypothesis is too complex, then the model is subject to overfitting and generalization will be poorer.[34]\\nIn addition to performance bounds, learning theorists study the time complexity and feasibility of learning. In computational learning theory, a computation is considered feasible if it can be done in polynomial time. There are two kinds of time complexity results: Positive results show that a certain class of functions can be learned in polynomial time. Negative results show that certain classes cannot be learned in polynomial time.\\n\\nMachine learning approaches are traditionally divided into three broad categories, which correspond to learning paradigms, depending on the nature of the \"signal\" or \"feedback\" available to the learning system:\\nSupervised learning algorithms build a mathematical model of a set of data that contains both the inputs and the desired outputs.[38] The data is known as training data, and consists of a set of training examples. Each training example has one or more inputs and the desired output, also known as a supervisory signal.  In the mathematical model, each training example is represented by an array or vector, sometimes called a feature vector, and the training data is represented by a matrix. Through iterative optimization of an objective function, supervised learning algorithms learn a function that can be used to predict the output associated with new inputs.[39] An optimal function allows the algorithm to correctly determine the output for inputs that were not a part of the training data. An algorithm that improves the accuracy of its outputs or predictions over time is said to have learned to perform that task.[18]\\nTypes of supervised-learning algorithms include active learning, classification and regression.[40] Classification algorithms are used when the outputs are restricted to a limited set of values, and regression algorithms are used when the outputs may have any numerical value within a range. As an example, for a classification algorithm that filters emails, the input would be an incoming email, and the output would be the name of the folder in which to file the email.\\nSimilarity learning is an area of supervised machine learning closely related to regression and classification, but the goal is to learn from examples using a similarity function that measures how similar or related two objects are. It has applications in ranking, recommendation systems, visual identity tracking, face verification, and speaker verification.\\nUnsupervised learning algorithms take a set of data that contains only inputs, and find structure in the data, like grouping or clustering of data points. The algorithms, therefore, learn from test data that has not been labeled, classified or categorized. Instead of responding to feedback, unsupervised learning algorithms identify commonalities in the data and react based on the presence or absence of such commonalities in each new piece of data. A central application of unsupervised learning is in the field of density estimation in statistics, such as finding the probability density function.[41] Though unsupervised learning encompasses other domains involving summarizing and explaining data features. Unsupervised learning algorithms streamlined the process of survey and graph large indel based haplotypes of a gene of interest from pan-genome.[42]\\nCluster analysis is the assignment of a set of observations into subsets (called clusters) so that observations within the same cluster are similar according to one or more predesignated criteria, while observations drawn from different clusters are dissimilar. Different clustering techniques make different assumptions on the structure of the data, often defined by some similarity metric and evaluated, for example, by internal compactness, or the similarity between members of the same cluster, and separation, the difference between clusters. Other methods are based on estimated density and graph connectivity.\\nSemi-supervised learning falls between unsupervised learning (without any labeled training data) and supervised learning (with completely labeled training data). Some of the training examples are missing training labels, yet many machine-learning researchers have found that unlabeled data, when used in conjunction with a small amount of labeled data, can produce a considerable improvement in learning accuracy.\\nIn weakly supervised learning, the training labels are noisy, limited, or imprecise; however, these labels are often cheaper to obtain, resulting in larger effective training sets.[43]\\nReinforcement learning is an area of machine learning concerned with how software agents ought to take actions in an environment so as to maximize some notion of cumulative reward. Due to its generality, the field is studied in many other disciplines, such as game theory, control theory, operations research, information theory, simulation-based optimization, multi-agent systems, swarm intelligence, statistics and genetic algorithms. In reinforcement learning, the environment is typically represented as a Markov decision process (MDP). Many reinforcements learning algorithms use dynamic programming techniques.[44] Reinforcement learning algorithms do not assume knowledge of an exact mathematical model of the MDP and are used when exact models are infeasible. Reinforcement learning algorithms are used in autonomous vehicles or in learning to play a game against a human opponent.\\nDimensionality reduction is a process of reducing the number of random variables under consideration by obtaining a set of principal variables.[45] In other words, it is a process of reducing the dimension of the feature set, also called the \"number of features\". Most of the dimensionality reduction techniques can be considered as either feature elimination or extraction. One of the popular methods of dimensionality reduction is principal component analysis (PCA). PCA involves changing higher-dimensional data (e.g., 3D) to a smaller space (e.g., 2D). This results in a smaller dimension of data (2D instead of 3D), while keeping all original variables in the model without changing the data.[46]\\nThe manifold hypothesis proposes that high-dimensional data sets lie along low-dimensional manifolds, and many dimensionality reduction techniques make this assumption, leading to the area of manifold learning and manifold regularization.\\nOther approaches have been developed which do not fit neatly into this three-fold categorization, and sometimes more than one is used by the same machine learning system. For example, topic modeling, meta-learning.[47]\\nAs of 2022, deep learning is the dominant approach for much ongoing work in the field of machine learning.[1]\\nSelf-learning, as a machine learning paradigm was introduced in 1982 along with a neural network capable of self-learning, named crossbar adaptive array (CAA).[48] It is learning with no external rewards and no external teacher advice. The CAA self-learning algorithm computes, in a crossbar fashion, both decisions about actions and emotions (feelings) about consequence situations. The system is driven by the interaction between cognition and emotion.[49]\\nThe self-learning algorithm updates a memory matrix W =||w(a,s)|| such that in each iteration executes the following machine learning routine: \\nIt is a system with only one input, situation, and only one output, action (or behavior) a. There is neither a separate reinforcement input nor an advice input from the environment. The backpropagated value (secondary reinforcement) is the emotion toward the consequence situation. The CAA exists in two environments, one is the behavioral environment where it behaves, and the other is the genetic environment, wherefrom it initially and only once receives initial emotions about situations to be encountered in the behavioral environment. After receiving the genome (species) vector from the genetic environment, the CAA learns a goal-seeking behavior, in an environment that contains both desirable and undesirable situations.[50]\\nSeveral learning algorithms aim at discovering better representations of the inputs provided during training.[51] Classic examples include principal component analysis and cluster analysis. Feature learning algorithms, also called representation learning algorithms, often attempt to preserve the information in their input but also transform it in a way that makes it useful, often as a pre-processing step before performing classification or predictions. This technique allows reconstruction of the inputs coming from the unknown data-generating distribution, while not being necessarily faithful to configurations that are implausible under that distribution. This replaces manual feature engineering, and allows a machine to both learn the features and use them to perform a specific task.\\nFeature learning can be either supervised or unsupervised. In supervised feature learning, features are learned using labeled input data. Examples include artificial neural networks, multilayer perceptrons, and supervised dictionary learning. In unsupervised feature learning, features are learned with unlabeled input data.  Examples include dictionary learning, independent component analysis, autoencoders, matrix factorization[52] and various forms of clustering.[53][54][55]\\nManifold learning algorithms attempt to do so under the constraint that the learned representation is low-dimensional. Sparse coding algorithms attempt to do so under the constraint that the learned representation is sparse, meaning that the mathematical model has many zeros. Multilinear subspace learning algorithms aim to learn low-dimensional representations directly from tensor representations for multidimensional data, without reshaping them into higher-dimensional vectors.[56] Deep learning algorithms discover multiple levels of representation, or a hierarchy of features, with higher-level, more abstract features defined in terms of (or generating) lower-level features. It has been argued that an intelligent machine is one that learns a representation that disentangles the underlying factors of variation that explain the observed data.[57]\\nFeature learning is motivated by the fact that machine learning tasks such as classification often require input that is mathematically and computationally convenient to process. However, real-world data such as images, video, and sensory data has not yielded attempts to algorithmically define specific features. An alternative is to discover such features or representations through examination, without relying on explicit algorithms.\\nSparse dictionary learning is a feature learning method where a training example is represented as a linear combination of basis functions, and is assumed to be a sparse matrix. The method is strongly NP-hard and difficult to solve approximately.[58] A popular heuristic method for sparse dictionary learning is the K-SVD algorithm. Sparse dictionary learning has been applied in several contexts. In classification, the problem is to determine the class to which a previously unseen training example belongs. For a dictionary where each class has already been built, a new training example is associated with the class that is best sparsely represented by the corresponding dictionary. Sparse dictionary learning has also been applied in image de-noising. The key idea is that a clean image patch can be sparsely represented by an image dictionary, but the noise cannot.[59]\\nIn data mining, anomaly detection, also known as outlier detection, is the identification of rare items, events or observations which raise suspicions by differing significantly from the majority of the data.[60] Typically, the anomalous items represent an issue such as bank fraud, a structural defect, medical problems or errors in a text. Anomalies are referred to as outliers, novelties, noise, deviations and exceptions.[61]\\nIn particular, in the context of abuse and network intrusion detection, the interesting objects are often not rare objects, but unexpected bursts of inactivity. This pattern does not adhere to the common statistical definition of an outlier as a rare object. Many outlier detection methods (in particular, unsupervised algorithms) will fail on such data unless aggregated appropriately. Instead, a cluster analysis algorithm may be able to detect the micro-clusters formed by these patterns.[62]\\nThree broad categories of anomaly detection techniques exist.[63] Unsupervised anomaly detection techniques detect anomalies in an unlabeled test data set under the assumption that the majority of the instances in the data set are normal, by looking for instances that seem to fit the least to the remainder of the data set. Supervised anomaly detection techniques require a data set that has been labeled as \"normal\" and \"abnormal\" and involves training a classifier (the key difference to many other statistical classification problems is the inherently unbalanced nature of outlier detection). Semi-supervised anomaly detection techniques construct a model representing normal behavior from a given normal training data set and then test the likelihood of a test instance to be generated by the model.\\nRobot learning is inspired by a multitude of machine learning methods, starting from supervised learning, reinforcement learning,[64][65] and finally meta-learning (e.g. MAML).\\nAssociation rule learning is a rule-based machine learning method for discovering relationships between variables in large databases. It is intended to identify strong rules discovered in databases using some measure of \"interestingness\".[66]\\nRule-based machine learning is a general term for any machine learning method that identifies, learns, or evolves \"rules\" to store, manipulate or apply knowledge. The defining characteristic of a rule-based machine learning algorithm is the identification and utilization of a set of relational rules that collectively represent the knowledge captured by the system. This is in contrast to other machine learning algorithms that commonly identify a singular model that can be universally applied to any instance in order to make a prediction.[67] Rule-based machine learning approaches include learning classifier systems, association rule learning, and artificial immune systems.\\nBased on the concept of strong rules, Rakesh Agrawal, Tomasz Imieliński and Arun Swami introduced association rules for discovering regularities between products in large-scale transaction data recorded by point-of-sale (POS) systems in supermarkets.[68] For example, the rule \\n\\n\\n\\n{\\n\\no\\nn\\ni\\no\\nn\\ns\\n,\\np\\no\\nt\\na\\nt\\no\\ne\\ns\\n\\n}\\n⇒\\n{\\n\\nb\\nu\\nr\\ng\\ne\\nr\\n\\n}\\n\\n\\n{\\\\displaystyle \\\\{\\\\mathrm {onions,potatoes} \\\\}\\\\Rightarrow \\\\{\\\\mathrm {burger} \\\\}}\\n\\n found in the sales data of a supermarket would indicate that if a customer buys onions and potatoes together, they are likely to also buy hamburger meat. Such information can be used as the basis for decisions about marketing activities such as promotional pricing or product placements. In addition to market basket analysis, association rules are employed today in application areas including Web usage mining, intrusion detection, continuous production, and bioinformatics. In contrast with sequence mining, association rule learning typically does not consider the order of items either within a transaction or across transactions.\\nLearning classifier systems (LCS) are a family of rule-based machine learning algorithms that combine a discovery component, typically a genetic algorithm, with a learning component, performing either supervised learning, reinforcement learning, or unsupervised learning. They seek to identify a set of context-dependent rules that collectively store and apply knowledge in a piecewise manner in order to make predictions.[69]\\nInductive logic programming (ILP) is an approach to rule learning using logic programming as a uniform representation for input examples, background knowledge, and hypotheses. Given an encoding of the known background knowledge and a set of examples represented as a logical database of facts, an ILP system will derive a hypothesized logic program that entails all positive and no negative examples. Inductive programming is a related field that considers any kind of programming language for representing hypotheses (and not only logic programming), such as functional programs.\\nInductive logic programming is particularly useful in bioinformatics and natural language processing. Gordon Plotkin and Ehud Shapiro laid the initial theoretical foundation for inductive machine learning in a logical setting.[70][71][72] Shapiro built their first implementation (Model Inference System) in 1981: a Prolog program that inductively inferred logic programs from positive and negative examples.[73] The term inductive here refers to philosophical induction, suggesting a theory to explain observed facts, rather than mathematical induction, proving a property for all members of a well-ordered set.\\nPerforming machine learning can involve creating a model, which is trained on some training data and then can process additional data to make predictions. Various types of models have been used and researched for machine learning systems.\\nArtificial neural networks (ANNs), or connectionist systems, are computing systems vaguely inspired by the biological neural networks that constitute animal brains. Such systems \"learn\" to perform tasks by considering examples, generally without being programmed with any task-specific rules.\\nAn ANN is a model based on a collection of connected units or nodes called \"artificial neurons\", which loosely model the neurons in a biological brain. Each connection, like the synapses in a biological brain, can transmit information, a \"signal\", from one artificial neuron to another. An artificial neuron that receives a signal can process it and then signal additional artificial neurons connected to it. In common ANN implementations, the signal at a connection between artificial neurons is a real number, and the output of each artificial neuron is computed by some non-linear function of the sum of its inputs. The connections between artificial neurons are called \"edges\". Artificial neurons and edges typically have a weight that adjusts as learning proceeds. The weight increases or decreases the strength of the signal at a connection. Artificial neurons may have a threshold such that the signal is only sent if the aggregate signal crosses that threshold. Typically, artificial neurons are aggregated into layers. Different layers may perform different kinds of transformations on their inputs. Signals travel from the first layer (the input layer) to the last layer (the output layer), possibly after traversing the layers multiple times.\\nThe original goal of the ANN approach was to solve problems in the same way that a human brain would. However, over time, attention moved to performing specific tasks, leading to deviations from biology. Artificial neural networks have been used on a variety of tasks, including computer vision, speech recognition, machine translation, social network filtering, playing board and video games and medical diagnosis.\\nDeep learning consists of multiple hidden layers in an artificial neural network. This approach tries to model the way the human brain processes light and sound into vision and hearing. Some successful applications of deep learning are computer vision and speech recognition.[74]\\nDecision tree learning uses a decision tree as a predictive model to go from observations about an item (represented in the branches) to conclusions about the item\\'s target value (represented in the leaves). It is one of the predictive modeling approaches used in statistics, data mining, and machine learning. Tree models where the target variable can take a discrete set of values are called classification trees; in these tree structures, leaves represent class labels, and branches represent conjunctions of features that lead to those class labels. Decision trees where the target variable can take continuous values (typically real numbers) are called regression trees. In decision analysis, a decision tree can be used to visually and explicitly represent decisions and decision making. In data mining, a decision tree describes data, but the resulting classification tree can be an input for decision-making.\\nSupport-vector machines (SVMs), also known as support-vector networks, are a set of related supervised learning methods used for classification and regression. Given a set of training examples, each marked as belonging to one of two categories, an SVM training algorithm builds a model that predicts whether a new example falls into one category.[75]  An SVM training algorithm is a non-probabilistic, binary, linear classifier, although methods such as Platt scaling exist to use SVM in a probabilistic classification setting. In addition to performing linear classification, SVMs can efficiently perform a non-linear classification using what is called the kernel trick, implicitly mapping their inputs into high-dimensional feature spaces.\\nRegression analysis encompasses a large variety of statistical methods to estimate the relationship between input variables and their associated features. Its most common form is linear regression, where a single line is drawn to best fit the given data according to a mathematical criterion such as ordinary least squares. The latter is often extended by regularization methods to mitigate overfitting and bias, as in ridge regression. When dealing with non-linear problems, go-to models include polynomial regression (for example, used for trendline fitting in Microsoft Excel[76]), logistic regression (often used in statistical classification) or even kernel regression, which introduces non-linearity by taking advantage of the kernel trick to implicitly map input variables to higher-dimensional space.\\nA Bayesian network, belief network, or directed acyclic graphical model is a probabilistic graphical model that represents a set of random variables and their conditional independence with a directed acyclic graph (DAG). For example, a Bayesian network could represent the probabilistic relationships between diseases and symptoms. Given symptoms, the network can be used to compute the probabilities of the presence of various diseases. Efficient algorithms exist that perform inference and learning. Bayesian networks that model sequences of variables, like speech signals or protein sequences, are called dynamic Bayesian networks. Generalizations of Bayesian networks that can represent and solve decision problems under uncertainty are called influence diagrams.\\nA Gaussian process is a stochastic process in which every finite collection of the random variables in the process has a multivariate normal distribution, and it relies on a pre-defined covariance function, or kernel, that models how pairs of points relate to each other depending on their locations.\\nGiven a set of observed points, or input–output examples, the distribution of the (unobserved) output of a new point as function of its input data can be directly computed by looking like the observed points and the covariances between those points and the new, unobserved point.\\nGaussian processes are popular surrogate models in Bayesian optimization used to do hyperparameter optimization.\\nA genetic algorithm (GA) is a search algorithm and heuristic technique that mimics the process of natural selection, using methods such as mutation and crossover to generate new genotypes in the hope of finding good solutions to a given problem. In machine learning, genetic algorithms were used in the 1980s and 1990s.[78][79] Conversely, machine learning techniques have been used to improve the performance of genetic and evolutionary algorithms.[80]\\nThe theory of belief functions, also referred to as evidence theory or Dempster–Shafer theory, is a general framework for reasoning with uncertainty, with understood connections to other frameworks such as probability, possibility and  imprecise probability theories. These theoretical frameworks can be thought of as a kind of learner and have some analogous properties of how evidence is combined (e.g.,  Dempster\\'s rule of combination), just like how in a pmf-based Bayesian approach would combine probabilities. However, there are many caveats to these beliefs functions when compared to Bayesian approaches in order to incorporate ignorance and Uncertainty quantification. These belief function approaches that are implemented within the machine learning domain typically leverage a fusion approach of various ensemble methods to better handle the learner\\'s decision boundary, low samples, and ambiguous class issues that standard machine learning approach tend to have difficulty resolving.[4][6][11] However, the computational complexity of these algorithms are dependent on the number of propositions (classes), and can lead a much higher computation time when compared to other machine learning approaches.  \\nTypically, machine learning models require a high quantity of reliable data in order for the models to perform accurate predictions. When training a machine learning model, machine learning engineers need to target and collect a large and representative sample of data. Data from the training set can be as varied as a corpus of text, a collection of images, sensor data, and data collected from individual users of a service. Overfitting is something to watch out for when training a machine learning model. Trained models derived from biased or non-evaluated data can result in skewed or undesired predictions. Bias models may result in detrimental outcomes thereby furthering the negative impacts on society or objectives. Algorithmic bias is a potential result of data not being fully prepared for training. Machine learning ethics is becoming a field of study and notably be integrated within machine learning engineering teams.\\nFederated learning is an adapted form of distributed artificial intelligence to training machine learning models that decentralizes the training process, allowing for users\\' privacy to be maintained by not needing to send their data to a centralized server. This also increases efficiency by decentralizing the training process to many devices. For example, Gboard uses federated machine learning to train search query prediction models on users\\' mobile phones without having to send individual searches back to Google.[81]\\nThere are many applications for machine learning, including:\\nIn 2006, the media-services provider Netflix held the first \"Netflix Prize\" competition to find a program to better predict user preferences and improve the accuracy of its existing Cinematch movie recommendation algorithm by at least 10%. A joint team made up of researchers from AT&T Labs-Research in collaboration with the teams Big Chaos and Pragmatic Theory built an ensemble model to win the Grand Prize in 2009 for $1 million.[84] Shortly after the prize was awarded, Netflix realized that viewers\\' ratings were not the best indicators of their viewing patterns (\"everything is a recommendation\") and they changed their recommendation engine accordingly.[85] In 2010 The Wall Street Journal wrote about the firm Rebellion Research and their use of machine learning to predict the financial crisis.[86] In 2012, co-founder of Sun Microsystems, Vinod Khosla, predicted that 80% of medical doctors jobs would be lost in the next two decades to automated machine learning medical diagnostic software.[87] In 2014, it was reported that a machine learning algorithm had been applied in the field of art history to study fine art paintings and that it may have revealed previously unrecognized influences among artists.[88] In 2019 Springer Nature published the first research book created using machine learning.[89] In 2020, machine learning technology was used to help make diagnoses and aid researchers in developing a cure for COVID-19.[90] Machine learning was recently applied to predict the pro-environmental behavior of travelers.[91] Recently, machine learning technology was also applied to optimize smartphone\\'s performance and thermal behavior based on the user\\'s interaction with the phone.[92][93][94]\\nAlthough machine learning has been transformative in some fields, machine-learning programs often fail to deliver expected results.[95][96][97] Reasons for this are numerous: lack of (suitable) data, lack of access to the data, data bias, privacy problems, badly chosen tasks and algorithms, wrong tools and people, lack of resources, and evaluation problems.[98]\\nIn 2018, a self-driving car from Uber failed to detect a pedestrian, who was killed after a collision.[99] Attempts to use machine learning in healthcare with the IBM Watson system failed to deliver even after years of time and billions of dollars invested.[100][101]\\nMachine learning has been used as a strategy to update the evidence related to a systematic review and increased reviewer burden related to the growth of biomedical literature. While it has improved with training sets, it has not yet developed sufficiently to reduce the workload burden without limiting the necessary sensitivity for the findings research themselves.[102]\\nMachine learning approaches in particular can suffer from different data biases. A machine learning system trained specifically on current customers may not be able to predict the needs of new customer groups that are not represented in the training data. When trained on human-made data, machine learning is likely to pick up the constitutional and unconscious biases already present in society.[103] Language models learned from data have been shown to contain human-like biases.[104][105] Machine learning systems used for criminal risk assessment have been found to be biased against black people.[106][107] In 2015, Google photos would often tag black people as gorillas,[108] and in 2018 this still was not well resolved, but Google reportedly was still using the workaround to remove all gorillas from the training data, and thus was not able to recognize real gorillas at all.[109] Similar issues with recognizing non-white people have been found in many other systems.[110] In 2016, Microsoft tested a chatbot that learned from Twitter, and it quickly picked up racist and sexist language.[111] Because of such challenges, the effective use of machine learning may take longer to be adopted in other domains.[112] Concern for fairness in machine learning, that is, reducing bias in machine learning and propelling its use for human good is increasingly expressed by artificial intelligence scientists, including Fei-Fei Li, who reminds engineers that \"There\\'s nothing artificial about AI...It\\'s inspired by people, it\\'s created by people, and—most importantly—it impacts people. It is a powerful tool we are only just beginning to understand, and that is a profound responsibility.\"[113]\\nExplainable AI (XAI), or Interpretable AI, or Explainable Machine Learning (XML), is artificial intelligence (AI) in which humans can understand the decisions or predictions made by the AI.[114] It contrasts with the \"black box\" concept in machine learning where even its designers cannot explain why an AI arrived at a specific decision.[115] By refining the mental models of users of AI-powered systems and dismantling their misconceptions, XAI promises to help users perform more effectively. XAI may be an implementation of the social right to explanation.\\nSettling on a bad, overly complex theory gerrymandered to fit all the past training data is known as overfitting. Many systems attempt to reduce overfitting by rewarding a theory in accordance with how well it fits the data but penalizing the theory in accordance with how complex the theory is.[116]\\nLearners can also disappoint by \"learning the wrong lesson\". A toy example is that an image classifier trained only on pictures of brown horses and black cats might conclude that all brown patches are likely to be horses.[117] A real-world example is that, unlike humans, current image classifiers often do not primarily make judgments from the spatial relationship between components of the picture, and they learn relationships between pixels that humans are oblivious to, but that still correlate with images of certain types of real objects. Modifying these patterns on a legitimate image can result in \"adversarial\" images that the system misclassifies.[118][119]\\nAdversarial vulnerabilities can also result in nonlinear systems, or from non-pattern perturbations. Some systems are so brittle that changing a single adversarial pixel predictably induces misclassification.[citation needed] Machine learning models are often vulnerable to manipulation and/or evasion via adversarial machine learning.[120]\\nResearchers have demonstrated how backdoors can be placed undetectably into classifying (e.g., for categories \"spam\" and well-visible \"not spam\" of posts) machine learning models which are often developed and/or trained by third parties. Parties can change the classification of any input, including in cases for which a type of data/software transparency is provided, possibly including white-box access.[121][122][123]\\nClassification of machine learning models can be validated by accuracy estimation techniques like the holdout method, which splits the data in a training and test set (conventionally 2/3 training set and 1/3 test set designation) and evaluates the performance of the training model on the test set. In comparison, the K-fold-cross-validation method randomly partitions the data into K subsets and then K experiments are performed each respectively considering 1 subset for evaluation and the remaining K-1 subsets for training the model. In addition to the holdout and cross-validation methods, bootstrap, which samples n instances with replacement from the dataset, can be used to assess model accuracy.[124]\\nIn addition to overall accuracy, investigators frequently report sensitivity and specificity meaning True Positive Rate (TPR) and True Negative Rate (TNR) respectively. Similarly, investigators sometimes report the false positive rate (FPR) as well as the false negative rate (FNR). However, these rates are ratios that fail to reveal their numerators and denominators. The total operating characteristic (TOC) is an effective method to express a model\\'s diagnostic ability. TOC shows the numerators and denominators of the previously mentioned rates, thus TOC provides more information than the commonly used receiver operating characteristic (ROC) and ROC\\'s associated area under the curve (AUC).[125]\\nMachine learning poses a host of ethical questions. Systems that are trained on datasets collected with biases may exhibit these biases upon use (algorithmic bias), thus digitizing cultural prejudices.[126] For example, in 1988, the UK\\'s Commission for Racial Equality found that St. George\\'s Medical School had been using a computer program trained from data of previous admissions staff and this program had denied nearly 60 candidates who were found to be either women or had non-European sounding names.[103] Using job hiring data from a firm with racist hiring policies may lead to a machine learning system duplicating the bias by scoring job applicants by similarity to previous successful applicants.[127][128] Responsible collection of data and documentation of algorithmic rules used by a system thus is a critical part of machine learning.\\nAI can be well-equipped to make decisions in technical fields, which rely heavily on data and historical information. These decisions rely on objectivity and logical reasoning.[129] Because human languages contain biases, machines trained on language corpora will necessarily also learn these biases.[130][131]\\nOther forms of ethical challenges, not related to personal biases, are seen in health care. There are concerns among health care professionals that these systems might not be designed in the public\\'s interest but as income-generating machines.[132] This is especially true in the United States where there is a long-standing ethical dilemma of improving health care, but also increasing profits. For example, the algorithms could be designed to provide patients with unnecessary tests or medication in which the algorithm\\'s proprietary owners hold stakes. There is potential for machine learning in health care to provide professionals an additional tool to diagnose, medicate, and plan recovery paths for patients, but this requires these biases to be mitigated.[133]\\nSince the 2010s, advances in both machine learning algorithms and computer hardware have led to more efficient methods for training deep neural networks (a particular narrow subdomain of machine learning) that contain many layers of non-linear hidden units.[134] By 2019, graphic processing units (GPUs), often with AI-specific enhancements, had displaced CPUs as the dominant method of training large-scale commercial cloud AI.[135] OpenAI estimated the hardware computing used in the largest deep learning projects from AlexNet (2012) to AlphaZero (2017), and found a 300,000-fold increase in the amount of compute required, with a doubling-time trendline of 3.4 months.[136][137]\\nA physical neural network or Neuromorphic computer  is a type of artificial neural network in which an electrically adjustable material is used to emulate the function of a neural synapse. \"Physical\" neural network is used to emphasize the reliance on physical hardware used to emulate neurons as opposed to software-based approaches. More generally the term is applicable to other artificial neural networks in which a memristor or other electrically adjustable resistance material is used to emulate a neural synapse.[138][139]\\nEmbedded Machine Learning is a sub-field of machine learning, where the machine learning model is run on embedded systems with limited computing resources such as wearable computers, edge devices and microcontrollers.[140][141][142] Running machine learning model in embedded devices removes the need for transferring and storing data on cloud servers for further processing, henceforth, reducing data breaches and privacy leaks happening because of transferring data, and also minimizes theft of intellectual properties, personal data and business secrets. Embedded Machine Learning could be applied through several techniques including hardware acceleration,[143][144] using approximate computing,[145] optimization of machine learning models and many more.[146][147]\\nSoftware suites containing a variety of machine learning algorithms include the following:\\n'"
      ]
     },
     "execution_count": 23,
     "metadata": {},
     "output_type": "execute_result"
    }
   ],
   "source": [
    "# Get texts from Wikipedia\n",
    "def get_text(url):\n",
    "  scrapped_data = urllib.request.urlopen(url)\n",
    "  article = scrapped_data.read()\n",
    "  parsed_article = bs.BeautifulSoup(article,'html.parser')\n",
    "  paragraphs = parsed_article.find_all('p')\n",
    "  article_text = \"\"\n",
    "  for p in paragraphs:\n",
    "    article_text += p.text\n",
    "  return article_text\n",
    "\n",
    "machine_learning = get_text(\"https://en.wikipedia.org/wiki/Machine_learning\")\n",
    "ai = get_text(\"https://en.wikipedia.org/wiki/Artificial_intelligence\")\n",
    "\n",
    "machine_learning"
   ]
  },
  {
   "cell_type": "code",
   "execution_count": 24,
   "metadata": {
    "id": "mrTQGSZWZlBx"
   },
   "outputs": [
    {
     "data": {
      "text/plain": [
       "'\\nArtificial intelligence (AI) is the intelligence of machines or software, as opposed to the intelligence of humans or animals. It is also the field of study in computer science that develops and studies intelligent machines. \"AI\" may also refer to the machines themselves.\\nAI technology is widely used throughout industry, government and science. Some high-profile applications are: advanced web search engines (e.g., Google Search), recommendation systems (used by YouTube, Amazon, and Netflix), understanding human speech (such as Siri and Alexa), self-driving cars (e.g., Waymo), generative or creative tools (ChatGPT and AI art), and competing at the highest level in strategic games (such as chess and Go).[1]\\nArtificial intelligence was founded as an academic discipline in 1956.[2] The field went through multiple cycles of optimism[3][4] followed by disappointment and loss of funding,[5][6] but after 2012, when deep learning surpassed all previous AI techniques,[7] there was a vast increase in funding and interest.\\nThe various sub-fields of AI research are centered around particular goals and the use of particular tools. The traditional goals of AI research include reasoning, knowledge representation, planning, learning, natural language processing, perception, and support for robotics.[a] General intelligence (the ability to solve an arbitrary problem) is among the field\\'s long-term goals.[8]\\nTo solve these problems, AI researchers have adapted and integrated a wide range of problem-solving techniques, including search and mathematical optimization, formal logic, artificial neural networks, and methods based on statistics, operations research, and economics.[b] AI also draws upon psychology, linguistics, philosophy, neuroscience and many other fields.[9]\\nThe general problem of simulating (or creating) intelligence has been broken down into sub-problems. These consist of particular traits or capabilities that researchers expect an intelligent system to display. The traits described below have received the most attention and cover the scope of AI research.[a]\\nEarly researchers developed algorithms that imitated step-by-step reasoning that humans use when they solve puzzles or make logical deductions.[10] By the late 1980s and 1990s, methods were developed for dealing with uncertain or incomplete information, employing concepts from probability and economics.[11]\\nMany of these algorithms are insufficient for solving large reasoning problems because they experience a \"combinatorial explosion\": they became exponentially slower as the problems grew larger.[12]\\nEven humans rarely use the step-by-step deduction that early AI research could model. They solve most of their problems using fast, intuitive judgments.[13]\\nAccurate and efficient reasoning is an unsolved problem.\\nKnowledge representation and knowledge engineering[14] allow AI programs to answer questions intelligently and make deductions about real-world facts. Formal knowledge representations are used in content-based indexing and retrieval,[15] scene interpretation,[16] clinical decision support,[17] knowledge discovery (mining \"interesting\" and actionable inferences from large databases),[18] and other areas.[19]\\nA knowledge base is a body of knowledge represented in a form that can be used by a program. An ontology is the set of objects, relations, concepts, and properties used by a particular domain of knowledge.[20] Knowledge bases need to represent things such as:\\nobjects, properties, categories and relations between objects;\\n[21]\\nsituations, events, states and time;[22]\\ncauses and effects;[23]\\nknowledge about knowledge (what we know about what other people know);[24]\\ndefault reasoning (things that humans assume are true until they are told differently and will remain true even when other facts are changing);[25] and many other aspects and domains of knowledge.\\nAmong the most difficult problems in KR are: the breadth of commonsense knowledge (the set of atomic facts that the average person knows is enormous);[26] and the sub-symbolic form of most commonsense knowledge (much of what people know is not represented as \"facts\" or \"statements\" that they could express verbally).[13]\\nKnowledge acquisition is the difficult problem of obtaining knowledge for AI applications.[c] Modern AI gathers knowledge by \"scraping\" the internet (including Wikipedia). The knowledge itself was collected by the volunteers and professionals who published the information (who may or may not have agreed to provide their work to AI companies).[29] This \"crowd sourced\" technique does not guarantee that the knowledge is correct or reliable. The knowledge of Large Language Models (such as ChatGPT) is highly unreliable -- it generates misinformation and falsehoods (known as \"hallucinations\"). Providing accurate knowledge for these modern AI applications is an unsolved problem.\\nAn \"agent\" is anything that perceives and takes actions in the world. A rational agent has goals or preferences and takes actions to make them happen.[d][30]\\nIn automated planning, the agent has a specific goal.[31] In automated decision making, the agent has preferences – there are some situations it would prefer to be in, and some situations it is trying to avoid. The decision making agent assigns a number to each situation (called the \"utility\") that measures how much the agent prefers it. For each possible action, it can calculate the \"expected utility\": the utility of all possible outcomes of the action, weighted by the probability that the outcome will occur. It can then choose the action with the maximum expected utility.[32]\\nIn classical planning, the agent knows exactly what the effect of any action will be.[33]\\nIn most real-world problems, however, the agent may not be certain about the situation they are in (it is \"unknown\" or \"unobservable\") and it may not know for certain what will happen after each possible action (it is not \"deterministic\"). It must choose an action by making a probabilistic guess and then reassess the situation to see if the action worked.[34]\\nIn some problems, the agent\\'s preferences may be uncertain, especially if there are other agents or humans involved. These can be learned (e.g., with inverse reinforcement learning) or the agent can seek information to improve its preferences.[35]\\nInformation value theory can be used to weigh the value of exploratory or experimental actions.[36]\\nThe space of possible future actions and situations is typically intractably large, so the agents must take actions and evaluate situations while being uncertain what the outcome will be.\\nA Markov decision process has a transition model that describes the probability that a particular action will change the state in a particular way, and a reward function that supplies the utility of each state and the cost of each action. A policy associates a decision with each possible state. The policy could be calculated (e.g. by iteration), be heuristic, or it can be learned.[37]\\nGame theory describes rational behavior of multiple interacting agents, and is used in AI programs that make decisions that involve other agents.[38]\\nMachine learning is the study of programs that can improve their performance on a given task automatically.[39]\\nIt has been a part of AI from the beginning.[e]\\nThere are several kinds of machine learning. Unsupervised learning analyzes a stream of data and finds patterns and makes predictions without any other guidance.[42]\\nSupervised learning requires a human to label the input data first, and comes in two main varieties: classification (where the program must learn to predict what category the input belongs in) and regression (where the program must deduce a numeric function based on numeric input).[43]\\nIn reinforcement learning the agent is rewarded for good responses and punished for bad ones. The agent learns to choose responses that are classified as \"good\".[44]\\nTransfer learning is when the knowledge gained from one problem is applied to a new problem.[45] Deep learning uses artificial neural networks for all of these types of learning.\\nComputational learning theory can assess learners by computational complexity, by sample complexity (how much data is required), or by other notions of optimization.[46]\\nNatural language processing (NLP)[47] allows programs to read, write and communicate in human languages such as English.\\nSpecific problems include speech recognition, speech synthesis, machine translation, information extraction, information retrieval and question answering.[48]\\nEarly work, based on Noam Chomsky\\'s generative grammar and semantic networks, had difficulty with word-sense disambiguation[f]\\nunless restricted to small domains called \"micro-worlds\" (due to the common sense knowledge problem[26]).\\nModern deep learning techniques for NLP include word embedding (how often one word appears near another),[49] transformers (which finds patterns in text),[50] and others.[51] In 2019, generative pre-trained transformer (or \"GPT\") language models began to generate coherent text,[52][53] and by 2023 these models were able to get human-level scores on the bar exam, SAT, GRE, and many other real-world applications.[54]\\nMachine perception is the ability to use input from sensors (such as cameras, microphones, wireless signals, active lidar, sonar, radar, and tactile sensors) to deduce aspects of the world. Computer vision is the ability to analyze visual input.[55]\\nThe field includes speech recognition,[56]\\nimage classification,[57]\\nfacial recognition, object recognition,[58]\\nand robotic perception.[59]\\nRobotics[60] uses AI.\\nAffective computing is an interdisciplinary umbrella that comprises systems that recognize, interpret, process or simulate human feeling, emotion and mood.[62]\\nFor example, some virtual assistants are programmed to speak conversationally or even to banter humorously; it makes them appear more sensitive to the emotional dynamics of human interaction, or to otherwise facilitate human–computer interaction.\\nHowever, this tends to give naïve users an unrealistic conception of how intelligent existing computer agents actually are.[63] Moderate successes related to affective computing include textual sentiment analysis and, more recently, multimodal sentiment analysis, wherein AI classifies the affects displayed by a videotaped subject.[64]\\nA machine with artificial general intelligence should be able to solve a wide variety of problems with breadth and versatility similar to human intelligence.[8]\\nAI research uses a wide variety of tools to accomplish the goals above.[b]\\nAI can solve many problems by intelligently searching through many possible solutions.[65] There are two very different kinds of search used in AI: state space search and local search.\\nState space search searches through a tree of possible states to try to find a goal state.[66]\\nFor example, Planning algorithms search through trees of goals and subgoals, attempting to find a path to a target goal, a process called means-ends analysis.[67]\\nSimple exhaustive searches[68]\\nare rarely sufficient for most real-world problems: the search space (the number of places to search) quickly grows to astronomical numbers. The result is a search that is too slow or never completes.[12]\\n\"Heuristics\" or \"rules of thumb\" can help to prioritize choices that are more likely to reach a goal.[69]\\nAdversarial search is used for game-playing programs, such as chess or Go. It searches through a tree of possible moves and counter-moves, looking for a winning position.[70]\\nLocal search uses mathematical optimization to find a numeric solution to a problem. It begins with some form of a guess and then refines the guess incrementally until no more refinements can be made. These algorithms can be visualized as blind hill climbing: we begin the search at a random point on the landscape, and then, by jumps or steps, we keep moving our guess uphill, until we reach the top. This process is called stochastic gradient descent.[71]\\nEvolutionary computation uses a form of optimization search. For example, they may begin with a population of organisms (the guesses) and then allow them to mutate and recombine, selecting only the fittest to survive each generation (refining the guesses).[72]\\nDistributed search processes can coordinate via swarm intelligence algorithms. Two popular swarm algorithms used in search are particle swarm optimization (inspired by bird flocking) and ant colony optimization (inspired by ant trails).[73]\\nNeural networks and statistical classifiers (discussed below), also use a form of local search, where the \"landscape\" to be searched is formed by learning.\\nFormal Logic is used for reasoning and knowledge representation.[74]\\nFormal logic comes in two main forms: propositional logic (which operates on statements that are true or false and uses logical connectives such as \"and\", \"or\", \"not\" and \"implies\")[75]\\nand predicate logic (which also operates on objects, predicates and relations and uses quantifiers such as \"Every X is a Y\" and \"There are some Xs that are Ys\").[76]\\nLogical inference (or deduction) is the process of proving a new statement (conclusion) from other statements that are already known to be true (the premises).[77]\\nA logical knowledge base also handles queries and assertions as a special case of inference.[78]\\nAn inference rule describes what is a valid step in a proof. The most general inference rule is  resolution.[79]\\nInference can be reduced to performing a search to find a path that leads from premises to conclusions, where each step is the application of an inference rule.[80]\\nInference performed this way is intractable except for short proofs in restricted domains. No efficient, powerful and general method has been discovered.[81]\\nFuzzy logic assigns a \"degree of truth\" between 0 and 1 and handles uncertainty and probabilistic situations.[82]\\nNon-monotonic logics are designed to handle default reasoning.[25]\\nOther specialized versions of logic have been developed to describe many complex domains (see knowledge representation above).\\nMany problems in AI (including in reasoning, planning, learning, perception, and robotics) require the agent to operate with incomplete or uncertain information. AI researchers have devised a number of tools to solve these problems using methods from probability theory and economics.[83]\\nBayesian networks[84]\\nare a very general tool that can be used for many problems, including reasoning (using the Bayesian inference algorithm),[g][86]\\nlearning (using the expectation-maximization algorithm),[h][88]\\nplanning (using decision networks)[89]\\nand perception (using dynamic Bayesian networks).[90]\\nProbabilistic algorithms can also be used for filtering, prediction, smoothing and finding explanations for streams of data, helping perception systems to analyze processes that occur over time (e.g., hidden Markov models or Kalman filters).[90]\\nPrecise mathematical tools have been developed that analyze how an agent can make choices and plan, using decision theory, decision analysis,[91]\\nand information value theory.[92]\\nThese tools include models such as Markov decision processes,\\n[93]\\ndynamic decision networks,[90]\\ngame theory and mechanism design.[94]\\nThe simplest AI applications can be divided into two types: classifiers (e.g. \"if shiny then diamond\"), on one hand, and controllers (e.g. \"if diamond then pick up\"), on the other hand. Classifiers[95]\\nare functions that use pattern matching to determine the closest match. They can be fine-tuned based on chosen examples using supervised learning. Each pattern (also called an \"observation\") is labeled with a certain predefined class. All the observations combined with their class labels are known as a data set. When a new observation is received, that observation is classified based on previous experience.[43]\\nThere are many kinds of classifiers in use. The decision tree is the simplest and most widely used symbolic machine learning algorithm.[96] K-nearest neighbor algorithm was the most widely used analogical AI until the mid-1990s, and Kernel methods such as the support vector machine (SVM) displaced k-nearest neighbor in the 1990s.[97]\\nThe naive Bayes classifier is reportedly the \"most widely used learner\"[98] at Google, due in part to its scalability.[99]\\nNeural networks are also used as classifiers.[100]\\nArtificial neural networks[100] were inspired by the design of the human brain: a simple \"neuron\" N accepts input from other neurons, each of which, when activated (or \"fired\"), casts a weighted \"vote\" for or against whether neuron N should itself activate. In practice, the input \"neurons\" are a list of numbers, the \"weights\" are a matrix, the next layer is the dot product (i.e., several weighted sums) scaled by an increasing function, such as the logistic function. \"The resemblance to real neural cells and structures is superficial\", according to Russell and Norvig.  [101][i]\\nLearning algorithms for neural networks use local search to choose the weights that will get the right output for each input during training. The most common training technique is the backpropagation algorithm.[102]\\nNeural networks learn to model complex relationships between inputs and outputs and find patterns in data. In theory, a neural network can learn any function.[103]\\nIn feedforward neural networks the signal passes in only one direction.[104]\\nRecurrent neural networks feed the output signal back into the input, which allows  short-term memories of previous input events. Long short term memory is the most successful network architecture for recurrent networks.[105]\\nPerceptrons[106]\\nuse only a single layer of neurons, deep learning[107] uses multiple layers.\\nConvolutional neural networks strengthen the connection between neurons that are \"close\" to each other – this is especially important in image processing, where a local set of neurons must identify an \"edge\" before the network can identify an object.[108]\\nDeep learning[107]\\nuses several layers of neurons between the network\\'s inputs and outputs. The multiple layers can progressively extract higher-level features from the raw input. For example, in image processing, lower layers may identify edges, while higher layers may identify the concepts relevant to a human such as digits or letters or faces.[110]\\nDeep learning has drastically improved the performance of programs in many important subfields of artificial intelligence, including computer vision, speech recognition, image classification[111]\\nand others. The reason that deep learning performs so well in so many applications is not known as of 2023.[112]\\nThe sudden success of deep learning in 2012–2015 did not occur because of some new discovery or theoretical breakthrough (deep neural networks and backpropagation had been described by many people, as far back as the 1950s)[j]\\nbut because of two factors: the incredible increase in computer power (including the hundred-fold increase in speed by switching to GPUs) and the availability of vast amounts of training data, especially the giant curated datasets used for benchmark testing, such as ImageNet.[k]\\nIn the late 2010s, graphics processing units (GPUs) that were increasingly designed with AI-specific enhancements and used with specialized TensorFlow  software, had replaced previously used central processing unit (CPUs) as the dominant means for large-scale (commercial and academic) machine learning models\\' training.[121]\\nHistorically, specialized languages, such as Lisp, Prolog, and others, had been used.\\nAI and machine learning technology is used in most of the essential applications of the 2020s, including: search engines (such as Google Search),\\ntargeting online advertisements,[122]\\nrecommendation systems (offered by Netflix, YouTube or Amazon),\\ndriving internet traffic,[123][124]\\ntargeted advertising (AdSense, Facebook),\\nvirtual assistants (such as Siri or Alexa),[125]\\nautonomous vehicles (including drones,\\nADAS and self-driving cars),\\nautomatic language translation (Microsoft Translator, Google Translate),\\nfacial recognition (Apple\\'s Face ID or Microsoft\\'s DeepFace and Google\\'s FaceNet) and\\nimage labeling (used by Facebook, Apple\\'s iPhoto and TikTok).\\nThere are also thousands of successful AI applications used to solve specific problems for specific industries or institutions. In a 2017 survey, one in five companies reported they had incorporated \"AI\" in some offerings or processes.[126]\\nA few examples are energy storage,[127]\\nmedical diagnosis,\\nmilitary logistics,\\napplications that predict the result of judicial decisions,[128]\\nforeign policy,[129]\\nor supply chain management.\\nGame playing programs have been used since the 1950s to demonstrate and test AI\\'s most advanced techniques. Deep Blue became the first computer chess-playing system to beat a reigning world chess champion, Garry Kasparov, on 11 May 1997.[130] In 2011, in a Jeopardy! quiz show exhibition match, IBM\\'s question answering system, Watson, defeated the two greatest Jeopardy! champions, Brad Rutter and Ken Jennings, by a significant margin.[131]\\nIn March 2016, AlphaGo won 4 out of 5 games of Go in a match with Go champion Lee Sedol, becoming the first computer Go-playing system to beat a professional Go player without handicaps.[132] Then it defeated Ke Jie in 2017, who at the time continuously held the world No. 1 ranking for two years.[133][134][135] Other programs handle imperfect-information games; such as for poker at a superhuman level, Pluribus[l] and Cepheus.[137] DeepMind in the 2010s developed a \"generalized artificial intelligence\" that could learn many diverse Atari games on its own.[138]\\nIn the early 2020s, generative AI gained widespread prominence. ChatGPT, based on GPT-3, and other large language models, were tried by 14% of Americans adults.[139] The increasing realism and ease-of-use of AI-based text-to-image generators such as Midjourney, DALL-E, and Stable Diffusion[140][141] sparked a trend of viral AI-generated photos. Widespread attention was gained by a fake photo of Pope Francis wearing a white puffer coat,[142] the fictional arrest of Donald Trump,[143] and a hoax of an attack on the Pentagon,[144] as well as the usage in professional creative arts.[145][146]\\nAlphaFold 2 (2020) demonstrated the ability to approximate, in hours rather than months, the 3D structure of a protein.[147]\\nAI, like any powerful technology, has potential benefits and potential risks. AI may be able to advance science and find solutions for serious problems: Demis Hassabis of Deep Mind hopes to \"solve intelligence, and then use that to solve everything else\".[148] However, as the use of AI has become widespread, several unintended consequences and risks have been identified.[149]\\nIn order to leverage as large a dataset as is feasible, generative AI is often trained on unlicensed copyrighted works, including in domains such as images or computer code; the output is then used under a rationale of \"fair use\". Experts disagree about how well, and under what circumstances, this rationale will hold up in courts of law; relevant factors may include \"the purpose and character of the use of the copyrighted work\" and \"the effect upon the potential market for the copyrighted work\".[150]\\nYouTube, Facebook and others use recommender systems to guide users to more content. These AI programs were given the goal of maximizing user engagement (that is, the only goal was to keep people watching). The AI learned that users tended to choose misinformation, conspiracy theories, and extreme partisan content, and, to keep them watching, the AI recommended more of it. Users also tended to watch more content on the same subject, so the AI led people into filter bubbles where they received multiple versions of the same misinformation.[151] This convinced many users that the misinformation was true, and ultimately undermined trust in institutions, the media and the government.[152] The AI program had correctly learned to maximize its goal, but the result was harmful to society. After the U.S. election in 2016, major technology companies took steps to mitigate the problem.\\nIn 2022, generative AI began to create images, audio, video and text that are indistinguishable from real photographs, recordings, films or human writing.  It is possible for bad actors to use this technology to create massive amounts of misinformation or propaganda.[153] This technology has been widely distributed for minimal cost. Some of the leading AI researchers such as Geoffrey Hinton have raised concerns for AI misinformation, and have advocated for AI safety and regulation.[154]\\nMachine learning applications will be biased if they learn from biased data.[155]\\nThe developers may not be aware that the bias exists.[156]\\nBias can be introduced by the way training data is selected and by the way a model is deployed.[157][155] If a biased algorithm is used to make decisions that can seriously harm people (as it can in medicine, finance, recruitment, housing or policing) then the algorithm may cause discrimination.[158]\\nFairness in machine learning is the study of how to prevent the harm caused by algorithmic bias. It has become serious area of academic study within AI. Researchers have discovered it is not always possible to define \"fairness\" in a way that satisfies all stakeholders.[159]\\nOn June 28, 2015, Google Photos\\'s new image labeling feature mistakenly identified Jacky Alcine and a friend as \"gorillas\" because they were black. The system was trained on a dataset that contained very few images of black people,[160] a problem called \"sample size disparity\".[161] Google \"fixed\" this problem by preventing the system from labelling anything as a  \"gorilla\". Eight years later, in 2023, Google Photos still could not identify a gorilla, and neither could similar products from Apple, Facebook, Microsoft and Amazon.[162]\\nCOMPAS is a commercial program widely used by U.S. courts to assess the likelihood of a defendant becoming a recidivist.\\nIn 2016, Julia Angwin at ProPublica discovered that COMPAS exhibited racial bias, despite the fact that the program was not told the races of the defendants. Although the error rate for both whites and blacks was calibrated equal at exactly 61%, the errors for each race were different -- the system consistently overestimated the chance that a black person would re-offend and would underestimate the chance that a white person would not re-offend.[163] In 2017, several researchers[m] showed that it was mathematically impossible for COMPAS to accommodate all possible measures of fairness when the base rates of re-offense were different for whites and blacks in the data.[165]\\nA program can make biased decisions even if the data does not explicitly mention a problematic feature (such as \"race\" or \"gender\"). The feature will correlate with other features (like \"address\", \"shopping history\" or \"first name\"), and the program will make the same decisions based on these features as it would on \"race\" or \"gender\".[166]\\nMoritz Hardt said “the most robust fact in this research area is that fairness through blindness doesn\\'t work.”[167]\\nCriticism of COMPAS highlighted a deeper problem with the misuse of AI. Machine learning models are designed to make \"predictions\" that are only valid if we assume that the future will resemble the past. If they are trained on data that includes the results of racist decisions in the past, machine learning models must predict that racist decisions will be made in the future. Unfortunately, if an applications then uses these predictions as recommendations, some of these \"recommendations\" will likely be racist.[168] Thus, machine learning is not well suited to help make decisions in areas where there is hope that the future will be better than the past. It is necessarily descriptive and not proscriptive.[n]\\nBias and unfairness may go undetected because the developers are overwhelmingly white and male: among AI engineers, about 4% are black and 20% are women.[161]\\nAt its 2022 Conference on Fairness, Accountability, and Transparency (ACM FAccT 2022) the Association for Computing Machinery, in Seoul, South Korea, presented and published findings recommending that until AI and robotics systems are demonstrated to be free of bias mistakes, they are unsafe and the use of self-learning neural networks trained on vast, unregulated sources of flawed internet data should be curtailed.[170]\\nMost modern AI applications can not explain how they have reached a decision.[171] The large amount of relationships between inputs and outputs in deep neural networks and resulting complexity makes it difficult for even an expert to explain how they produced their outputs, making them a black box.[172]\\nThere have been many cases where a machine learning program passed rigorous tests, but nevertheless learned something different than what the programmers intended. For example,  Justin Ko and Roberto Novoa developed a system that could identify skin diseases better than medical professionals, however it classified any image with a ruler as \"cancerous\", because pictures of malignancies typically include a ruler to show the scale.[173] A more dangerous example was discovered by Rich Caruana in 2015: a machine learning system that accurately predicted risk of death classified a patient that was over 65, asthma and difficulty breathing as \"low risk\". Further research showed that in high-risk cases like this, the hospital would allocate more resources and save the patient\\'s life, decreasing the risk measured by the program.[174] Mistakes like these become obvious when we know how the program has reached a decision. Without an explanation, these problems may not not be discovered until after they have caused harm.\\nA second issue is that people who have been harmed by an algorithm\\'s decision have a right to an explanation. Doctors, for example, are required to clearly and completely explain the reasoning behind any decision they make.[175] Early drafts of the European Union\\'s General Data Protection Regulation in 2016 included an explicit statement that this right exists.[o] Industry experts noted that this is an unsolved problem with no solution in sight. Regulators argued that nevertheless the harm is real: if the problem has no solution, the tools should not be used.[176]\\nDARPA established the XAI (\"Explainable Artificial Intelligence\") program in 2014 to try and solve these problems.[177]\\nThere are several potential solutions to the transparency problem. Multitask learning provides a large number of outputs in addition to the target classification. These other outputs can help developers deduce what the network has learned.[178] Deconvolution, DeepDream and other generative methods can allow developers to see what different layers of a deep network have learned and produce output that can suggest what the network is learning.[179] Supersparse linear integer models use learning to identify the most important features, rather than the classification. Simple addition of these features can then make the classification (i.e. learning is used to create a scoring system classifier, which is transparent).[180]\\nA lethal autonomous weapon is a machine that locates, selects and engages human targets without human supervision.[p] By 2015, over fifty countries were reported to be researching battlefield robots.[182] These weapons are considered especially dangerous for several reasons: if they kill an innocent person it is not clear who should be held accountable, it is unlikely they will reliably choose targets, and, if produced at scale, they are potentially weapons of mass destruction.[183] In 2014, 30 nations (including China) supported a ban on autonomous weapons under the  United Nations\\' Convention on Certain Conventional Weapons, however the United States and others disagreed.[184]\\nAI provides a number of tools that are particularly useful for authoritarian governments: smart spyware, face recognition and voice recognition allow widespread surveillance; such surveillance allows machine learning to classify potential enemies of the state and can prevent them from hiding; recommendation systems can precisely target propaganda and misinformation for maximum effect; deepfakes and generative AI aid in producing misinformation; advanced AI can make authoritarian centralized decision making more competitive with liberal and decentralized systems such as markets.[185]\\nTerrorists, criminals and rogue states can use weaponized AI such as advanced digital warfare and lethal autonomous weapons.\\nMachine-learning AI is also able to design tens of thousands of toxic molecules in a matter of hours.[186]\\nFrom the early days of the development of artificial intelligence there have been arguments, for example those put forward by Weizenbaum, about whether tasks that can be done by computers actually should be done by them, given the difference between computers and humans, and between quantitative calculation and qualitative, value-based judgement. [187]\\nEconomists have frequently highlighted the risks of redundancies from AI, and speculated about unemployment if there is no adequate social policy for full employment.[188]\\nIn the past, technology has tended to increase rather than reduce total employment, but economists acknowledge that \"we\\'re in uncharted territory\" with AI.[189] A survey of economists showed disagreement about whether the increasing use of robots and AI will cause a substantial increase in long-term unemployment, but they generally agree that it could be a net benefit if productivity gains are redistributed.[190] Risk estimates vary; for example, in the 2010s Michael Osborne and Carl Benedikt Frey estimated 47% of U.S. jobs are at \"high risk\" of potential automation, while an OECD report classified only 9% of U.S. jobs as \"high risk\".[q][192] The methodology of speculating about future employment levels has been criticised as lacking evidential foundation, and for implying that technology (rather than social policy) creates unemployment (as opposed to redundancies).[188]\\nUnlike previous waves of automation, many middle-class jobs may be eliminated by artificial intelligence; The Economist stated in 2015 that \"the worry that AI could do to white-collar jobs what steam power did to blue-collar ones during the Industrial Revolution\" is \"worth taking seriously\".[193] Jobs at extreme risk range from paralegals to fast food cooks, while job demand is likely to increase for care-related professions ranging from personal healthcare to the clergy.[194]\\nIn April 2023, it was reported that 70% of the jobs for Chinese video game illlustrators had been eliminated by generative artificial intelligence.[195][196]\\nIt has been argued AI will become so powerful that humanity may irreversibly lose control of it. This could, as the physicist Stephen Hawking puts it, \"spell the end of the human race\".[197] This scenario has been common in science fiction, when a computer or robot suddenly develops a human-like \"self-awareness\" (or \"sentience\" or \"consciousness\") and becomes a malevolent character.[r] These sci-fi scenarios are misleading in several ways.\\nFirst, AI does not require human-like \"sentience\" to be an existential risk. Modern AI programs are given specific goals and use learning and intelligence to achieve them. Philosopher Nick Bostrom argued that if one gives almost any goal to a sufficiently powerful AI, it may choose to destroy humanity to achieve it (he used the example of a paperclip factory manager).[199] Stuart Russell gives the example of household robot that tries to find a way to kill its owner to prevent it from being unplugged, reasoning that \"you can\\'t fetch the coffee if you\\'re dead.\"[200] In order to be safe for humanity, a superintelligence would have to be genuinely aligned with humanity\\'s morality and values so that it is \"fundamentally on our side\".[201]\\nSecond, Yuval Noah Harari argues that AI does not require a robot body or physical control to pose an existential risk. The essential parts of civilization are not physical. Things like ideologies, law, government, money and the economy are made of language; they exist because there are stories that billions of people believe. The current prevalence of misinformation suggests that an AI could use language to convince people to believe anything, even to take actions that are destructive.[202]\\nThe opinions amongst experts and industry insiders are mixed, with sizable fractions both concerned and unconcerned by risk from eventual superintelligent AI.[203] Personalities such as Stephen Hawking, Bill Gates, Elon Musk have expressed concern about existential risk from AI.[204] \\nIn the early 2010\\'s, experts argued that the risks are too distant in the future to warrant research or that humans will be valuable from the perspective of a superintelligent machine.[205] \\nHowever, after 2016, the study of current and future risks and possible solutions became a serious area of research.[206]\\nIn 2023, AI pioneers including Geoffrey Hinton, Yoshua Bengio, Demis Hassabis, and Sam Altman issued the joint statement that \"Mitigating the risk of extinction from AI should be a global priority alongside other societal-scale risks such as pandemics and nuclear war\".[207]\\nFriendly AI are machines that have been designed from the beginning to minimize risks and to make choices that benefit humans. Eliezer Yudkowsky, who coined the term, argues that developing friendly AI should be a higher research priority: it may require a large investment and it must be completed before AI becomes an existential risk.[208]\\nMachines with intelligence have the potential to use their intelligence to make ethical decisions. The field of machine ethics provides machines with ethical principles and procedures for resolving ethical dilemmas.[209]\\nThe field of machine ethics is also called computational morality,[209]\\nand was founded at an AAAI symposium in 2005.[210]\\nOther approaches include Wendell Wallach\\'s \"artificial moral agents\"[211]\\nand Stuart J. Russell\\'s three principles for developing provably beneficial machines.[212]\\nThe regulation of artificial intelligence is the development of public sector policies and laws for promoting and regulating artificial intelligence (AI); it is therefore related to the broader regulation of algorithms.[213]\\nThe regulatory and policy landscape for AI is an emerging issue in jurisdictions globally.[214] According to AI Index at Stanford, the annual number of AI-related laws passed in the 127 survey countries jumped from one passed in 2016 to 37 passed in 2022 alone.[215][216]\\nBetween 2016 and 2020, more than 30 countries adopted dedicated strategies for AI.[217]\\nMost EU member states had released national AI strategies, as had Canada, China, India, Japan, Mauritius, the Russian Federation, Saudi Arabia, United Arab Emirates, US and Vietnam. Others were in the process of elaborating their own AI strategy, including Bangladesh, Malaysia and Tunisia.[217]\\nThe Global Partnership on Artificial Intelligence was launched in June 2020, stating a need for AI to be developed in accordance with human rights and democratic values, to ensure public confidence and trust in the technology.[217] Henry Kissinger, Eric Schmidt, and Daniel Huttenlocher published a joint statement in November 2021 calling for a government commission to regulate AI.[218] In 2023, OpenAI leaders published recommendations for the governance of superintelligence, which they believe may happen in less than 10 years.[219]\\nIn a 2022 Ipsos survey, attitudes towards AI varied greatly by country; 78% of Chinese citizens, but only 35% of Americans, agreed that \"products and services using AI have more benefits than drawbacks\".[215] A 2023 Reuters/Ipsos poll found that 61% of Americans agree, and 22% disagree, that AI poses risks to humanity.[220] In a 2023 Fox News poll, 35% of Americans thought it \"very important\", and an additional 41% thought it \"somewhat important\", for the federal government to regulate AI, versus 13% responding \"not very important\" and 8% responding \"not at all important\".[221][222]\\nThe study of mechanical or \"formal\" reasoning began with philosophers and mathematicians in antiquity. The study of logic led directly to Alan Turing\\'s theory of computation, which suggested that a machine, by shuffling symbols as simple as \"0\" and \"1\", could simulate both mathematical deduction and formal reasoning, which is known as the Church–Turing thesis.[223] This, along with concurrent discoveries in cybernetics and information theory, led researchers to consider the possibility of building an \"electronic brain\".[s][225] The first paper later recognized as \"AI\" was McCullouch and Pitts design for Turing-complete \"artificial neurons\" in 1943.[226]\\nThe field of AI research was founded at a workshop at Dartmouth College in 1956.[t][2] The attendees became the leaders of AI research in the 1960s.[u] They and their students produced programs that the press described as \"astonishing\":[v] computers were learning checkers strategies, solving word problems in algebra, proving logical theorems and speaking English.[w][3]\\nBy the middle of the 1960s, research in the U.S. was heavily funded by the Department of Defense[230] and laboratories had been established around the world.[231] Herbert Simon predicted, \"machines will be capable, within twenty years, of doing any work a man can do\".[232] Marvin Minsky agreed, writing, \"within a generation\\xa0... the problem of creating \\'artificial intelligence\\' will substantially be solved\".[233]\\nThey had, however, underestimated the difficulty of the problem.[x] Both the U.S. and British governments cut off exploratory research in response to the criticism of Sir James Lighthill[235] and ongoing pressure from the US Congress to fund more productive projects. Minsky\\'s and Papert\\'s book Perceptrons was understood as proving that artificial neural networks approach would never be useful for solving real-world tasks, thus discrediting the approach altogether.[236] The \"AI winter\", a period when obtaining funding for AI projects was difficult, followed.[5]\\nIn the early 1980s, AI research was revived by the commercial success of expert systems,[237] a form of AI program that simulated the knowledge and analytical skills of human experts. By 1985, the market for AI had reached over a billion dollars. At the same time, Japan\\'s fifth generation computer project inspired the U.S. and British governments to restore funding for academic research.[4] However, beginning with the collapse of the Lisp Machine market in 1987, AI once again fell into disrepute, and a second, longer-lasting winter began.[6]\\nMany researchers began to doubt that the current practices would be able to imitate all the processes of human cognition, especially perception, robotics, learning and pattern recognition.[238] A number of researchers began to look into \"sub-symbolic\" approaches.[239] Robotics researchers, such as Rodney Brooks, rejected \"representation\" in general and focussed directly on engineering machines that move and survive.[y]. Judea Pearl, Lofti Zadeh and others developed methods that handled incomplete and uncertain information by making reasonable guesses rather than precise logic.[83][244] But the most important development was the revival of \"connectionism\", including neural network research, by Geoffrey Hinton and others.[245] In 1990, Yann LeCun successfully showed that convolutional neural networks can recognize handwritten digits, the first of many successful applications of neural networks.[246]\\nAI gradually restored its reputation in the late 1990s and early 21st century by exploiting formal mathematical methods and by finding specific solutions to specific problems. This \"narrow\" and \"formal\" focus allowed researchers to produce verifiable results and collaborate with other fields (such as statistics, economics and mathematics).[247]\\nBy 2000, solutions developed by AI researchers were being widely used, although in the 1990s they were rarely described as \"artificial intelligence\".[248]\\nSeveral academic researchers became concerned that AI was no longer pursuing the original goal of creating versatile, fully intelligent machines. Beginning around 2002, they founded the subfield of artificial general intelligence (or \"AGI\"), which had several well-funded institutions by the 2010s.[8]\\nDeep learning began to dominate industry benchmarks in 2012 and was adopted throughout the field.[7]\\nFor many specific tasks, other methods were abandoned.[z]\\nDeep learning\\'s success was based on both hardware improvements (faster computers,[250] graphics processing units, cloud computing[251])\\nand access to large amounts of data[252] (including curated datasets,[251] such as ImageNet).\\nDeep learning\\'s success led to an enormous increase in interest and funding in AI.[aa]\\nThe amount of machine learning research (measured by total publications) increased by 50% in the years 2015–2019,[217]\\nand WIPO reported that AI was the most prolific emerging technology in terms of the number of patent applications and granted patents[253]\\nAccording to \\'AI Impacts\\', about $50 billion annually was invested in \"AI\" around 2022 in the US alone and about 20% of new US Computer Science PhD graduates have specialized in \"AI\";[254]\\nabout 800,000 \"AI\"-related US job openings existed in 2022.[255]\\nIn 2016, issues of fairness and the misuse of technology were catapulted into center stage at machine learning conferences, publications vastly increased, funding became available, and many researchers re-focussed their careers on these issues. The alignment problem became a serious field of academic study.[206]\\nAlan Turing wrote in 1950 \"I propose to consider the question \\'can machines think\\'?\"[256]\\nHe advised changing the question from whether a machine \"thinks\", to \"whether or not it is possible for machinery to show intelligent behaviour\".[256]\\nHe devised the Turing test, which measures the ability of a machine to simulate human conversation.[257] Since we can only observe the behavior of the machine, it does not matter if it is \"actually\" thinking or literally has a \"mind\". Turing notes that we can not determine these things about other people[ab] but \"it is usual to have a polite convention that everyone thinks\"[258]\\nRussell and Norvig agree with Turing that AI must be defined in terms of \"acting\" and not \"thinking\".[259] However, they are critical that the test compares machines to people. \"Aeronautical engineering texts,\" they wrote, \"do not define the goal of their field as making \\'machines that fly so exactly like pigeons that they can fool other pigeons.\\'\"[260] AI founder John McCarthy agreed, writing that \"Artificial intelligence is not, by definition, simulation of human intelligence\".[261]\\nMcCarthy defines intelligence as \"the computational part of the ability to achieve goals in the world.\"[262] Another AI founder, Marvin Minsky similarly defines it as \"the ability to solve hard problems\".[263] These definitions view intelligence in terms of well-defined problems with well-defined solutions, where both the difficulty of the problem and the performance of the program are direct measures of the \"intelligence\" of the machine—and no other philosophical discussion is required, or may not even be possible.\\nAnother definition has been adopted by Google[264], a major practitioner in the field of AI.\\nThis definition stipulates the ability of systems to synthesize information as the manifestation of intelligence, similar to the way it is defined in biological intelligence.\\nNo established unifying theory or paradigm has guided AI research for most of its history.[ac] The unprecedented success of statistical machine learning in the 2010s eclipsed all other approaches (so much so that some sources, especially in the business world, use the term \"artificial intelligence\" to mean \"machine learning with neural networks\"). This approach is mostly sub-symbolic, soft and narrow (see below). Critics argue that these questions may have to be revisited by future generations of AI researchers.\\nSymbolic AI (or \"GOFAI\")[266] simulated the high-level conscious reasoning that people use when they solve puzzles, express legal reasoning and do mathematics. They were highly successful at \"intelligent\" tasks such as algebra or IQ tests. In the 1960s, Newell and Simon proposed the physical symbol systems hypothesis: \"A physical symbol system has the necessary and sufficient means of general intelligent action.\"[267]\\nHowever, the symbolic approach failed on many tasks that humans solve easily, such as learning, recognizing an object or commonsense reasoning. Moravec\\'s paradox is the discovery that high-level \"intelligent\" tasks were easy for AI, but low level \"instinctive\" tasks were extremely difficult.[268]\\nPhilosopher Hubert Dreyfus had argued since the 1960s that human expertise depends on unconscious instinct rather than conscious symbol manipulation, and on having a \"feel\" for the situation, rather than explicit symbolic knowledge.[269]\\nAlthough his arguments had been ridiculed and ignored when they were first presented, eventually, AI research came to agree.[ad][13]\\nThe issue is not resolved: sub-symbolic reasoning can make many of the same inscrutable mistakes that human intuition does, such as algorithmic bias. Critics such as Noam Chomsky argue continuing research into symbolic AI will still be necessary to attain general intelligence,[271][272] in part because sub-symbolic AI is a move away from explainable AI: it can be difficult or impossible to understand why a modern statistical AI program made a particular decision. The emerging field of neuro-symbolic artificial intelligence attempts to bridge the two approaches.\\n\"Neats\" hope that intelligent behavior is described using simple, elegant principles (such as logic, optimization, or neural networks). \"Scruffies\" expect that it necessarily requires solving a large number of unrelated problems. Neats defend their programs with theoretical rigor, scruffies rely mainly on incremental testing to see if they work. This issue was actively discussed in the 70s and 80s,[273]\\nbut eventually was seen as irrelevant. Modern AI has elements of both.\\nFinding a provably correct or optimal solution is intractable for many important problems.[12] Soft computing is a set of techniques, including genetic algorithms, fuzzy logic and neural networks, that are tolerant of imprecision, uncertainty, partial truth and approximation. Soft computing was introduced in the late 80s and most successful AI programs in the 21st century are examples of soft computing with neural networks.\\nAI researchers are divided as to whether to pursue the goals of artificial general intelligence and superintelligence directly or to solve as many specific problems as possible (narrow AI) in hopes these solutions will lead indirectly to the field\\'s long-term goals.[274][275]\\nGeneral intelligence is difficult to define and difficult to measure, and modern AI has had more verifiable successes by focusing on specific problems with specific solutions. The experimental sub-field of artificial general intelligence studies this area exclusively.\\nThe philosophy of mind does not know whether a machine can have a mind, consciousness and mental states, in the same sense that human beings do. This issue considers the internal experiences of the machine, rather than its external behavior. Mainstream AI research considers this issue irrelevant because it does not affect the goals of the field: to build machines that can solve problems using intelligence. Russell and Norvig add that \"[t]he additional project of making a machine conscious in exactly the way humans are is not one that we are equipped to take on.\"[276] However, the question has become central to the philosophy of mind. It is also typically the central question at issue in artificial intelligence in fiction.\\nDavid Chalmers identified two problems in understanding the mind, which he named the \"hard\" and \"easy\" problems of consciousness.[277] The easy problem is understanding how the brain processes signals, makes plans and controls behavior. The hard problem is explaining how this feels or why it should feel like anything at all, assuming we are right in thinking that it truly does feel like something (Dennett\\'s consciousness illusionism says this is an illusion). Human information processing is easy to explain, however, human subjective experience is difficult to explain. For example, it is easy to imagine a color-blind person who has learned to identify which objects in their field of view are red, but it is not clear what would be required for the person to know what red looks like.[278]\\nComputationalism is the position in the philosophy of mind that the human mind is an information processing system and that thinking is a form of computing. Computationalism argues that the relationship between mind and body is similar or identical to the relationship between software and hardware and thus may be a solution to the mind–body problem. This philosophical position was inspired by the work of AI researchers and cognitive scientists in the 1960s and was originally proposed by philosophers Jerry Fodor and Hilary Putnam.[279]\\nPhilosopher John Searle characterized this position as \"strong AI\": \"The appropriately programmed computer with the right inputs and outputs would thereby have a mind in exactly the same sense human beings have minds.\"[ae]\\nSearle counters this assertion with his Chinese room argument, which attempts to show that, even if a machine perfectly simulates human behavior, there is still no reason to suppose it also has a mind.[283]\\nIf a machine has a mind and subjective experience, then it may also have sentience (the ability to feel), and if so it could also suffer; it has been argued that this could entitle it to certain rights.[284]\\nAny hypothetical robot rights would lie on a spectrum with animal rights and human rights.[285]\\nThis issue has been considered in fiction for centuries,[286]\\nand is now being considered by, for example, California\\'s Institute for the Future; however, critics argue that the discussion is premature.[287]\\nA superintelligence is a hypothetical agent that would possess intelligence far surpassing that of the brightest and most gifted human mind.[275]\\nIf research into artificial general intelligence produced sufficiently intelligent software, it might be able to reprogram and improve itself. The improved software would be even better at improving itself, leading to what I. J. Good called an \"intelligence explosion\" and Vernor Vinge called a \"singularity\".[288]\\nHowever, most technologies do not improve exponentially indefinitely, but rather follow an S-curve, slowing when they reach the physical limits of what the technology can do.[289] Consider, for example, transportation: speed increased exponentially from 1830 to 1970, but then the trend abruptly stopped when it reached physical limits.\\nRobot designer Hans Moravec, cyberneticist Kevin Warwick, and inventor Ray Kurzweil have predicted that humans and machines will merge in the future into cyborgs that are more capable and powerful than either. This idea, called transhumanism, has roots in Aldous Huxley and Robert Ettinger.[290]\\nEdward Fredkin argues that \"artificial intelligence is the next stage in evolution\", an idea first proposed by Samuel Butler\\'s \"Darwin among the Machines\" as far back as 1863, and expanded upon by George Dyson in his book of the same name in 1998.[291]\\nThought-capable artificial beings have appeared as storytelling devices since antiquity,[292]\\nand have been a persistent theme in science fiction.[293]\\nA common trope in these works began with Mary Shelley\\'s Frankenstein, where a human creation becomes a threat to its masters. This includes such works as Arthur C. Clarke\\'s and Stanley Kubrick\\'s 2001: A Space Odyssey (both 1968), with HAL 9000, the murderous computer in charge of the Discovery One spaceship, as well as The Terminator (1984) and The Matrix (1999). In contrast, the rare loyal robots such as Gort from The Day the Earth Stood Still (1951) and Bishop from Aliens (1986) are less prominent in popular culture.[294]\\nIsaac Asimov introduced the Three Laws of Robotics in many books and stories, most notably the \"Multivac\" series about a super-intelligent computer of the same name. Asimov\\'s laws are often brought up during lay discussions of machine ethics;[295]\\nwhile almost all artificial intelligence researchers are familiar with Asimov\\'s laws through popular culture, they generally consider the laws useless for many reasons, one of which is their ambiguity.[296]\\nSeveral works use AI to force us to confront the fundamental question of what makes us human, showing us artificial beings that have the ability to feel, and thus to suffer. This appears in Karel Čapek\\'s R.U.R., the films A.I. Artificial Intelligence and Ex Machina, as well as the novel Do Androids Dream of Electric Sheep?, by Philip K. Dick. Dick considers the idea that our understanding of human subjectivity is altered by technology created with artificial intelligence.[297]\\nThe two most widely used textbooks in 2023. (See the Open Syllabus).\\nThese were the four the most widely used AI textbooks in 2008:\\nLater editions.\\n'"
      ]
     },
     "execution_count": 24,
     "metadata": {},
     "output_type": "execute_result"
    }
   ],
   "source": [
    "ai"
   ]
  },
  {
   "cell_type": "code",
   "execution_count": 25,
   "metadata": {
    "id": "VfGGJFCLaF_F"
   },
   "outputs": [],
   "source": [
    "# Group texts in list\n",
    "texts = [machine_learning, ai]"
   ]
  },
  {
   "cell_type": "markdown",
   "metadata": {},
   "source": [
    "###### Tokenizing the Data With spaCy\n",
    "\n",
    "We create a `spacy_tokenizer()` function that accepts a sentence as input and processes the sentence into tokens, performing lemmatization, lowercasing, and removing stopwords.\n",
    "\n",
    "__A note from spacy documentation__: spaCy adds a special case for pronouns: all pronouns are lemmatized to the special token `-PRON-`. Unlike verbs and common nouns, there’s no clear base form of a personal pronoun. Should the lemma of “me” be “I”, or should we normalize person as well, giving “it” — or maybe “he”? spaCy’s solution is to introduce a novel symbol, `-PRON-`, which is used as the lemma for all personal pronouns."
   ]
  },
  {
   "cell_type": "code",
   "execution_count": 26,
   "metadata": {
    "id": "56Z0fduhRMb5"
   },
   "outputs": [],
   "source": [
    "# Create tokenizer function for preprocessing\n",
    "def spacy_tokenizer(text):\n",
    "\n",
    "    # Define stopwords, punctuation, and numbers\n",
    "    stop_words = spacy.lang.en.stop_words.STOP_WORDS\n",
    "    punctuations = string.punctuation\n",
    "    numbers = \"0123456789\"\n",
    "\n",
    "    # Create spacy object\n",
    "    mytokens = sp(text)\n",
    "\n",
    "    # Lemmatize each token and convert each token into lowercase\n",
    "    mytokens = [ word.lemma_.lower().strip() if word.lemma_ != \"-PRON-\" else word.lower_ for word in mytokens ]\n",
    "\n",
    "    # Remove stop words and punctuation\n",
    "    mytokens = [ word for word in mytokens if word not in stop_words and word not in punctuations ]\n",
    "\n",
    "    # Remove sufix like \".[1\" in \"experience.[1\"\n",
    "    mytokens_2 = []\n",
    "    for word in mytokens:\n",
    "      for char in word:\n",
    "        if (char in punctuations) or (char in numbers):\n",
    "          word = word.replace(char, \"\")\n",
    "      if word != \"\":\n",
    "        mytokens_2.append(word)\n",
    "\n",
    "    # Return preprocessed list of tokens\n",
    "    return mytokens_2\n",
    "\n",
    "# Tokenize texts\n",
    "processed_texts = []\n",
    "for text in texts:\n",
    "  processed_text = spacy_tokenizer(text)\n",
    "  processed_texts.append(processed_text)"
   ]
  },
  {
   "cell_type": "code",
   "execution_count": 27,
   "metadata": {
    "id": "7uJoiMgsabwj"
   },
   "outputs": [
    {
     "name": "stdout",
     "output_type": "stream",
     "text": [
      "['machine', 'learning', 'ml', 'umbrella', 'term', 'solve', 'problem', 'development', 'algorithm', 'human', 'programmer', 'cost', 'prohibitive', 'instead', 'problem', 'solve', 'help', 'machine', 'discover', 'algorithms']\n",
      "['artificial', 'intelligence', 'ai', 'intelligence', 'machine', 'software', 'oppose', 'intelligence', 'human', 'animal', 'field', 'study', 'computer', 'science', 'develop', 'study', 'intelligent', 'machine', 'ai', 'refer']\n"
     ]
    }
   ],
   "source": [
    "for processed_text in processed_texts:\n",
    "  print(processed_text[:20])"
   ]
  },
  {
   "cell_type": "code",
   "execution_count": 28,
   "metadata": {
    "id": "MYbGv4LbRRlZ"
   },
   "outputs": [
    {
     "name": "stdout",
     "output_type": "stream",
     "text": [
      "['learning', 'machine', 'ai', 'use', 'learn', 'datum', 'model', 'algorithm', 'problem', 'artificial', 'human', 'system', 'intelligence', 'network', 'example', 'training', 'include', 'decision', 'method', 'knowledge', 'neural', 'input', 'program', 'field', 'set', 'base', 'research', 'computer', 'feature', 'search', 'theory', 'approach', 'find', 'goal', 'train', 'process', 'deep', 'solve', 'classification', 'function', 'rule', 'bias', 'researcher', 'output', 'represent', 'know', 'large', 'task', 'risk', 'neuron', 'agent', 'image', 'develop', 'information', 'application', 'logic', 'term', 'increase', 'technique', 'people', 'like', 'specific', 'perform', 'action', 'general', 'high', 'analysis', 'result', 'reasoning', 'representation', 'consider', 'layer', 'study', 'language', 'label', 'time', 'technology', 'require', 's', 'lead', 'prediction', 'number', 'optimization', 'pattern', 'new', 'signal', 'mind', 'identify', 'supervised', 'possible', 'define', 'world', 'work', 'real', 'mathematical', 'tree', 'recognition', 'argue', 'symbolic', 'predict', 'performance', 'test', 'issue', 'form', 'state', 'solution', 'begin', 'future', 'eg', 'ability', 'way', 'relate', 'user', 'processing', 'data', 'tool', 'object', 'class', 'improve', 'situation', 'statistical', 'provide', 'different', 'inference', 'mining', 'variable', 'value', 'regression', 'allow', 'game', 'google', 'typically', 'reinforcement', 'classify', 'question', 'computing', 'intelligent', 'job', 'apply', 'measure', 'black', 'level', 'non', 'discover', 'space', 'area', 'create', 'describe', 'behavior', 'early', 'step', 'particular', 'probability', '–', 'bayesian', 'unsupervised', 'target', 'linear', 'widely', 'experience', 'software', 'discovery', 'able', 'generative', 'design', 'detection', 'explain', 'classifier', 'computational', 'potential', 'important', 'attempt', 'self', 'speech', 'probabilistic', 'recommendation', 'statistic', 'difficult', 'cluster', 'environment', 'relationship', 'sub', 'physical', 'complexity', 'point', 'fact', 'dictionary', 'misinformation', 'produce', 'observation', 'right', 'long', 'logical', 'medical', 'recognize', 'build', 'order', 'programming', 'modern', 'especially', 'report', 'formal', 'choose', 'science', 'exist', 'generate', 'addition', 'true', 'come', 'government', 'domain', 'low', 'dimensional', 'expert', 'learner', 'change', 'success', 'genetic', 'reason', 'think', 'reduce', 'k', 'inspire', 'networks', 'previous', 'need', 'fit', 'certain', 'policy', 'common', 'contain', 'scale', 'definition', 'multiple', 'rate', 'understand', 'white', 'robot', 'help', 'simulate', 'fairness', 'perception', 'concern', 'theoretical', 'us', 'successful', 'sparse', 'text', 'anomaly', 'academic', 'cause', 'law', 'vision', 'simple', 'brain', 'good', 'generalization', 'kind', 'category', 'statement', 'instance', 'agree', 'hypothesis', 'accuracy', 'weight', 'similar', 'algorithmic', 'mean', 'property', 'reach', 'sample', 'negative', 'book', 'machines', 'hardware', 'evaluate', 'powerful', 'strategy', 'complex', 'handle', 'analyze', 'write', 'focus', 'professional', 'fail', 'connection', 'robotic', 'association', 'feel', 'uncertain', 'ethical', 'likely', 'vector', 'matrix', 'guess', 'planning', 'component', 'funding', 'popular', 'express', 'support', 'pre', 'involve', 'introduce', 'compute', 'previously', 'try', 'variety', 'person', 'current', 'accord', 'receive', 'type', 'inductive', 'play', 'netflix', 'uncertainty', 'unit', 'tend', 'difficulty', 'expect', 'hope', 'kernel', 'edge', 'publish', 'gorilla', 'hold', 'microsoft', 'generally', 'additional', 'suggest', 'match', 'error', 'case', 'distribution', 'context', 'adopt', 'random', 'accurate', 'contrast', 'idea', 'product', 'loss', 'unknown', 'employ', 'outcome', 't', 'e', 'symbol', 'interest', 'instead', 'positive', 'supervise', 'similarity', 'structure', 'concept', 'look', 'normal', 'item', 'rely', 'directly', 'engineering', 'drive', 'emotion', 'propose', 'manifold', 'd', 'word', 'autonomous', 'assume', 'dynamic', 'reward', 'estimate', 'survey', 'racist', 'n', 'philosopher', 'russell', 'exactly', 'dataset', 'harm', 'past', 'adversarial', 'easy', 'race', 'local', 'humanity', 'industry', 'embed', 'pass', 'project', 'utility', 'weapon', 'care', 'commercial', 'late', 'svm', 'control', 'swarm', 'markov', 'patient', 'diagnosis', 'prevent', 'regulation', 'social', 'developer', 'dimensionality', 'reduction', 'turing', 'philosophy', 'source', 'deduction', 'obtain', 'small', 'widespread', 'hinton', 'americans', 'central', 'ture', 'demonstrate', 'benefit', 'unsupervise', 'thing', 'body', 'content', 'efficient', 'rare', 'predictive', 'belief', 'memory', 'found', 'united', 'economist', 'advanced', 'combine', 'health', 'hard', 'market', 'interaction', 'continue', 'video', 'narrow', 'useful', 'o', 'necessarily', 'objective', 'day', 'observe', 'caa', 'natural', 'capable', 'ann', 'chess', 'superintelligence', 'collection', 'later', 'compas', 'biological', 'refer', 'country', 'existential', 'fold', 'prove', 'consciousness', 'discipline', 'fiction', 'principle', 'subset', 'follow', 'xai', 'paradigm', 'minimize', 'device', 'gain', 'database', 'facebook', 'difference', 'polynomial', 'computation', 'preference', 'generation', 'response', 'sense', 'appear', 'billion', 'year', 'algorithms', 'soft', 'assumption', 'explanation', 'problems', 'recently', 'lack', 'sufficiently', 'position', 'development', 'assign', 'watch', 'detect', 'explainable', 'biased', 'principal', 'nature', 'draw', 'associate', 'range', 'email', 'determine', 'ml', 'achieve', 'collect', 'grow', 'relevant', 'history', 'happen', 'plan', 'external', 'youtube', 'belong', 'alan', 'select', 'landscape', 'i', 'transfer', 'correctly', 'consequence', 'modeling', 'heuristic', 'seek', 'gpu', 'second', 'replace', 'machinery', 'factor', 'basis', 'do', 'active', 'cloud', 'operate', 'choice', 'mistake', 'emulate', 'short', 'norvig', 'oppose', 'derive', 'path', 'specialized', 'hypothetical', 'graphic', 'unseen', 'face', 'far', 'apple', 'fast', 'unsolved', 'effective', 'consist', 'institution', 'unlabeled', 'champion', 'fall', 'member', 'effect', 'copyright', 'outlier', 'fuzzy', 'line', 'graph', 'relation', 'retrieval', 'occur', 'limited', 'density', 'respond', 'commonsense', 'clustering', 'main', 'internet', 'deduce', 'rarely', 'amazon', 'maximize', 'dominant', 'actually', 'branch', 'correct', 'key', 'backpropagation', 'conference', 'chatgpt', 'separate', 'original', 'near', 'vast', 'wide', 'decrease', 'subject', 'automate', 'hand', 'geoffrey', 'divide', 'incomplete', 'broad', 'numeric', 'exponentially', 'slow', 'depend', 'major', 'explicit', 'representative', 'refine', 'cross', 'send', 'false', 'regulate', 'emerge', 'power', 'event', 'company', 'access', 'exploratory', 'total', 'tell', 'attention', 'toc', 'privacy', 'animal', 'explicitly', 'philosophical', 'equip', 'implementation', 'sentience', 'resource', 'picture', 'distribute', 'experimental', 'thinking', 'kill', 'founder', 'accordance', 'logistic', 'direct', 'prize', 'joint', 'mitigate', 'single', 'win', 'view', 'engine', 'discussion', 'ibm', 'conscious', 'making', 'surpass', 'bad', 'critic', 'art', 'conclusion', 'assess', 'disease', 'business', 'believe', 'translation', 'car', 'transparency', 'unemployment', 'strong', 'service', 'compare', 'minsky', 'p', 'employment', 'sequence', 'characteristic', 'foundation', 'store', 'photo', 'society', 'st', 'aggregate', 'argument', 'overfitte', 'resolve', 'respect', 'impact', 'ethic', '—', 'box', 'transaction', 'public', 'digit', 'deal', 'asimov', 'chinese', 'team', 'pose', 'evidence', 'sensor', 'customer', 'engineer', 'filtering', 'limit', 'necessary', 'cost', 'suffer', 'pick', 'framework', 'fund', 'present', 'personal', 'mccarthy', 'jeopardy', 'thousand', 'century', 'approaches', 'john', 'pigeon', 'stage', 'verifiable', 'significantly', 'beat', 'blue', 'publication', 'pursue', 'labeling', 'cognitive', 'moravec', 'essential', 'examples', 'red', 'characterize', 'computationalism', 'topic', 'ie', 'practice', 'closely', 'searle', 'rights', 'culture', 'population', 'activate', 'patterns', 'neighbor', 'michael', 'umbrella', 'close', 'programmer', 'subjective', 'lisp', 'irrelevant', 'journal', 'usually', 'testing', 'known', 'kdd', 'easily', 'benchmark', 'focusse', 'curate', 'eventually', 'speed', 'subfield', 'convolutional', 'perceptrons', 'neat', 'recurrent', 'scruffie', 'away', 'japan', 'restore', 'middle', 'eliminate', 'mole', 'gender', 'collar', 'impossible', 'cancerous', 'underestimate', 'predictions', 'stephen', 'hawking', 'offend', 'scenario', 'chance', 'decisions', 'teacher', 'defendant', 'perceptron', 'photos', 'stuart', 'sonar', 'morality', 'criticism', 'character', 'generalized', 'highlight', 'lethal', 'paper', 'establish', 'fundamentally', 'offer', 'clear', 'china', 'classifiers', 'note', 'convention', 'authoritarian', 'surveillance', 'matter', 'speculate', 'dangerous', 'ruler', 'purpose', 'automation', 'special', 'misuse', 'letter', 'reinvention', 'june', 'defeat', 'court', 'j', 'rationale', 'hassabis', 'provably', 'leader', 'outside', 'demis', 'ipsos', 'poll', 'antiquity', 'algebra', 'trend', 'connectionism', 'simon', 'marvin', 'british', 'winter', 'mid', 'medicine', 'start', 'years', 'disagree', 'dominate', 'statistics', 'guide', 'story', 'seriously', 'period', 'concerned', 'superintelligent', 'propaganda', 'global', 'film', 'trust', 'pioneer', 'convince', 'practical', 'samuel', 'acquisition', 'arthur', 'coin', 'priority', 'friendly', 'complete', 'recommend', 'extreme', 'increasingly', 'verification', 'diamond', 'operating', 'continuous', 'dependent', 'ilp', 'background', 'particularly', 'shapiro', 'lay', 'setting', 'prolog', 'induction', 'curve', 'roc', 'mention', 'connect', 'denominator', 'web', 'numerator', 'sum', 'threshold', 'similarly', 'possibly', 'frequently', 'hidden', 'investigator', 'sound', 'remain', 'leave', 'respectively', 'svms', 'validation', 'usage', 'buy', 'implicitly', 'critical', 'patch', 'noise', 'owner', 'identification', 'states', 'raise', 'majority', 'deviation', 'intrusion', 'interesting', 'outli', 'appropriately', 'micro', 'heavily', 'likelihood', 'potato', 'score', 'european', 'george', 'racial', 'intend', 'collectively', 'commonly', 'commission', 'exhibit', 'sale', 'dick', 'r', 'mathrm', 'onion', 'trick', 'map', 'precise', 'evaluation', 'phone', 'brown', 'medium', 'firm', 'doctor', 'lose', 'diagnostic', 'fine', 'reveal', 'aid', 'deliver', 'mental', 'wrong', 'designer', 'healthcare', 'server', 'watson', 'dollar', 'burden', 'sensitivity', 'finding', 'unconscious', 'biases', 'criminal', 'reportedly', 'remove', 'systems', 'quickly', 'fei', 'challenge', 'query', 'centralized', 'trendline', 'dempster', 'holdout', 'acyclic', 'graphical', 'symptom', 'protein', 'party', 'influence', 'gaussian', 'stochastic', 'covariance', 'unobserved', 'spam', 'place', 'evolutionary', 'andor', 'decentralize', 'manipulation', 'possibility', 'incorporate', 'leverage', 'ensemble', 'correlate', 'pixel', 'reliable', 'varied', 'individual', 'unlike', 'fully', 'notably', 'integrate', 'sparsely', 'combination', 'advance', 'available', 'bound', 'assistant', 'virtual', 'affective', 'facial', 'gpt', 'others', 'transformer', 'overfitting', 'feasible', 'chomsky', 'noam', 'nlp', 'feedback', 'desire', 'yield', 'stream', 'agents', 'array', 'learned', 'supply', 'optimal', 'maximum', 'restrict', 'calculate', 'filter', 'prefer', 'related', 'rational', 'highly', 'guarantee', 'speak', 'mathematically', 'predicate', 'overall', 'conventional', 'devise', 'selection', 'suitable', 'version', 'significant', 'truth', 'underlying', 'intractable', 'proof', 'be', 'valid', 'assertion', 'discuss', 'finite', 'analytical', 'ant', 'root', 'physics', 'extend', 'jump', 'blind', 'counter', 'accurately', 'sufficient', 'end', 'affect', 'sentiment', 'approximately', 'visual', 'scientist', 'group', 'update', 'center', 'pca', 'creative', 'alexa', 'lie', 'siri', 'regularization', 'meta', 'ongoing', 'crossbar', 'advice', 'feeling', 'approximate', 'cognition', 'iteration', 'enormous', 'run', 'behavioral', 'initial', 'situations', 'aim', 'synapse', 'material', 'adjustable', 'constraint', 'electrically', 'code', 'openai', 'displace', 'enhancement', 'goals', 'extraction', 'dimension', 'trait', 'breadth', 'commonality', 'presence', 'estimation', 'encompass', 'aspect', 'default', 'genome', 'intelligently', 'criterion', 'internal', 'answer', 'semi', 'completely', 'conjunction', 'improvement', 'imprecise', 'notion', 'operation', 'simulation', 'explosion', 'economics', 'mdp', 'techniques', 'puzzle', 'exact', 'imitate', 'vehicle', 'display', 'textbook']\n"
     ]
    }
   ],
   "source": [
    "# Word embedding \n",
    "### Parameters: \n",
    "#     - min_count: minimum number of occurence of single word in corpus to be taken into account\n",
    "#     - size: dimension of the vectors representing the tokens\n",
    "#     - IMPORTANT: processed_texts must be a list of lists of tokens object!\n",
    "word2vec = Word2Vec(processed_texts, min_count=2, vector_size=100)\n",
    "vocab = list(word2vec.wv.key_to_index.keys())\n",
    "print(vocab)"
   ]
  },
  {
   "cell_type": "code",
   "execution_count": 29,
   "metadata": {
    "id": "ynLxnGryTXKc"
   },
   "outputs": [
    {
     "data": {
      "text/plain": [
       "array([-0.02102035,  0.02444497,  0.0152574 , -0.00382197, -0.00206097,\n",
       "       -0.05719496,  0.02065957,  0.07822515, -0.00942236, -0.01890632,\n",
       "       -0.02901557, -0.04368744, -0.02079357,  0.00803007, -0.01079948,\n",
       "       -0.03478552,  0.00586349, -0.0317552 ,  0.00344124, -0.06343095,\n",
       "        0.00869639,  0.02721186,  0.0103942 , -0.00125158, -0.01900052,\n",
       "        0.01548288, -0.03693912, -0.00898711, -0.02337154,  0.01439883,\n",
       "        0.03585026,  0.01300302,  0.00786632, -0.02017478, -0.02745427,\n",
       "        0.0391806 , -0.0084878 , -0.03481844, -0.02247536, -0.06249624,\n",
       "        0.00608581, -0.01531103, -0.00984825, -0.00931212,  0.02264604,\n",
       "       -0.02510201, -0.02028027, -0.01455737,  0.02169105,  0.02402383,\n",
       "        0.02550059, -0.03407102,  0.00476548, -0.00564558, -0.02226501,\n",
       "        0.01179013,  0.01485154, -0.00115969, -0.02807726,  0.0122442 ,\n",
       "        0.00928012,  0.00459585,  0.0066204 , -0.02226645, -0.05472422,\n",
       "        0.02472538,  0.01821409,  0.0252281 , -0.05758399,  0.03591997,\n",
       "       -0.00723963,  0.01740287,  0.0417165 , -0.01712316,  0.03760581,\n",
       "        0.02140409, -0.00119424, -0.01897962, -0.03165159,  0.00750612,\n",
       "       -0.02382952,  0.0046933 , -0.02990676,  0.05684167, -0.00602573,\n",
       "       -0.01262336,  0.01310972,  0.03457199,  0.01833212,  0.01554155,\n",
       "        0.04278722,  0.0235443 ,  0.0001356 , -0.0115531 ,  0.05549566,\n",
       "        0.02248792,  0.02170422, -0.03380879,  0.01840997,  0.00400029],\n",
       "      dtype=float32)"
      ]
     },
     "execution_count": 29,
     "metadata": {},
     "output_type": "execute_result"
    }
   ],
   "source": [
    "# Vector\n",
    "v1 = word2vec.wv['intelligence'] \n",
    "v1"
   ]
  },
  {
   "cell_type": "code",
   "execution_count": 30,
   "metadata": {
    "id": "MCQRhSF5bPFI"
   },
   "outputs": [
    {
     "data": {
      "text/plain": [
       "[('ai', 0.9666534066200256),\n",
       " ('learning', 0.9638615846633911),\n",
       " ('use', 0.9614884853363037),\n",
       " ('machine', 0.9606254696846008),\n",
       " ('human', 0.96016526222229),\n",
       " ('learn', 0.9583305716514587),\n",
       " ('solve', 0.9562678337097168),\n",
       " ('find', 0.9545618891716003),\n",
       " ('problem', 0.9537623524665833),\n",
       " ('artificial', 0.9531496167182922)]"
      ]
     },
     "execution_count": 30,
     "metadata": {},
     "output_type": "execute_result"
    }
   ],
   "source": [
    "# Similar vectors/words\n",
    "sim_words = word2vec.wv.most_similar('intelligence')\n",
    "sim_words"
   ]
  },
  {
   "cell_type": "code",
   "execution_count": 31,
   "metadata": {
    "id": "bRBwWMjtcrOH"
   },
   "outputs": [
    {
     "data": {
      "text/plain": [
       "0.3795771"
      ]
     },
     "execution_count": 31,
     "metadata": {},
     "output_type": "execute_result"
    }
   ],
   "source": [
    "# Similarity between two words\n",
    "word2vec.wv.similarity('computer', 'animal')"
   ]
  },
  {
   "cell_type": "code",
   "execution_count": 32,
   "metadata": {
    "id": "t2Qsloo6dz3i"
   },
   "outputs": [
    {
     "data": {
      "text/plain": [
       "0.9609003"
      ]
     },
     "execution_count": 32,
     "metadata": {},
     "output_type": "execute_result"
    }
   ],
   "source": [
    "word2vec.wv.similarity('computer', 'machine')"
   ]
  },
  {
   "cell_type": "markdown",
   "metadata": {
    "id": "zwoQg0xEf9kN"
   },
   "source": [
    "Remarks:\n",
    "* Many things can be done with Gensim (e.g. [topic modelling](https://www.machinelearningplus.com/nlp/topic-modeling-gensim-python/))\n",
    "* There exists also `Doc2Vec`, which is used to create a vectorised representation of a group of words (i.e. a document) taken collectively as a single unit (illustrated in the next section)."
   ]
  },
  {
   "cell_type": "markdown",
   "metadata": {
    "id": "o3he4niYadil"
   },
   "source": [
    "## Complaints Classification using TF-IDF and Embeddings (Doc2Vec, Word2Vec)\n",
    "We classify consumer finance complaints into 12 pre-defined categories using:\n",
    "* TF-IDF and logistic regression\n",
    "* Doc2Vec and logistic regression\n",
    "* Word2Vec and logistic regression\n",
    "\n",
    "[Doc2Vec](https://radimrehurek.com/gensim/models/doc2vec.html) is used to create a vectorised representation (embeddings) of a group of words (i.e. a document) taken collectively as a single unit. It uses a similar idea as Word2Vec where now the embeddings (vectors) of similar documents are close to each other in n-dimensional space.\n"
   ]
  },
  {
   "cell_type": "markdown",
   "metadata": {
    "id": "nz_p-bl8TFQb"
   },
   "source": [
    "### 1. Load and clean data\n",
    "We work with a sample of a large data set from Data.gov that can be found on [here](https://catalog.data.gov/dataset/consumer-complaint-database).\n",
    "\n"
   ]
  },
  {
   "cell_type": "code",
   "execution_count": 33,
   "metadata": {
    "id": "xiRTQshsihUu"
   },
   "outputs": [
    {
     "data": {
      "text/html": [
       "<div>\n",
       "<style scoped>\n",
       "    .dataframe tbody tr th:only-of-type {\n",
       "        vertical-align: middle;\n",
       "    }\n",
       "\n",
       "    .dataframe tbody tr th {\n",
       "        vertical-align: top;\n",
       "    }\n",
       "\n",
       "    .dataframe thead th {\n",
       "        text-align: right;\n",
       "    }\n",
       "</style>\n",
       "<table border=\"1\" class=\"dataframe\">\n",
       "  <thead>\n",
       "    <tr style=\"text-align: right;\">\n",
       "      <th></th>\n",
       "      <th>Date received</th>\n",
       "      <th>Product</th>\n",
       "      <th>Sub-product</th>\n",
       "      <th>Issue</th>\n",
       "      <th>Sub-issue</th>\n",
       "      <th>Consumer complaint narrative</th>\n",
       "      <th>Company public response</th>\n",
       "      <th>Company</th>\n",
       "      <th>State</th>\n",
       "      <th>ZIP code</th>\n",
       "      <th>Tags</th>\n",
       "      <th>Consumer consent provided?</th>\n",
       "      <th>Submitted via</th>\n",
       "      <th>Date sent to company</th>\n",
       "      <th>Company response to consumer</th>\n",
       "      <th>Timely response?</th>\n",
       "      <th>Consumer disputed?</th>\n",
       "      <th>Complaint ID</th>\n",
       "    </tr>\n",
       "  </thead>\n",
       "  <tbody>\n",
       "    <tr>\n",
       "      <th>0</th>\n",
       "      <td>2012-12-24</td>\n",
       "      <td>Credit card</td>\n",
       "      <td>NaN</td>\n",
       "      <td>Rewards</td>\n",
       "      <td>NaN</td>\n",
       "      <td>NaN</td>\n",
       "      <td>NaN</td>\n",
       "      <td>BANK OF AMERICA, NATIONAL ASSOCIATION</td>\n",
       "      <td>IL</td>\n",
       "      <td>60611</td>\n",
       "      <td>NaN</td>\n",
       "      <td>NaN</td>\n",
       "      <td>Web</td>\n",
       "      <td>2012-12-24</td>\n",
       "      <td>Closed with explanation</td>\n",
       "      <td>Yes</td>\n",
       "      <td>No</td>\n",
       "      <td>217083</td>\n",
       "    </tr>\n",
       "    <tr>\n",
       "      <th>1</th>\n",
       "      <td>2013-12-17</td>\n",
       "      <td>Mortgage</td>\n",
       "      <td>Conventional fixed mortgage</td>\n",
       "      <td>Application, originator, mortgage broker</td>\n",
       "      <td>NaN</td>\n",
       "      <td>NaN</td>\n",
       "      <td>NaN</td>\n",
       "      <td>REGIONS FINANCIAL CORPORATION</td>\n",
       "      <td>FL</td>\n",
       "      <td>33415</td>\n",
       "      <td>NaN</td>\n",
       "      <td>NaN</td>\n",
       "      <td>Web</td>\n",
       "      <td>2013-12-17</td>\n",
       "      <td>Closed with explanation</td>\n",
       "      <td>Yes</td>\n",
       "      <td>Yes</td>\n",
       "      <td>636638</td>\n",
       "    </tr>\n",
       "    <tr>\n",
       "      <th>2</th>\n",
       "      <td>2018-04-23</td>\n",
       "      <td>Credit reporting, credit repair services, or o...</td>\n",
       "      <td>Credit reporting</td>\n",
       "      <td>Incorrect information on your report</td>\n",
       "      <td>Information belongs to someone else</td>\n",
       "      <td>NaN</td>\n",
       "      <td>Company has responded to the consumer and the ...</td>\n",
       "      <td>Experian Information Solutions Inc.</td>\n",
       "      <td>TX</td>\n",
       "      <td>77386</td>\n",
       "      <td>NaN</td>\n",
       "      <td>NaN</td>\n",
       "      <td>Fax</td>\n",
       "      <td>2018-04-23</td>\n",
       "      <td>Closed with explanation</td>\n",
       "      <td>Yes</td>\n",
       "      <td>NaN</td>\n",
       "      <td>2883487</td>\n",
       "    </tr>\n",
       "    <tr>\n",
       "      <th>3</th>\n",
       "      <td>2019-01-04</td>\n",
       "      <td>Checking or savings account</td>\n",
       "      <td>Checking account</td>\n",
       "      <td>Managing an account</td>\n",
       "      <td>Deposits and withdrawals</td>\n",
       "      <td>NaN</td>\n",
       "      <td>NaN</td>\n",
       "      <td>HSBC NORTH AMERICA HOLDINGS INC.</td>\n",
       "      <td>AZ</td>\n",
       "      <td>94521</td>\n",
       "      <td>NaN</td>\n",
       "      <td>NaN</td>\n",
       "      <td>Referral</td>\n",
       "      <td>2019-01-08</td>\n",
       "      <td>Closed with explanation</td>\n",
       "      <td>Yes</td>\n",
       "      <td>NaN</td>\n",
       "      <td>3118526</td>\n",
       "    </tr>\n",
       "    <tr>\n",
       "      <th>4</th>\n",
       "      <td>2014-07-22</td>\n",
       "      <td>Debt collection</td>\n",
       "      <td>Payday loan</td>\n",
       "      <td>Cont'd attempts collect debt not owed</td>\n",
       "      <td>Debt is not mine</td>\n",
       "      <td>NaN</td>\n",
       "      <td>NaN</td>\n",
       "      <td>ENOVA INTERNATIONAL, INC.</td>\n",
       "      <td>GA</td>\n",
       "      <td>30038</td>\n",
       "      <td>NaN</td>\n",
       "      <td>NaN</td>\n",
       "      <td>Web</td>\n",
       "      <td>2014-07-22</td>\n",
       "      <td>Closed with explanation</td>\n",
       "      <td>Yes</td>\n",
       "      <td>No</td>\n",
       "      <td>948293</td>\n",
       "    </tr>\n",
       "  </tbody>\n",
       "</table>\n",
       "</div>"
      ],
      "text/plain": [
       "  Date received                                            Product  \\\n",
       "0    2012-12-24                                        Credit card   \n",
       "1    2013-12-17                                           Mortgage   \n",
       "2    2018-04-23  Credit reporting, credit repair services, or o...   \n",
       "3    2019-01-04                        Checking or savings account   \n",
       "4    2014-07-22                                    Debt collection   \n",
       "\n",
       "                   Sub-product                                     Issue  \\\n",
       "0                          NaN                                   Rewards   \n",
       "1  Conventional fixed mortgage  Application, originator, mortgage broker   \n",
       "2             Credit reporting      Incorrect information on your report   \n",
       "3             Checking account                       Managing an account   \n",
       "4                  Payday loan     Cont'd attempts collect debt not owed   \n",
       "\n",
       "                             Sub-issue Consumer complaint narrative  \\\n",
       "0                                  NaN                          NaN   \n",
       "1                                  NaN                          NaN   \n",
       "2  Information belongs to someone else                          NaN   \n",
       "3             Deposits and withdrawals                          NaN   \n",
       "4                     Debt is not mine                          NaN   \n",
       "\n",
       "                             Company public response  \\\n",
       "0                                                NaN   \n",
       "1                                                NaN   \n",
       "2  Company has responded to the consumer and the ...   \n",
       "3                                                NaN   \n",
       "4                                                NaN   \n",
       "\n",
       "                                 Company State ZIP code Tags  \\\n",
       "0  BANK OF AMERICA, NATIONAL ASSOCIATION    IL    60611  NaN   \n",
       "1          REGIONS FINANCIAL CORPORATION    FL    33415  NaN   \n",
       "2    Experian Information Solutions Inc.    TX    77386  NaN   \n",
       "3       HSBC NORTH AMERICA HOLDINGS INC.    AZ    94521  NaN   \n",
       "4              ENOVA INTERNATIONAL, INC.    GA    30038  NaN   \n",
       "\n",
       "  Consumer consent provided? Submitted via Date sent to company  \\\n",
       "0                        NaN           Web           2012-12-24   \n",
       "1                        NaN           Web           2013-12-17   \n",
       "2                        NaN           Fax           2018-04-23   \n",
       "3                        NaN      Referral           2019-01-08   \n",
       "4                        NaN           Web           2014-07-22   \n",
       "\n",
       "  Company response to consumer Timely response? Consumer disputed?  \\\n",
       "0      Closed with explanation              Yes                 No   \n",
       "1      Closed with explanation              Yes                Yes   \n",
       "2      Closed with explanation              Yes                NaN   \n",
       "3      Closed with explanation              Yes                NaN   \n",
       "4      Closed with explanation              Yes                 No   \n",
       "\n",
       "   Complaint ID  \n",
       "0        217083  \n",
       "1        636638  \n",
       "2       2883487  \n",
       "3       3118526  \n",
       "4        948293  "
      ]
     },
     "execution_count": 33,
     "metadata": {},
     "output_type": "execute_result"
    }
   ],
   "source": [
    "# Load data\n",
    "df = pd.read_csv('complaints_sample.csv', index_col=0)\n",
    "df.head()"
   ]
  },
  {
   "cell_type": "code",
   "execution_count": 34,
   "metadata": {
    "id": "Cys9L2XidZsq"
   },
   "outputs": [
    {
     "name": "stdout",
     "output_type": "stream",
     "text": [
      "<class 'pandas.core.frame.DataFrame'>\n",
      "Index: 9101 entries, 0 to 9100\n",
      "Data columns (total 18 columns):\n",
      " #   Column                        Non-Null Count  Dtype \n",
      "---  ------                        --------------  ----- \n",
      " 0   Date received                 9101 non-null   object\n",
      " 1   Product                       9101 non-null   object\n",
      " 2   Sub-product                   7942 non-null   object\n",
      " 3   Issue                         9101 non-null   object\n",
      " 4   Sub-issue                     6251 non-null   object\n",
      " 5   Consumer complaint narrative  3137 non-null   object\n",
      " 6   Company public response       3863 non-null   object\n",
      " 7   Company                       9101 non-null   object\n",
      " 8   State                         8946 non-null   object\n",
      " 9   ZIP code                      8199 non-null   object\n",
      " 10  Tags                          1171 non-null   object\n",
      " 11  Consumer consent provided?    5869 non-null   object\n",
      " 12  Submitted via                 9101 non-null   object\n",
      " 13  Date sent to company          9101 non-null   object\n",
      " 14  Company response to consumer  9101 non-null   object\n",
      " 15  Timely response?              9101 non-null   object\n",
      " 16  Consumer disputed?            3712 non-null   object\n",
      " 17  Complaint ID                  9101 non-null   int64 \n",
      "dtypes: int64(1), object(17)\n",
      "memory usage: 1.3+ MB\n"
     ]
    }
   ],
   "source": [
    "df.info()"
   ]
  },
  {
   "cell_type": "markdown",
   "metadata": {
    "id": "Pyg-rztyPJ6e"
   },
   "source": [
    "The data set includes 18 columns and 9101 rows describing consumer complaints about financial products. In this case, we want to predict the `Product` type (class) based on the text of the complaint (i.e. `Consumer complaint narrative`)."
   ]
  },
  {
   "cell_type": "code",
   "execution_count": 35,
   "metadata": {
    "id": "9mgx17mnpy2s"
   },
   "outputs": [
    {
     "data": {
      "text/html": [
       "<div>\n",
       "<style scoped>\n",
       "    .dataframe tbody tr th:only-of-type {\n",
       "        vertical-align: middle;\n",
       "    }\n",
       "\n",
       "    .dataframe tbody tr th {\n",
       "        vertical-align: top;\n",
       "    }\n",
       "\n",
       "    .dataframe thead th {\n",
       "        text-align: right;\n",
       "    }\n",
       "</style>\n",
       "<table border=\"1\" class=\"dataframe\">\n",
       "  <thead>\n",
       "    <tr style=\"text-align: right;\">\n",
       "      <th></th>\n",
       "      <th>Product</th>\n",
       "      <th>Consumer complaint narrative</th>\n",
       "    </tr>\n",
       "  </thead>\n",
       "  <tbody>\n",
       "    <tr>\n",
       "      <th>0</th>\n",
       "      <td>Credit card</td>\n",
       "      <td>NaN</td>\n",
       "    </tr>\n",
       "    <tr>\n",
       "      <th>1</th>\n",
       "      <td>Mortgage</td>\n",
       "      <td>NaN</td>\n",
       "    </tr>\n",
       "    <tr>\n",
       "      <th>2</th>\n",
       "      <td>Credit reporting, credit repair services, or o...</td>\n",
       "      <td>NaN</td>\n",
       "    </tr>\n",
       "    <tr>\n",
       "      <th>3</th>\n",
       "      <td>Checking or savings account</td>\n",
       "      <td>NaN</td>\n",
       "    </tr>\n",
       "    <tr>\n",
       "      <th>4</th>\n",
       "      <td>Debt collection</td>\n",
       "      <td>NaN</td>\n",
       "    </tr>\n",
       "  </tbody>\n",
       "</table>\n",
       "</div>"
      ],
      "text/plain": [
       "                                             Product  \\\n",
       "0                                        Credit card   \n",
       "1                                           Mortgage   \n",
       "2  Credit reporting, credit repair services, or o...   \n",
       "3                        Checking or savings account   \n",
       "4                                    Debt collection   \n",
       "\n",
       "  Consumer complaint narrative  \n",
       "0                          NaN  \n",
       "1                          NaN  \n",
       "2                          NaN  \n",
       "3                          NaN  \n",
       "4                          NaN  "
      ]
     },
     "execution_count": 35,
     "metadata": {},
     "output_type": "execute_result"
    }
   ],
   "source": [
    "# Select columns of interest\n",
    "data = df[[\"Product\", \"Consumer complaint narrative\"]]\n",
    "data.head()"
   ]
  },
  {
   "cell_type": "markdown",
   "metadata": {
    "id": "NhB01GG6QXVP"
   },
   "source": [
    "Around 2/3 of the complaints are null values. They are not useful for the prediction so we drop them."
   ]
  },
  {
   "cell_type": "code",
   "execution_count": 36,
   "metadata": {
    "id": "mbno4wghqCNH"
   },
   "outputs": [
    {
     "name": "stdout",
     "output_type": "stream",
     "text": [
      "Product                            0\n",
      "Consumer complaint narrative    5964\n",
      "dtype: int64\n"
     ]
    },
    {
     "data": {
      "text/html": [
       "<div>\n",
       "<style scoped>\n",
       "    .dataframe tbody tr th:only-of-type {\n",
       "        vertical-align: middle;\n",
       "    }\n",
       "\n",
       "    .dataframe tbody tr th {\n",
       "        vertical-align: top;\n",
       "    }\n",
       "\n",
       "    .dataframe thead th {\n",
       "        text-align: right;\n",
       "    }\n",
       "</style>\n",
       "<table border=\"1\" class=\"dataframe\">\n",
       "  <thead>\n",
       "    <tr style=\"text-align: right;\">\n",
       "      <th></th>\n",
       "      <th>Product</th>\n",
       "      <th>Consumer complaint narrative</th>\n",
       "    </tr>\n",
       "  </thead>\n",
       "  <tbody>\n",
       "    <tr>\n",
       "      <th>0</th>\n",
       "      <td>Credit card or prepaid card</td>\n",
       "      <td>Back in XX/XX/2019 a company called XXXX charg...</td>\n",
       "    </tr>\n",
       "    <tr>\n",
       "      <th>1</th>\n",
       "      <td>Credit reporting, credit repair services, or o...</td>\n",
       "      <td>XXXX is reporting a single late payment over 7...</td>\n",
       "    </tr>\n",
       "    <tr>\n",
       "      <th>2</th>\n",
       "      <td>Credit reporting, credit repair services, or o...</td>\n",
       "      <td>I have disputed the following account, ( 1 ) X...</td>\n",
       "    </tr>\n",
       "    <tr>\n",
       "      <th>3</th>\n",
       "      <td>Credit reporting, credit repair services, or o...</td>\n",
       "      <td>In XX/XX/XXXXI disputed the following items on...</td>\n",
       "    </tr>\n",
       "    <tr>\n",
       "      <th>4</th>\n",
       "      <td>Credit card or prepaid card</td>\n",
       "      <td>The response from Citi Cards has cleared up a ...</td>\n",
       "    </tr>\n",
       "  </tbody>\n",
       "</table>\n",
       "</div>"
      ],
      "text/plain": [
       "                                             Product  \\\n",
       "0                        Credit card or prepaid card   \n",
       "1  Credit reporting, credit repair services, or o...   \n",
       "2  Credit reporting, credit repair services, or o...   \n",
       "3  Credit reporting, credit repair services, or o...   \n",
       "4                        Credit card or prepaid card   \n",
       "\n",
       "                        Consumer complaint narrative  \n",
       "0  Back in XX/XX/2019 a company called XXXX charg...  \n",
       "1  XXXX is reporting a single late payment over 7...  \n",
       "2  I have disputed the following account, ( 1 ) X...  \n",
       "3  In XX/XX/XXXXI disputed the following items on...  \n",
       "4  The response from Citi Cards has cleared up a ...  "
      ]
     },
     "execution_count": 36,
     "metadata": {},
     "output_type": "execute_result"
    }
   ],
   "source": [
    "# Drop NaN\n",
    "print(data.isnull().sum())\n",
    "data = data.dropna().reset_index(drop=True)\n",
    "data.head()"
   ]
  },
  {
   "cell_type": "code",
   "execution_count": 37,
   "metadata": {
    "id": "mgb3yc3KqCLr"
   },
   "outputs": [
    {
     "name": "stdout",
     "output_type": "stream",
     "text": [
      "<class 'pandas.core.frame.DataFrame'>\n",
      "RangeIndex: 3137 entries, 0 to 3136\n",
      "Data columns (total 2 columns):\n",
      " #   Column                        Non-Null Count  Dtype \n",
      "---  ------                        --------------  ----- \n",
      " 0   Product                       3137 non-null   object\n",
      " 1   Consumer complaint narrative  3137 non-null   object\n",
      "dtypes: object(2)\n",
      "memory usage: 49.1+ KB\n"
     ]
    }
   ],
   "source": [
    "data.info()"
   ]
  },
  {
   "cell_type": "markdown",
   "metadata": {
    "id": "hCasthTDQrYb"
   },
   "source": [
    "We end up with 3137 complaints for which we would like to predict the product concerned."
   ]
  },
  {
   "cell_type": "markdown",
   "metadata": {
    "id": "Rc8z_6SkTIx2"
   },
   "source": [
    "### 2. Analyze the Data"
   ]
  },
  {
   "cell_type": "code",
   "execution_count": 38,
   "metadata": {
    "id": "1JQ8GFf0ihb3"
   },
   "outputs": [
    {
     "data": {
      "text/plain": [
       "610062"
      ]
     },
     "execution_count": 38,
     "metadata": {},
     "output_type": "execute_result"
    }
   ],
   "source": [
    "# Total number of words - over 600,000\n",
    "data['Consumer complaint narrative'].apply(lambda x: len(x.split(' '))).sum()"
   ]
  },
  {
   "cell_type": "code",
   "execution_count": 39,
   "metadata": {
    "id": "ppQTFaZ6t9dy"
   },
   "outputs": [
    {
     "data": {
      "text/plain": [
       "'I received an American Express/Skymiles card in the mail which I did NOT apply for, but which used my correct first and last name, although I always use my full name on any official document or contract. On the same day, an additional notice from AmEx came in a separate envelope which stated \" We received your request to update your email address to XXXXXXXXXXXX \\'\\' ( this is NOT my email address ). Obviously, the individual who opened this fraulent card account is the same individual who changed the email address ( which he/she did so before even receiving the actual card ), which might be indicative that the account was opened via email. I called the AmEx number on the back of the card after I open this mail on XXXX XXXX and subsequently spent several hours on the phone with several American Express representatives - none of whom were particualrly helpful and each of whom asked my to provide my full name and social security number. I refused to provide my SSN. \\nI requested : 1. That American Express close this account immediately. 2. That AmEx send notifications to the XXXX main credit report companies stating that this card was never solicited by me and that its issuance should not be considered should I request any form of future credit. 3. That they tell me what the recipient email address was changed FROM, so that I could tell if my email address had been compromised as well. These requests were received by the represenatives, but I do not believe they were fully comprehended. So, I requested : 4. That I be connected to an individual in the AmEx fraud department who was both competent and authorized to assist me. A supervisor was eventually put on the line who stated that the account would be cancelled, but said that I would have to notify the credit bureaus myself. When I explained that AmEx would need to perform the notification on their letterhead or from a recognized AmeX online entity in order for the request to be taken seriously, the supervisor had no idea what I was talking about. Of note is the fact that none of the individuals with whom I spoke would identlfy themselves by anything other than a first name, none would provide a last name, although XXXX did admit that they were in XXXX. \\n\\nSeveral things were apparent to me which were evidently not apparent to the representatives at American Express. The individual who requested the card in my name ( obviously utilizing my correct mailing address ) could contact AmEx again via email and state that he/she had moved and that a replacement card be sent to their new address. It would not matter if the bill would eventually be sent to a possibly fraudulent address, the identity thief would have a month at minimum to max out the credit limit on the card. However, the eventual failure to make payment would show up under my name since AmEx apparently is not going to notify the credit bureaus that the card is not, and never was mine. \\n\\nI called Amex again today ( XXXX XXXX ) to inquire if the card had been cancelled and whether the files had been annotated to indicate that I did not request this card. I was asked for my SSN, after I refused to give my SSN but did give the rep the account number which was on the card, she stated simply that if I did not give my SSN she could not help. \\n\\nI did go online to the American Express website to try to find a stateside fraud department phone number, but all I could find were robo-numbers. I believe a real fraud investigator would at minumum run a file search to see if any other cards were issued to anybody using XXXXXXXXXXXX domain name, or the unknown previous email address. \\n\\nRe the \" how much money did you lose \\'\\' section below, frankly, I have no idea at this time, but my credit future may be at stake'"
      ]
     },
     "execution_count": 39,
     "metadata": {},
     "output_type": "execute_result"
    }
   ],
   "source": [
    "# Sample\n",
    "data['Consumer complaint narrative'].sample().values[0]"
   ]
  },
  {
   "cell_type": "markdown",
   "metadata": {
    "id": "HDpSTJyZQ6O5"
   },
   "source": [
    "The data has been anonymized (i.e. names, dates, IDs, etc. have been replaced by XXXX)."
   ]
  },
  {
   "cell_type": "markdown",
   "metadata": {},
   "source": [
    "Check out the classes counts. There are several classes with very few samples."
   ]
  },
  {
   "cell_type": "code",
   "execution_count": 40,
   "metadata": {
    "id": "vdDpzPPouaSN"
   },
   "outputs": [
    {
     "data": {
      "text/plain": [
       "Product\n",
       "Credit reporting, credit repair services, or other personal consumer reports    1123\n",
       "Debt collection                                                                  640\n",
       "Mortgage                                                                         378\n",
       "Credit card or prepaid card                                                      211\n",
       "Credit reporting                                                                 167\n",
       "Student loan                                                                     129\n",
       "Checking or savings account                                                      119\n",
       "Credit card                                                                       74\n",
       "Money transfer, virtual currency, or money service                                64\n",
       "Bank account or service                                                           64\n",
       "Vehicle loan or lease                                                             57\n",
       "Payday loan, title loan, or personal loan                                         47\n",
       "Consumer Loan                                                                     38\n",
       "Payday loan                                                                        8\n",
       "Money transfers                                                                    8\n",
       "Prepaid card                                                                       6\n",
       "Other financial service                                                            4\n",
       "Name: count, dtype: int64"
      ]
     },
     "execution_count": 40,
     "metadata": {},
     "output_type": "execute_result"
    }
   ],
   "source": [
    "data.Product.value_counts()"
   ]
  },
  {
   "cell_type": "markdown",
   "metadata": {
    "id": "FDon6qpmRMzo"
   },
   "source": [
    "There are 17 categories. We group some of them together (e.g. `Credit card`, `Prepaid card`, and `Credit or prepaid card`) because they are sub-categories of each other. We end up with 12 categories."
   ]
  },
  {
   "cell_type": "code",
   "execution_count": 41,
   "metadata": {
    "id": "er1kzzv3vBSt"
   },
   "outputs": [
    {
     "data": {
      "text/plain": [
       "Product\n",
       "Credit reporting, credit repair services, or other personal consumer reports    1290\n",
       "Debt collection                                                                  640\n",
       "Mortgage                                                                         378\n",
       "Credit card or prepaid card                                                      291\n",
       "Student loan                                                                     129\n",
       "Checking or savings account                                                      119\n",
       "Money transfer, virtual currency, or money service                                72\n",
       "Bank account or service                                                           64\n",
       "Vehicle loan or lease                                                             57\n",
       "Payday loan, title loan, or personal loan                                         55\n",
       "Consumer Loan                                                                     38\n",
       "Other financial service                                                            4\n",
       "Name: count, dtype: int64"
      ]
     },
     "execution_count": 41,
     "metadata": {},
     "output_type": "execute_result"
    }
   ],
   "source": [
    "# Clean\n",
    "dic_replace = {'Credit reporting':'Credit reporting, credit repair services, or other personal consumer reports', \n",
    "               'Credit card':'Credit card or prepaid card', \n",
    "               'Payday loan':'Payday loan, title loan, or personal loan', \n",
    "               'Money transfers':'Money transfer, virtual currency, or money service',\n",
    "               'Prepaid card':'Credit card or prepaid card',\n",
    "               'Virtual currency':'Money transfer, virtual currency, or money service'}\n",
    "data.replace(dic_replace, inplace=True)\n",
    "data.Product.value_counts()"
   ]
  },
  {
   "cell_type": "code",
   "execution_count": 42,
   "metadata": {
    "id": "iEeOpaMQtgAA"
   },
   "outputs": [
    {
     "data": {
      "image/png": "[encoded data removed]",
      "text/plain": [
       "<Figure size 1200x400 with 1 Axes>"
      ]
     },
     "metadata": {},
     "output_type": "display_data"
    }
   ],
   "source": [
    "# Plot number of complaints per category\n",
    "cnt_pro = data['Product'].value_counts()\n",
    "plt.figure(figsize=(12,4))\n",
    "sns.barplot(x=cnt_pro.index, y=cnt_pro.values, alpha=0.8)\n",
    "plt.ylabel('Number of Occurrences', fontsize=12)\n",
    "plt.xlabel('Product', fontsize=12)\n",
    "plt.xticks(rotation=90)\n",
    "plt.show()"
   ]
  },
  {
   "cell_type": "markdown",
   "metadata": {},
   "source": [
    "Let's compute the base rate - the proportion of the majority class."
   ]
  },
  {
   "cell_type": "code",
   "execution_count": 43,
   "metadata": {
    "id": "5JdF1razudYJ"
   },
   "outputs": [
    {
     "data": {
      "text/plain": [
       "0.4112"
      ]
     },
     "execution_count": 43,
     "metadata": {},
     "output_type": "execute_result"
    }
   ],
   "source": [
    "# Base rate\n",
    "round(len(data[data.Product == \"Credit reporting, credit repair services, or other personal consumer reports\"]) / len (data), 4)"
   ]
  },
  {
   "cell_type": "markdown",
   "metadata": {
    "id": "bBr6OSytTLgD"
   },
   "source": [
    "### 3. Classification using TF-IDF and Logistic Regression"
   ]
  },
  {
   "cell_type": "code",
   "execution_count": 44,
   "metadata": {
    "id": "eU2xSf8sTevp"
   },
   "outputs": [],
   "source": [
    "# Import packages\n",
    "from sklearn.linear_model import LogisticRegression\n",
    "from sklearn.model_selection import train_test_split\n",
    "from sklearn.pipeline import Pipeline\n",
    "from sklearn.metrics import confusion_matrix, accuracy_score, ConfusionMatrixDisplay"
   ]
  },
  {
   "cell_type": "code",
   "execution_count": 45,
   "metadata": {
    "id": "vXHnUbjerLPD"
   },
   "outputs": [],
   "source": [
    "# Define tokenizer function\n",
    "def spacy_tokenizer(sentence):\n",
    "\n",
    "    punctuations = string.punctuation\n",
    "    stop_words = spacy.lang.en.stop_words.STOP_WORDS\n",
    "\n",
    "    # Create token object, which is used to create documents with linguistic annotations.\n",
    "    mytokens = sp(sentence)\n",
    "\n",
    "    # Lemmatize each token and convert each token into lowercase\n",
    "    mytokens = [ word.lemma_.lower().strip() if word.lemma_ != \"-PRON-\" else word.lower_ for word in mytokens ]\n",
    "\n",
    "    # Remove stop words and punctuation\n",
    "    mytokens = [ word for word in mytokens if word not in stop_words and word not in punctuations ]\n",
    "\n",
    "    # Remove anonymous dates and people\n",
    "    mytokens = [ word.replace('xx/', '').replace('xxxx/', '').replace('xx', '') for word in mytokens ]\n",
    "    mytokens = [ word for word in mytokens if word not in [\"xxxx\", \"xx\", \"\"] ]\n",
    "\n",
    "    # Return preprocessed list of tokens\n",
    "    return mytokens"
   ]
  },
  {
   "cell_type": "code",
   "execution_count": 46,
   "metadata": {
    "id": "38ttjGhrihZF"
   },
   "outputs": [
    {
     "data": {
      "text/plain": [
       "949     I have contacted Equifax several times via pho...\n",
       "884     There are many mistakes appear in my report wi...\n",
       "1441    I received a notice of debt from PSC regarding...\n",
       "582     AFTER RECEIVING A CURRENT COPY OF MY CREDIT RE...\n",
       "1515    A check was stolen from our checkbook and cash...\n",
       "                              ...                        \n",
       "664     Home Depot credit card number on bill does not...\n",
       "3125    Lawsuit and judgment filed against me for a de...\n",
       "1318    Was lied to about the payment and what the pay...\n",
       "723     To All party involve XXXX XXXX. XXXX XXXX XXXX...\n",
       "2863    I tried unsuccessfully today ( XX/XX/2017 ) to...\n",
       "Name: Consumer complaint narrative, Length: 2509, dtype: object"
      ]
     },
     "execution_count": 46,
     "metadata": {},
     "output_type": "execute_result"
    }
   ],
   "source": [
    "# Select features\n",
    "X = data['Consumer complaint narrative'] # the features we want to analyze\n",
    "ylabels = data['Product'] # the labels, or answers, we want to test against\n",
    "\n",
    "# Train test split (20% as test)\n",
    "X_train, X_test, y_train, y_test = train_test_split(X, ylabels, test_size=0.2, random_state=1234)\n",
    "\n",
    "X_train"
   ]
  },
  {
   "cell_type": "code",
   "execution_count": 47,
   "metadata": {
    "id": "dOHhL3ZgxUZh"
   },
   "outputs": [
    {
     "data": {
      "text/plain": [
       "949     Credit reporting, credit repair services, or o...\n",
       "884     Credit reporting, credit repair services, or o...\n",
       "1441                                      Debt collection\n",
       "582     Credit reporting, credit repair services, or o...\n",
       "1515                          Checking or savings account\n",
       "                              ...                        \n",
       "664                           Credit card or prepaid card\n",
       "3125                                      Debt collection\n",
       "1318                                      Debt collection\n",
       "723     Credit reporting, credit repair services, or o...\n",
       "2863    Credit reporting, credit repair services, or o...\n",
       "Name: Product, Length: 2509, dtype: object"
      ]
     },
     "execution_count": 47,
     "metadata": {},
     "output_type": "execute_result"
    }
   ],
   "source": [
    "y_train"
   ]
  },
  {
   "cell_type": "code",
   "execution_count": null,
   "metadata": {
    "id": "3tTbx3oswIan"
   },
   "outputs": [],
   "source": [
    "# Define vectorizer\n",
    "tfidf = TfidfVectorizer(sublinear_tf=True, min_df=5, norm='l2', encoding='latin-1', ngram_range=(1, 2), tokenizer=spacy_tokenizer)\n",
    "\n",
    "# Define classifier\n",
    "classifier = LogisticRegression(solver='lbfgs', max_iter=1000)\n",
    "\n",
    "# Create pipeline to combine the TfIdf and the classifier\n",
    "pipe = Pipeline([('vectorizer', tfidf),\n",
    "                 ('classifier', classifier)])\n",
    "\n",
    "# Fit model on training set\n",
    "pipe.fit(X_train, y_train)"
   ]
  },
  {
   "cell_type": "code",
   "execution_count": 49,
   "metadata": {
    "id": "dC3Pbqxlxod2"
   },
   "outputs": [
    {
     "name": "stdout",
     "output_type": "stream",
     "text": [
      "0.7373\n"
     ]
    },
    {
     "data": {
      "text/plain": [
       "<sklearn.metrics._plot.confusion_matrix.ConfusionMatrixDisplay at 0x7fba61aba410>"
      ]
     },
     "execution_count": 49,
     "metadata": {},
     "output_type": "execute_result"
    },
    {
     "data": {
      "image/png": "[encoded data removed]",
      "text/plain": [
       "<Figure size 640x480 with 2 Axes>"
      ]
     },
     "metadata": {},
     "output_type": "display_data"
    }
   ],
   "source": [
    "# Predictions\n",
    "y_pred = pipe.predict(X_test)\n",
    "\n",
    "# Evaluate model\n",
    "print(round(accuracy_score(y_test, y_pred), 4))\n",
    "conf_mat = confusion_matrix(y_test, y_pred)\n",
    "conf_mat = ConfusionMatrixDisplay(conf_mat)\n",
    "\n",
    "conf_mat.plot()"
   ]
  },
  {
   "cell_type": "markdown",
   "metadata": {
    "id": "Thl75Ei5TRZz"
   },
   "source": [
    "### 4. Doc2Vec embeddings and Logistic Regression\n",
    "We now try to do the same exercise, but using text embeddings. Below we train Doc2Vec on our dataset."
   ]
  },
  {
   "cell_type": "code",
   "execution_count": 50,
   "metadata": {
    "id": "PDBzqEryVgSY"
   },
   "outputs": [
    {
     "name": "stdout",
     "output_type": "stream",
     "text": [
      "0     ([2019, company, charge, credit, card, 230.00,...\n",
      "1     ([report, single, late, payment, 7, year, old,...\n",
      "2     ([dispute, following, account, 1, 4.00, 2, 0.0...\n",
      "3     ([i, dispute, follow, item, credit, report, bu...\n",
      "4     ([response, citi, cards, clear, lot, confusion...\n",
      "5     ([concern, contact, today, try, payment, mortg...\n",
      "6     ([write, letter, file, complaint, begin, recei...\n",
      "7     ([2016, purchase, truck, tell, finance, manage...\n",
      "8     ([employer, submit, background, check, receive...\n",
      "9     ([authorize, hard, credit, pull, credit, autho...\n",
      "10    ([rushcard, access, fund, account, negative, b...\n",
      "11    ([old, closed, account, remove, old, voluntary...\n",
      "12    ([executive, offices, department, credit, card...\n",
      "13    ([2, hard, inquiries, cbna, apply, card, suspe...\n",
      "14    ([hard, inquiry, submit, credit, report, barcl...\n",
      "15    ([request, credit, report, notice, account, re...\n",
      "16    ([yes, send, letter, state, want, verification...\n",
      "17    ([capital, auto, finance, tx, copy, letter, se...\n",
      "18    ([hi, transfer, money, brother, law, bank, acc...\n",
      "19    ([contact, mortgage, company, inform, start, n...\n",
      "dtype: object\n"
     ]
    }
   ],
   "source": [
    "# Tokenize data - same tokenizer function as before\n",
    "from gensim.models.doc2vec import TaggedDocument\n",
    "sample_tagged = data.apply(lambda r: TaggedDocument(words=spacy_tokenizer(r['Consumer complaint narrative']), tags=[r.Product]), axis=1)\n",
    "print(sample_tagged.head(20))"
   ]
  },
  {
   "cell_type": "code",
   "execution_count": 51,
   "metadata": {
    "id": "-hatOMpSPAqw"
   },
   "outputs": [
    {
     "data": {
      "text/plain": [
       "TaggedDocument(words=['rushcard', 'access', 'fund', 'account', 'negative', 'balance', 'week', 'customer', 'service', 'hang', 'numerous', 'time', 'hold', 'hr', 'time', 've', 'finally', 'tell', 'idea', 'money', 've', 'file', 'email', 'complaint', 'receive', 'different', 'ticket', 'number', \"''\", 'respond', 'week', 'basically', 'm', 'answer'], tags=['Credit card or prepaid card'])"
      ]
     },
     "execution_count": 51,
     "metadata": {},
     "output_type": "execute_result"
    }
   ],
   "source": [
    "sample_tagged.values[10]"
   ]
  },
  {
   "cell_type": "code",
   "execution_count": 52,
   "metadata": {
    "id": "KdSvlQf26uZb"
   },
   "outputs": [
    {
     "data": {
      "text/plain": [
       "949     ([contact, equifax, time, phone, online, class...\n",
       "884     ([mistake, appear, report, understanding], [Cr...\n",
       "1441    ([receive, notice, debt, psc, regard, medical,...\n",
       "582     ([receive, current, copy, credit, report, disc...\n",
       "1515    ([check, steal, checkbook, cash, 2000.00, unkn...\n",
       "                              ...                        \n",
       "664     ([home, depot, credit, card, number, bill, mat...\n",
       "3125    ([lawsuit, judgment, file, defaulted, credit, ...\n",
       "1318    ([lie, payment, payment, harass, -+, collectio...\n",
       "723     ([party, involve, experian, dispute, departmen...\n",
       "2863    ([try, unsuccessfully, today, 2017, equifax, c...\n",
       "Length: 2509, dtype: object"
      ]
     },
     "execution_count": 52,
     "metadata": {},
     "output_type": "execute_result"
    }
   ],
   "source": [
    "# Train test split - same split as before\n",
    "train_tagged, test_tagged = train_test_split(sample_tagged, test_size=0.2, random_state=1234)\n",
    "\n",
    "train_tagged"
   ]
  },
  {
   "cell_type": "code",
   "execution_count": 53,
   "metadata": {
    "id": "tNGTNrwo7mhN"
   },
   "outputs": [
    {
     "data": {
      "text/plain": [
       "2624    ([inform, amazon, 1, year, purchase, accrue, i...\n",
       "2222    ([contact, company, having, receive, documenta...\n",
       "2992    ([wrong, information, order, steal, identity, ...\n",
       "1935    ([contact, ditech, financial, regard, incorrec...\n",
       "1616    ([document, home, loan, false, state, 2, loan,...\n",
       "                              ...                        \n",
       "1694    ([buy, piece, furniture, sofa, recliner, '', b...\n",
       "2666    ([hi, try, resolve, matter, company, phoenix, ...\n",
       "2082    ([spouse, visit, local, branch, security, fina...\n",
       "287     ([account, total, 9500.00, open, 2008, close, ...\n",
       "516     ([send, copy, bill, experian, bill, experian, ...\n",
       "Length: 628, dtype: object"
      ]
     },
     "execution_count": 53,
     "metadata": {},
     "output_type": "execute_result"
    }
   ],
   "source": [
    "test_tagged"
   ]
  },
  {
   "cell_type": "code",
   "execution_count": 54,
   "metadata": {
    "id": "OhkoBMP_o0HN"
   },
   "outputs": [],
   "source": [
    "# Define Doc2Vec and build vocabulary\n",
    "from gensim.models import Doc2Vec\n",
    "\n",
    "model_dbow = Doc2Vec(dm=0, vector_size=100, negative=6, hs=0, min_count=1, sample=0, workers=2, epochs=300)\n",
    "model_dbow.build_vocab([x for x in train_tagged.values])"
   ]
  },
  {
   "cell_type": "markdown",
   "metadata": {
    "id": "QqBwLmHGU8XD"
   },
   "source": [
    "We now train the distributed bag of words model. In short, it trains a neural network and the optimal weights are the coefficients of the vectors of the documents. Therefore, similar documents will be close to each other in the N-dimentional space (N being the size of the vectors). More information on this [here](https://thinkinfi.com/simple-doc2vec-explained/)."
   ]
  },
  {
   "cell_type": "code",
   "execution_count": 55,
   "metadata": {
    "id": "vDU2E5fCpHVj"
   },
   "outputs": [],
   "source": [
    "# Train distributed Bag of Word model\n",
    "model_dbow.train(train_tagged, total_examples=model_dbow.corpus_count, epochs=model_dbow.epochs)"
   ]
  },
  {
   "cell_type": "code",
   "execution_count": 56,
   "metadata": {},
   "outputs": [],
   "source": [
    "# Select X and y\n",
    "def vec_for_learning(model, tagged_docs):\n",
    "    sents = tagged_docs.values\n",
    "    targets, regressors = zip(*[(doc.tags[0], model.infer_vector(doc.words, epochs=100)) for doc in sents])\n",
    "    return targets, regressors\n",
    "\n",
    "y_train, X_train = vec_for_learning(model_dbow, train_tagged)\n",
    "y_test, X_test = vec_for_learning(model_dbow, test_tagged)"
   ]
  },
  {
   "cell_type": "code",
   "execution_count": 57,
   "metadata": {
    "id": "O98HjFkWs6QI"
   },
   "outputs": [
    {
     "data": {
      "text/plain": [
       "(array([-0.41588297, -0.32514226, -0.31055874,  0.6836828 , -0.58041906,\n",
       "         0.43964544, -0.80031234,  0.11132877, -0.9994294 ,  0.039044  ,\n",
       "        -0.24579525, -0.33946773, -0.09361037, -0.26424557,  0.02989752,\n",
       "        -0.8933084 , -0.67005765,  0.19099267, -0.7047466 ,  0.67540693,\n",
       "         0.6263626 , -0.63835   , -0.35288358,  0.4312508 , -0.1205531 ,\n",
       "        -0.591619  ,  0.27337798, -0.19730327,  0.42337188,  0.02953062,\n",
       "         0.24201794, -0.3101396 , -0.08999134, -0.65561485,  0.59740424,\n",
       "        -0.55434513,  1.2006669 ,  0.40427974, -0.74215084,  0.27849615,\n",
       "         0.06966137, -0.5325776 ,  0.31618538, -1.5850061 , -0.55946946,\n",
       "        -0.15179767,  0.26077598, -0.27501377,  0.79663324, -0.736232  ,\n",
       "         0.5574395 ,  0.28237304,  0.03121961, -1.3472066 , -0.21962346,\n",
       "         0.63421005, -0.07812461, -0.20003471,  0.16349484,  0.07326838,\n",
       "        -0.18743615,  0.7946345 , -0.31480256, -0.6747231 ,  0.5588378 ,\n",
       "         0.07787344,  0.279514  , -0.16798884, -0.35918215,  0.290723  ,\n",
       "        -0.3655699 , -0.8715221 ,  0.5706911 ,  0.2712096 , -0.23164766,\n",
       "        -0.26144552, -0.0111767 , -0.5620755 ,  0.09487262,  0.5621824 ,\n",
       "        -0.33749187,  0.10610437, -1.2291858 , -0.15031819, -0.19948831,\n",
       "         0.23094848, -0.02478567, -0.4272976 ,  0.62478435, -0.09073234,\n",
       "        -0.251264  ,  0.14704083, -0.30346027,  0.29066318, -0.19543718,\n",
       "         1.1662277 , -0.3399495 , -0.05516245, -0.4496881 ,  0.42084378],\n",
       "       dtype=float32),\n",
       " array([-0.4765835 , -0.66875815, -0.27912793,  0.27527368, -0.03066697,\n",
       "        -0.11368558, -0.5913225 , -0.05913215, -0.42014185,  0.5503275 ,\n",
       "        -0.3142131 ,  0.23681904, -0.28215873, -0.03117425, -0.0089712 ,\n",
       "        -0.21868223,  0.10419582,  0.4210357 , -0.46745092, -0.23846538,\n",
       "        -0.15399954,  0.22299977, -0.7629236 , -0.06218128, -0.0179127 ,\n",
       "        -0.7460305 , -0.3917448 , -0.85642356, -0.02438553,  0.08557221,\n",
       "         0.32040167,  0.4915513 , -0.4041475 , -0.34687483, -0.15826616,\n",
       "         0.00213365,  0.1098493 , -0.133704  ,  0.08455972,  0.514175  ,\n",
       "        -0.08352714, -0.21045196, -0.08581937, -0.48919457, -0.19443457,\n",
       "        -0.4094093 ,  0.16716583, -0.20820399,  0.5780468 , -0.5992982 ,\n",
       "        -0.12445214,  0.19485924,  0.08749442, -0.21449116,  0.06251221,\n",
       "         0.274767  , -0.13536745,  0.23205982, -0.43876156,  0.06312615,\n",
       "        -0.12468861,  0.62550026, -0.14518759, -0.30986455,  0.22710031,\n",
       "        -0.31407377, -0.05985469,  0.01390122, -0.44200647, -0.55435985,\n",
       "         0.51979584, -0.34601322,  0.00521953,  0.06540658, -0.34737304,\n",
       "         0.50463426,  0.17586097, -0.26497522,  0.0867988 , -0.20359622,\n",
       "         0.12936081,  0.13298497, -0.47706544, -0.28716394, -0.22102141,\n",
       "         0.27022922,  0.0960569 , -0.13024531, -0.01491956,  0.31661355,\n",
       "        -0.08623952,  0.11949179,  0.37002984,  0.04515959, -0.5178413 ,\n",
       "         0.37574825, -0.05348662,  0.02480032,  0.29294536,  0.16709231],\n",
       "       dtype=float32),\n",
       " array([-0.8726924 , -0.7852752 , -0.88034016,  0.32392764, -0.48204255,\n",
       "         0.5887243 ,  1.0983269 , -0.22771533,  0.12200405, -0.4889673 ,\n",
       "         0.7696372 , -0.38036168, -0.44669825, -0.670529  , -0.12345836,\n",
       "        -0.47366992, -1.0680487 , -0.08474397, -0.49296084,  0.5695352 ,\n",
       "        -0.33240998,  0.28782237, -1.2504988 ,  1.1308508 ,  0.02802797,\n",
       "         0.45757854, -0.24883501,  0.28041053,  0.3107488 , -0.6532191 ,\n",
       "         0.05441967,  0.02530453, -0.1405405 ,  0.39020386, -0.32560328,\n",
       "         0.3858028 , -0.1137621 , -0.47113323, -0.39507943, -0.5440084 ,\n",
       "        -0.6149354 ,  0.32180882, -0.04843096, -0.22712648, -0.55488205,\n",
       "         0.3705781 ,  1.0324965 ,  0.49267226, -0.04494525, -0.8603857 ,\n",
       "        -0.68799615,  1.1421484 ,  0.3447083 , -0.4776329 , -0.466724  ,\n",
       "         0.31599537, -0.00569149,  0.66487026, -0.47695547, -0.4702213 ,\n",
       "        -0.4790602 ,  0.1830431 , -0.21027863, -0.54878795, -0.08556315,\n",
       "        -0.7621935 , -0.7356797 , -0.63223433, -0.00433071,  0.21970102,\n",
       "         0.7465112 ,  0.6333717 ,  0.38990274, -0.40013197, -0.29051328,\n",
       "         0.45381057,  1.0802699 , -0.19765414, -0.28543332, -0.47358984,\n",
       "         1.015377  ,  0.43514776, -0.7480237 , -0.5467328 , -0.11841171,\n",
       "         0.16783322,  0.20948759,  0.50980073,  0.3163121 , -0.38427076,\n",
       "        -0.97227126,  0.1881554 ,  0.03305099,  0.6978745 , -0.25098202,\n",
       "         0.11895673,  0.78393596, -0.06808041, -0.2565844 ,  0.79706514],\n",
       "       dtype=float32))"
      ]
     },
     "execution_count": 57,
     "metadata": {},
     "output_type": "execute_result"
    }
   ],
   "source": [
    "# Each document (i.e. complaint) is now a 300-dimensional vector.\n",
    "# Similar complaints should have similar vector representation.\n",
    "X_train[:3]"
   ]
  },
  {
   "cell_type": "markdown",
   "metadata": {},
   "source": [
    "Train the logistic regression model using the Doc2Vec embeddings as inputs and check out the results."
   ]
  },
  {
   "cell_type": "code",
   "execution_count": 58,
   "metadata": {
    "id": "j0fd2XSFVz1r"
   },
   "outputs": [
    {
     "name": "stdout",
     "output_type": "stream",
     "text": [
      "0.6704\n"
     ]
    },
    {
     "data": {
      "text/plain": [
       "<sklearn.metrics._plot.confusion_matrix.ConfusionMatrixDisplay at 0x7fba47aa5900>"
      ]
     },
     "execution_count": 58,
     "metadata": {},
     "output_type": "execute_result"
    },
    {
     "data": {
      "image/png": "[encoded data removed]",
      "text/plain": [
       "<Figure size 640x480 with 2 Axes>"
      ]
     },
     "metadata": {},
     "output_type": "display_data"
    }
   ],
   "source": [
    "# Fit model on training set - same algorithm as before\n",
    "logreg = LogisticRegression(max_iter=1000, solver='lbfgs')\n",
    "logreg.fit(X_train, y_train)\n",
    "\n",
    "# Predictions\n",
    "y_pred = logreg.predict(X_test)\n",
    "\n",
    "# Evaluate model\n",
    "print(round(accuracy_score(y_test, y_pred), 4))\n",
    "conf_mat = confusion_matrix(y_test, y_pred)\n",
    "conf_mat = ConfusionMatrixDisplay(conf_mat)\n",
    "\n",
    "conf_mat.plot()"
   ]
  },
  {
   "cell_type": "markdown",
   "metadata": {},
   "source": [
    "### 5. Word2Vec embeddings and Logistic Regression\n",
    "We can also represent the texts using the average of the word2vec vectors for the words comprising it, using pretrained word2vec embeddings.\n",
    "\n",
    "Note: Downloading the pretrained vectors takes a while."
   ]
  },
  {
   "cell_type": "code",
   "execution_count": 59,
   "metadata": {},
   "outputs": [],
   "source": [
    "# Use an average of the word vectors in the text to represent the text\n",
    "# download pretrained word2vec embeddings\n",
    "import gensim.downloader\n",
    "w2v_pretrained = gensim.downloader.load('word2vec-google-news-300')\n",
    "\n",
    "\n",
    "def get_mean_vector(word2vec_model, words):\n",
    "    # remove out-of-vocabulary words\n",
    "    words = [word for word in words if word in word2vec_model.key_to_index.keys()]\n",
    "    if len(words) >= 1:\n",
    "        return np.mean(word2vec_model[words], axis=0)\n",
    "    else:\n",
    "        # if a text has only OOV words it gets a vector of zeros\n",
    "        return np.zeros(300, dtype=float) \n",
    "    \n",
    "    \n",
    "# Create the X and y for learning\n",
    "def vec_for_learning(word2vec_model, tagged_docs):\n",
    "    sents = tagged_docs.values\n",
    "    targets, regressors = zip(*[(doc.tags[0], get_mean_vector(word2vec_model, doc.words)) for doc in sents])\n",
    "    return targets, regressors\n",
    "\n",
    "y_train, X_train = vec_for_learning(w2v_pretrained, train_tagged)\n",
    "y_test, X_test = vec_for_learning(w2v_pretrained, test_tagged)"
   ]
  },
  {
   "cell_type": "markdown",
   "metadata": {},
   "source": [
    "Train a logistic regression model using the averaged pretrained Word2Vec embeddings and check out the results."
   ]
  },
  {
   "cell_type": "code",
   "execution_count": 60,
   "metadata": {},
   "outputs": [
    {
     "name": "stdout",
     "output_type": "stream",
     "text": [
      "0.672\n"
     ]
    },
    {
     "data": {
      "text/plain": [
       "<sklearn.metrics._plot.confusion_matrix.ConfusionMatrixDisplay at 0x7fba47eff9d0>"
      ]
     },
     "execution_count": 60,
     "metadata": {},
     "output_type": "execute_result"
    },
    {
     "data": {
      "image/png": "[encoded data removed]",
      "text/plain": [
       "<Figure size 640x480 with 2 Axes>"
      ]
     },
     "metadata": {},
     "output_type": "display_data"
    }
   ],
   "source": [
    "# Fit model on training set - same algorithm as before\n",
    "logreg = LogisticRegression(max_iter=1000, solver='lbfgs')\n",
    "logreg.fit(X_train, y_train)\n",
    "\n",
    "# Predictions\n",
    "y_pred = logreg.predict(X_test)\n",
    "\n",
    "# Evaluate model\n",
    "print(round(accuracy_score(y_test, y_pred), 4))\n",
    "conf_mat = confusion_matrix(y_test, y_pred)\n",
    "conf_mat = ConfusionMatrixDisplay(conf_mat)\n",
    "\n",
    "conf_mat.plot()\n"
   ]
  },
  {
   "cell_type": "markdown",
   "metadata": {},
   "source": [
    "### Optional\n",
    "\n",
    "As an exercise, you can try what we showed in this notebook on another text dataset. You could for example use the IMDB dataset available here: https://www.kaggle.com/code/avnika22/imdb-perform-sentiment-analysis-with-scikit-learn/data\n",
    "where the goal is sentiment classification of movie reviews: classify the movie reviews into positive (denoted 1) or negative (denoted 0).   "
   ]
  },
  {
   "cell_type": "markdown",
   "metadata": {
    "id": "k_jHZwiHjnu_"
   },
   "source": [
    "## References\n",
    "* https://towardsdatascience.com/multi-class-text-classification-with-doc2vec-logistic-regression-9da9947b43f4\n",
    "* https://towardsdatascience.com/multi-class-text-classification-with-scikit-learn-12f1e60e0a9f"
   ]
  },
  {
   "cell_type": "code",
   "execution_count": null,
   "metadata": {
    "id": "yFt-MD98E1E4"
   },
   "outputs": [],
   "source": []
  }
 ],
 "metadata": {
  "colab": {
   "collapsed_sections": [
    "h0VsVUPLT4Tn",
    "RXlVy05IUC-D",
    "1QZOutDwsYij"
   ],
   "include_colab_link": true,
   "name": "Text_Analytics.ipynb",
   "provenance": []
  },
  "kernelspec": {
   "display_name": "Python 3 (ipykernel)",
   "language": "python",
   "name": "python3"
  },
  "language_info": {
   "codemirror_mode": {
    "name": "ipython",
    "version": 3
   },
   "file_extension": ".py",
   "mimetype": "text/x-python",
   "name": "python",
   "nbconvert_exporter": "python",
   "pygments_lexer": "ipython3",
   "version": "3.10.13"
  }
 },
 "nbformat": 4,
 "nbformat_minor": 1
}
